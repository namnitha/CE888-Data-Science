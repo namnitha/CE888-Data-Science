{
  "nbformat": 4,
  "nbformat_minor": 0,
  "metadata": {
    "colab": {
      "name": "Exercise2_NewDataset_CNN.ipynb",
      "provenance": [],
      "authorship_tag": "ABX9TyNGTv32lSzRyHxLucR+wAdA",
      "include_colab_link": true
    },
    "kernelspec": {
      "name": "python3",
      "display_name": "Python 3"
    },
    "accelerator": "GPU"
  },
  "cells": [
    {
      "cell_type": "markdown",
      "metadata": {
        "id": "view-in-github",
        "colab_type": "text"
      },
      "source": [
        "<a href=\"https://colab.research.google.com/github/namnitha/CE888-Data-Science/blob/master/Lab7/Exercise2_NewDataset_CNN.ipynb\" target=\"_parent\"><img src=\"https://colab.research.google.com/assets/colab-badge.svg\" alt=\"Open In Colab\"/></a>"
      ]
    },
    {
      "cell_type": "code",
      "metadata": {
        "id": "gp0F7oWZgPUO",
        "colab_type": "code",
        "outputId": "dd79d185-d016-4a0a-e7fd-a0b2f5d322e8",
        "colab": {
          "base_uri": "https://localhost:8080/",
          "height": 68
        }
      },
      "source": [
        "import os\n",
        "\n",
        "os.environ['KAGGLE_USERNAME'] = \"namnitha\" \n",
        "\n",
        "os.environ['KAGGLE_KEY'] = \"90ceb5b09eaa184f556d4577eb017b49\" \n",
        "\n",
        "!kaggle datasets download -d pmigdal/alien-vs-predator-images"
      ],
      "execution_count": 0,
      "outputs": [
        {
          "output_type": "stream",
          "text": [
            "Downloading alien-vs-predator-images.zip to /content\n",
            "  0% 0.00/14.1M [00:00<?, ?B/s]\n",
            "100% 14.1M/14.1M [00:00<00:00, 129MB/s]\n"
          ],
          "name": "stdout"
        }
      ]
    },
    {
      "cell_type": "code",
      "metadata": {
        "id": "McoCQdH7hkxL",
        "colab_type": "code",
        "outputId": "d7216d1b-b37b-476b-e249-6f20c7e8d62a",
        "colab": {
          "base_uri": "https://localhost:8080/",
          "height": 34
        }
      },
      "source": [
        "!ls"
      ],
      "execution_count": 0,
      "outputs": [
        {
          "output_type": "stream",
          "text": [
            "alien-vs-predator-images.zip  sample_data\n"
          ],
          "name": "stdout"
        }
      ]
    },
    {
      "cell_type": "code",
      "metadata": {
        "id": "QxcRYunwhfBL",
        "colab_type": "code",
        "outputId": "c451db44-7871-46b0-b115-65af1076cdc2",
        "colab": {
          "base_uri": "https://localhost:8080/",
          "height": 34
        }
      },
      "source": [
        "from zipfile import ZipFile\n",
        "\n",
        "file_name = \"/content/alien-vs-predator-images.zip\"\n",
        "\n",
        "with ZipFile(file_name, 'r') as zip:\n",
        "  zip.extractall()\n",
        "  print('done')"
      ],
      "execution_count": 0,
      "outputs": [
        {
          "output_type": "stream",
          "text": [
            "done\n"
          ],
          "name": "stdout"
        }
      ]
    },
    {
      "cell_type": "code",
      "metadata": {
        "id": "9lJOHxHqhe7y",
        "colab_type": "code",
        "outputId": "49af498e-32b0-41e0-ae61-ef82639a0b4f",
        "colab": {
          "base_uri": "https://localhost:8080/",
          "height": 763
        }
      },
      "source": [
        "from keras import layers\n",
        "from keras import models\n",
        "\n",
        "model = models.Sequential()\n",
        "model.add(layers.Conv2D(32, (3, 3), activation='relu', input_shape=(150, 150, 3)))\n",
        "model.add(layers.MaxPooling2D((2, 2)))\n",
        "model.add(layers.Conv2D(64, (3, 3), activation='relu'))\n",
        "model.add(layers.MaxPooling2D((2, 2)))\n",
        "model.add(layers.Conv2D(128, (3, 3), activation='relu'))\n",
        "model.add(layers.MaxPooling2D((2, 2)))\n",
        "model.add(layers.Conv2D(128, (3, 3), activation='relu'))\n",
        "model.add(layers.MaxPooling2D((2, 2)))\n",
        "model.add(layers.Flatten())\n",
        "model.add(layers.Dense(512, activation='relu'))\n",
        "model.add(layers.Dense(1, activation='sigmoid'))\n",
        "model.summary()"
      ],
      "execution_count": 0,
      "outputs": [
        {
          "output_type": "stream",
          "text": [
            "Using TensorFlow backend.\n"
          ],
          "name": "stderr"
        },
        {
          "output_type": "display_data",
          "data": {
            "text/html": [
              "<p style=\"color: red;\">\n",
              "The default version of TensorFlow in Colab will soon switch to TensorFlow 2.x.<br>\n",
              "We recommend you <a href=\"https://www.tensorflow.org/guide/migrate\" target=\"_blank\">upgrade</a> now \n",
              "or ensure your notebook will continue to use TensorFlow 1.x via the <code>%tensorflow_version 1.x</code> magic:\n",
              "<a href=\"https://colab.research.google.com/notebooks/tensorflow_version.ipynb\" target=\"_blank\">more info</a>.</p>\n"
            ],
            "text/plain": [
              "<IPython.core.display.HTML object>"
            ]
          },
          "metadata": {
            "tags": []
          }
        },
        {
          "output_type": "stream",
          "text": [
            "WARNING:tensorflow:From /usr/local/lib/python3.6/dist-packages/keras/backend/tensorflow_backend.py:66: The name tf.get_default_graph is deprecated. Please use tf.compat.v1.get_default_graph instead.\n",
            "\n",
            "WARNING:tensorflow:From /usr/local/lib/python3.6/dist-packages/keras/backend/tensorflow_backend.py:541: The name tf.placeholder is deprecated. Please use tf.compat.v1.placeholder instead.\n",
            "\n",
            "WARNING:tensorflow:From /usr/local/lib/python3.6/dist-packages/keras/backend/tensorflow_backend.py:4432: The name tf.random_uniform is deprecated. Please use tf.random.uniform instead.\n",
            "\n",
            "WARNING:tensorflow:From /usr/local/lib/python3.6/dist-packages/keras/backend/tensorflow_backend.py:4267: The name tf.nn.max_pool is deprecated. Please use tf.nn.max_pool2d instead.\n",
            "\n",
            "Model: \"sequential_1\"\n",
            "_________________________________________________________________\n",
            "Layer (type)                 Output Shape              Param #   \n",
            "=================================================================\n",
            "conv2d_1 (Conv2D)            (None, 148, 148, 32)      896       \n",
            "_________________________________________________________________\n",
            "max_pooling2d_1 (MaxPooling2 (None, 74, 74, 32)        0         \n",
            "_________________________________________________________________\n",
            "conv2d_2 (Conv2D)            (None, 72, 72, 64)        18496     \n",
            "_________________________________________________________________\n",
            "max_pooling2d_2 (MaxPooling2 (None, 36, 36, 64)        0         \n",
            "_________________________________________________________________\n",
            "conv2d_3 (Conv2D)            (None, 34, 34, 128)       73856     \n",
            "_________________________________________________________________\n",
            "max_pooling2d_3 (MaxPooling2 (None, 17, 17, 128)       0         \n",
            "_________________________________________________________________\n",
            "conv2d_4 (Conv2D)            (None, 15, 15, 128)       147584    \n",
            "_________________________________________________________________\n",
            "max_pooling2d_4 (MaxPooling2 (None, 7, 7, 128)         0         \n",
            "_________________________________________________________________\n",
            "flatten_1 (Flatten)          (None, 6272)              0         \n",
            "_________________________________________________________________\n",
            "dense_1 (Dense)              (None, 512)               3211776   \n",
            "_________________________________________________________________\n",
            "dense_2 (Dense)              (None, 1)                 513       \n",
            "=================================================================\n",
            "Total params: 3,453,121\n",
            "Trainable params: 3,453,121\n",
            "Non-trainable params: 0\n",
            "_________________________________________________________________\n"
          ],
          "name": "stdout"
        }
      ]
    },
    {
      "cell_type": "code",
      "metadata": {
        "id": "9fXJAGishe5C",
        "colab_type": "code",
        "outputId": "de86e697-c881-45b4-8fd7-6638f32e19f6",
        "colab": {
          "base_uri": "https://localhost:8080/",
          "height": 156
        }
      },
      "source": [
        "from keras import optimizers\n",
        "model.compile(loss='binary_crossentropy', \n",
        "              optimizer=optimizers.RMSprop(lr=1e-4),\n",
        "              metrics=['acc'])"
      ],
      "execution_count": 0,
      "outputs": [
        {
          "output_type": "stream",
          "text": [
            "WARNING:tensorflow:From /usr/local/lib/python3.6/dist-packages/keras/optimizers.py:793: The name tf.train.Optimizer is deprecated. Please use tf.compat.v1.train.Optimizer instead.\n",
            "\n",
            "WARNING:tensorflow:From /usr/local/lib/python3.6/dist-packages/keras/backend/tensorflow_backend.py:3657: The name tf.log is deprecated. Please use tf.math.log instead.\n",
            "\n",
            "WARNING:tensorflow:From /usr/local/lib/python3.6/dist-packages/tensorflow_core/python/ops/nn_impl.py:183: where (from tensorflow.python.ops.array_ops) is deprecated and will be removed in a future version.\n",
            "Instructions for updating:\n",
            "Use tf.where in 2.0, which has the same broadcast rule as np.where\n"
          ],
          "name": "stdout"
        }
      ]
    },
    {
      "cell_type": "code",
      "metadata": {
        "id": "j-AeqHmNmGjW",
        "colab_type": "code",
        "colab": {}
      },
      "source": [
        "train_dir = \"/content/data/train\"\n",
        "validation_dir = '/content/data/validation'"
      ],
      "execution_count": 0,
      "outputs": []
    },
    {
      "cell_type": "code",
      "metadata": {
        "id": "hOlO1lBUhe2S",
        "colab_type": "code",
        "outputId": "84dfd534-2b3f-442d-e37e-c7af06a61156",
        "colab": {
          "base_uri": "https://localhost:8080/",
          "height": 51
        }
      },
      "source": [
        "from keras.preprocessing.image import ImageDataGenerator\n",
        "\n",
        "train_datagen = ImageDataGenerator(rescale=1./255)\n",
        "test_datagen = ImageDataGenerator(rescale=1./255)\n",
        "\n",
        "train_generator = train_datagen.flow_from_directory(train_dir,\n",
        "                                                    target_size=(150, 150), \n",
        "                                                    batch_size=20,\n",
        "                                                    class_mode='binary')\n",
        "\n",
        "validation_generator = test_datagen.flow_from_directory(validation_dir,\n",
        "                                                        target_size=(150, 150),\n",
        "                                                        batch_size=20,\n",
        "                                                        class_mode='binary')"
      ],
      "execution_count": 0,
      "outputs": [
        {
          "output_type": "stream",
          "text": [
            "Found 694 images belonging to 2 classes.\n",
            "Found 200 images belonging to 2 classes.\n"
          ],
          "name": "stdout"
        }
      ]
    },
    {
      "cell_type": "code",
      "metadata": {
        "id": "MFrqCZLvmBm1",
        "colab_type": "code",
        "outputId": "e4475943-0e25-45d8-b8ab-117ad8825a75",
        "colab": {
          "base_uri": "https://localhost:8080/",
          "height": 1000
        }
      },
      "source": [
        "history = model.fit_generator(train_generator,\n",
        "                              steps_per_epoch=100,\n",
        "                              epochs=30,\n",
        "                              validation_data=validation_generator,\n",
        "                              validation_steps=10)"
      ],
      "execution_count": 0,
      "outputs": [
        {
          "output_type": "stream",
          "text": [
            "WARNING:tensorflow:From /usr/local/lib/python3.6/dist-packages/keras/backend/tensorflow_backend.py:1033: The name tf.assign_add is deprecated. Please use tf.compat.v1.assign_add instead.\n",
            "\n",
            "WARNING:tensorflow:From /usr/local/lib/python3.6/dist-packages/keras/backend/tensorflow_backend.py:1020: The name tf.assign is deprecated. Please use tf.compat.v1.assign instead.\n",
            "\n",
            "WARNING:tensorflow:From /usr/local/lib/python3.6/dist-packages/keras/backend/tensorflow_backend.py:3005: The name tf.Session is deprecated. Please use tf.compat.v1.Session instead.\n",
            "\n",
            "Epoch 1/30\n",
            "WARNING:tensorflow:From /usr/local/lib/python3.6/dist-packages/keras/backend/tensorflow_backend.py:190: The name tf.get_default_session is deprecated. Please use tf.compat.v1.get_default_session instead.\n",
            "\n",
            "WARNING:tensorflow:From /usr/local/lib/python3.6/dist-packages/keras/backend/tensorflow_backend.py:197: The name tf.ConfigProto is deprecated. Please use tf.compat.v1.ConfigProto instead.\n",
            "\n",
            "WARNING:tensorflow:From /usr/local/lib/python3.6/dist-packages/keras/backend/tensorflow_backend.py:207: The name tf.global_variables is deprecated. Please use tf.compat.v1.global_variables instead.\n",
            "\n",
            "WARNING:tensorflow:From /usr/local/lib/python3.6/dist-packages/keras/backend/tensorflow_backend.py:216: The name tf.is_variable_initialized is deprecated. Please use tf.compat.v1.is_variable_initialized instead.\n",
            "\n",
            "WARNING:tensorflow:From /usr/local/lib/python3.6/dist-packages/keras/backend/tensorflow_backend.py:223: The name tf.variables_initializer is deprecated. Please use tf.compat.v1.variables_initializer instead.\n",
            "\n",
            "100/100 [==============================] - 19s 190ms/step - loss: 0.6468 - acc: 0.6191 - val_loss: 0.5901 - val_acc: 0.6600\n",
            "Epoch 2/30\n",
            "100/100 [==============================] - 3s 32ms/step - loss: 0.5420 - acc: 0.7237 - val_loss: 0.5152 - val_acc: 0.7450\n",
            "Epoch 3/30\n",
            "100/100 [==============================] - 3s 31ms/step - loss: 0.4661 - acc: 0.7841 - val_loss: 0.4830 - val_acc: 0.7900\n",
            "Epoch 4/30\n",
            "100/100 [==============================] - 3s 33ms/step - loss: 0.4117 - acc: 0.8136 - val_loss: 0.4898 - val_acc: 0.7300\n",
            "Epoch 5/30\n",
            "100/100 [==============================] - 3s 33ms/step - loss: 0.3657 - acc: 0.8479 - val_loss: 0.6399 - val_acc: 0.6850\n",
            "Epoch 6/30\n",
            "100/100 [==============================] - 3s 33ms/step - loss: 0.3131 - acc: 0.8654 - val_loss: 0.4558 - val_acc: 0.7800\n",
            "Epoch 7/30\n",
            "100/100 [==============================] - 3s 34ms/step - loss: 0.2691 - acc: 0.8851 - val_loss: 0.4617 - val_acc: 0.7800\n",
            "Epoch 8/30\n",
            "100/100 [==============================] - 3s 33ms/step - loss: 0.2121 - acc: 0.9250 - val_loss: 0.5102 - val_acc: 0.7800\n",
            "Epoch 9/30\n",
            "100/100 [==============================] - 3s 34ms/step - loss: 0.1628 - acc: 0.9470 - val_loss: 0.4954 - val_acc: 0.7850\n",
            "Epoch 10/30\n",
            "100/100 [==============================] - 3s 31ms/step - loss: 0.1324 - acc: 0.9628 - val_loss: 0.5711 - val_acc: 0.7850\n",
            "Epoch 11/30\n",
            "100/100 [==============================] - 3s 35ms/step - loss: 0.0873 - acc: 0.9790 - val_loss: 0.6526 - val_acc: 0.7450\n",
            "Epoch 12/30\n",
            "100/100 [==============================] - 3s 34ms/step - loss: 0.0653 - acc: 0.9838 - val_loss: 0.6271 - val_acc: 0.7600\n",
            "Epoch 13/30\n",
            "100/100 [==============================] - 3s 34ms/step - loss: 0.0541 - acc: 0.9865 - val_loss: 0.6266 - val_acc: 0.7850\n",
            "Epoch 14/30\n",
            "100/100 [==============================] - 3s 33ms/step - loss: 0.0319 - acc: 0.9943 - val_loss: 0.7300 - val_acc: 0.7750\n",
            "Epoch 15/30\n",
            "100/100 [==============================] - 3s 33ms/step - loss: 0.0245 - acc: 0.9950 - val_loss: 0.8195 - val_acc: 0.7700\n",
            "Epoch 16/30\n",
            "100/100 [==============================] - 3s 33ms/step - loss: 0.0190 - acc: 0.9955 - val_loss: 0.9370 - val_acc: 0.7550\n",
            "Epoch 17/30\n",
            "100/100 [==============================] - 3s 32ms/step - loss: 0.0137 - acc: 0.9970 - val_loss: 1.1481 - val_acc: 0.7550\n",
            "Epoch 18/30\n",
            "100/100 [==============================] - 3s 34ms/step - loss: 0.0226 - acc: 0.9940 - val_loss: 0.9705 - val_acc: 0.8100\n",
            "Epoch 19/30\n",
            "100/100 [==============================] - 3s 33ms/step - loss: 0.0105 - acc: 0.9975 - val_loss: 1.0393 - val_acc: 0.7750\n",
            "Epoch 20/30\n",
            "100/100 [==============================] - 3s 32ms/step - loss: 0.0133 - acc: 0.9965 - val_loss: 1.1694 - val_acc: 0.7700\n",
            "Epoch 21/30\n",
            "100/100 [==============================] - 3s 33ms/step - loss: 0.0107 - acc: 0.9960 - val_loss: 1.2303 - val_acc: 0.7800\n",
            "Epoch 22/30\n",
            "100/100 [==============================] - 3s 33ms/step - loss: 0.0101 - acc: 0.9980 - val_loss: 1.2588 - val_acc: 0.7700\n",
            "Epoch 23/30\n",
            "100/100 [==============================] - 3s 32ms/step - loss: 0.0064 - acc: 0.9980 - val_loss: 1.3060 - val_acc: 0.7700\n",
            "Epoch 24/30\n",
            "100/100 [==============================] - 3s 33ms/step - loss: 0.0045 - acc: 0.9985 - val_loss: 1.3756 - val_acc: 0.7550\n",
            "Epoch 25/30\n",
            "100/100 [==============================] - 3s 34ms/step - loss: 0.0176 - acc: 0.9950 - val_loss: 1.2764 - val_acc: 0.7700\n",
            "Epoch 26/30\n",
            "100/100 [==============================] - 3s 32ms/step - loss: 0.0029 - acc: 0.9990 - val_loss: 1.4411 - val_acc: 0.7550\n",
            "Epoch 27/30\n",
            "100/100 [==============================] - 3s 33ms/step - loss: 0.0120 - acc: 0.9970 - val_loss: 1.3555 - val_acc: 0.7750\n",
            "Epoch 28/30\n",
            "100/100 [==============================] - 3s 32ms/step - loss: 0.0071 - acc: 0.9970 - val_loss: 1.3407 - val_acc: 0.7700\n",
            "Epoch 29/30\n",
            "100/100 [==============================] - 3s 34ms/step - loss: 0.0157 - acc: 0.9965 - val_loss: 1.4134 - val_acc: 0.7800\n",
            "Epoch 30/30\n",
            "100/100 [==============================] - 3s 34ms/step - loss: 8.2548e-05 - acc: 1.0000 - val_loss: 1.6410 - val_acc: 0.7600\n"
          ],
          "name": "stdout"
        }
      ]
    },
    {
      "cell_type": "code",
      "metadata": {
        "id": "Y6UeTADYmBjw",
        "colab_type": "code",
        "outputId": "5f4d0cd1-3e0a-41ed-d3df-204e34985238",
        "colab": {
          "base_uri": "https://localhost:8080/",
          "height": 545
        }
      },
      "source": [
        "model.save('Alien_vs_Predator_1.h5')\n",
        "\n",
        "import matplotlib.pyplot as plt\n",
        "\n",
        "acc = history.history['acc']\n",
        "val_acc = history.history['val_acc']\n",
        "loss = history.history['loss']\n",
        "val_loss = history.history['val_loss']\n",
        "\n",
        "epochs = range(1, len(acc) + 1)\n",
        "\n",
        "plt.plot(epochs, acc, 'bo', label='Training acc')\n",
        "plt.plot(epochs, val_acc, 'b', label='Validation acc')\n",
        "plt.title('Training and validation accuracy')\n",
        "plt.legend()\n",
        "\n",
        "plt.figure()\n",
        "\n",
        "plt.plot(epochs, loss, 'bo', label='Training loss')\n",
        "plt.plot(epochs, val_loss, 'b', label='Validation loss')\n",
        "plt.title('Training and validation loss')\n",
        "plt.legend()\n",
        "\n",
        "plt.show()"
      ],
      "execution_count": 0,
      "outputs": [
        {
          "output_type": "display_data",
          "data": {
            "image/png": "[encoded data removed]",
            "text/plain": [
              "<Figure size 432x288 with 1 Axes>"
            ]
          },
          "metadata": {
            "tags": []
          }
        },
        {
          "output_type": "display_data",
          "data": {
            "image/png": "[encoded data removed]",
            "text/plain": [
              "<Figure size 432x288 with 1 Axes>"
            ]
          },
          "metadata": {
            "tags": []
          }
        }
      ]
    },
    {
      "cell_type": "markdown",
      "metadata": {
        "id": "S7V59fUcnfue",
        "colab_type": "text"
      },
      "source": [
        "##CNN with dropout\n"
      ]
    },
    {
      "cell_type": "code",
      "metadata": {
        "id": "vs7pAz_fhezL",
        "colab_type": "code",
        "outputId": "a48de8c4-8103-41a1-f9af-827183fc2b68",
        "colab": {
          "base_uri": "https://localhost:8080/",
          "height": 122
        }
      },
      "source": [
        "model = models.Sequential()\n",
        "model.add(layers.Conv2D(32, (3, 3), activation='relu',\n",
        "input_shape=(150, 150, 3)))\n",
        "model.add(layers.MaxPooling2D((2, 2)))\n",
        "model.add(layers.Conv2D(64, (3, 3), activation='relu'))\n",
        "model.add(layers.MaxPooling2D((2, 2)))\n",
        "model.add(layers.Conv2D(128, (3, 3), activation='relu'))\n",
        "model.add(layers.MaxPooling2D((2, 2)))\n",
        "model.add(layers.Conv2D(128, (3, 3), activation='relu'))\n",
        "model.add(layers.MaxPooling2D((2, 2)))\n",
        "model.add(layers.Flatten())\n",
        "model.add(layers.Dropout(0.5))\n",
        "model.add(layers.Dense(512, activation='relu'))\n",
        "model.add(layers.Dense(1, activation='sigmoid'))\n",
        "\n",
        "model.compile(loss='binary_crossentropy',\n",
        "              optimizer=optimizers.RMSprop(lr=1e-4),\n",
        "              metrics=['acc'])"
      ],
      "execution_count": 0,
      "outputs": [
        {
          "output_type": "stream",
          "text": [
            "WARNING:tensorflow:From /usr/local/lib/python3.6/dist-packages/keras/backend/tensorflow_backend.py:148: The name tf.placeholder_with_default is deprecated. Please use tf.compat.v1.placeholder_with_default instead.\n",
            "\n",
            "WARNING:tensorflow:From /usr/local/lib/python3.6/dist-packages/keras/backend/tensorflow_backend.py:3733: calling dropout (from tensorflow.python.ops.nn_ops) with keep_prob is deprecated and will be removed in a future version.\n",
            "Instructions for updating:\n",
            "Please use `rate` instead of `keep_prob`. Rate should be set to `rate = 1 - keep_prob`.\n"
          ],
          "name": "stdout"
        }
      ]
    },
    {
      "cell_type": "code",
      "metadata": {
        "id": "YbCHIedIhev8",
        "colab_type": "code",
        "outputId": "ced01b86-7827-4897-8153-a742a007c9dd",
        "colab": {
          "base_uri": "https://localhost:8080/",
          "height": 751
        }
      },
      "source": [
        "train_datagen = ImageDataGenerator(rescale=1./255,\n",
        "                                   rotation_range=40,\n",
        "                                   width_shift_range=0.2,\n",
        "                                   height_shift_range=0.2,\n",
        "                                   shear_range=0.2,\n",
        "                                   zoom_range=0.2,\n",
        "                                   horizontal_flip=True,)\n",
        "\n",
        "test_datagen = ImageDataGenerator(rescale=1./255)\n",
        "\n",
        "train_generator = train_datagen.flow_from_directory(train_dir,\n",
        "                                                    target_size=(150, 150),\n",
        "                                                    batch_size=32,\n",
        "                                                    class_mode='binary')\n",
        "\n",
        "validation_generator = test_datagen.flow_from_directory(validation_dir,\n",
        "                                                        target_size=(150, 150),\n",
        "                                                        batch_size=32,\n",
        "                                                        class_mode='binary')\n",
        "\n",
        "history = model.fit_generator(train_generator,\n",
        "                              steps_per_epoch=100,\n",
        "                              epochs=20,\n",
        "                              validation_data=validation_generator,\n",
        "                              validation_steps=50)"
      ],
      "execution_count": 0,
      "outputs": [
        {
          "output_type": "stream",
          "text": [
            "Found 694 images belonging to 2 classes.\n",
            "Found 200 images belonging to 2 classes.\n",
            "Epoch 1/20\n",
            "100/100 [==============================] - 22s 215ms/step - loss: 0.6355 - acc: 0.6266 - val_loss: 0.6731 - val_acc: 0.5628\n",
            "Epoch 2/20\n",
            "100/100 [==============================] - 19s 193ms/step - loss: 0.5884 - acc: 0.6824 - val_loss: 0.7806 - val_acc: 0.5824\n",
            "Epoch 3/20\n",
            "100/100 [==============================] - 19s 194ms/step - loss: 0.5625 - acc: 0.7089 - val_loss: 0.5902 - val_acc: 0.6369\n",
            "Epoch 4/20\n",
            "100/100 [==============================] - 20s 197ms/step - loss: 0.5301 - acc: 0.7373 - val_loss: 0.5325 - val_acc: 0.6892\n",
            "Epoch 5/20\n",
            "100/100 [==============================] - 19s 190ms/step - loss: 0.5144 - acc: 0.7461 - val_loss: 0.5568 - val_acc: 0.6885\n",
            "Epoch 6/20\n",
            "100/100 [==============================] - 20s 203ms/step - loss: 0.5063 - acc: 0.7532 - val_loss: 0.5206 - val_acc: 0.7151\n",
            "Epoch 7/20\n",
            "100/100 [==============================] - 19s 189ms/step - loss: 0.4903 - acc: 0.7529 - val_loss: 0.6727 - val_acc: 0.6555\n",
            "Epoch 8/20\n",
            "100/100 [==============================] - 20s 203ms/step - loss: 0.4779 - acc: 0.7704 - val_loss: 0.5252 - val_acc: 0.7172\n",
            "Epoch 9/20\n",
            "100/100 [==============================] - 19s 187ms/step - loss: 0.4610 - acc: 0.7804 - val_loss: 0.7062 - val_acc: 0.6592\n",
            "Epoch 10/20\n",
            "100/100 [==============================] - 21s 206ms/step - loss: 0.4543 - acc: 0.7874 - val_loss: 0.5345 - val_acc: 0.7374\n",
            "Epoch 11/20\n",
            "100/100 [==============================] - 19s 193ms/step - loss: 0.4487 - acc: 0.7893 - val_loss: 0.5388 - val_acc: 0.7367\n",
            "Epoch 12/20\n",
            "100/100 [==============================] - 19s 192ms/step - loss: 0.4432 - acc: 0.7998 - val_loss: 0.6317 - val_acc: 0.7116\n",
            "Epoch 13/20\n",
            "100/100 [==============================] - 19s 195ms/step - loss: 0.4294 - acc: 0.7963 - val_loss: 0.5748 - val_acc: 0.7360\n",
            "Epoch 14/20\n",
            "100/100 [==============================] - 19s 190ms/step - loss: 0.4317 - acc: 0.7918 - val_loss: 0.5568 - val_acc: 0.7607\n",
            "Epoch 15/20\n",
            "100/100 [==============================] - 20s 199ms/step - loss: 0.4099 - acc: 0.8122 - val_loss: 0.5656 - val_acc: 0.7465\n",
            "Epoch 16/20\n",
            "100/100 [==============================] - 19s 192ms/step - loss: 0.4070 - acc: 0.8093 - val_loss: 0.5893 - val_acc: 0.7507\n",
            "Epoch 17/20\n",
            "100/100 [==============================] - 20s 197ms/step - loss: 0.4144 - acc: 0.8013 - val_loss: 0.5434 - val_acc: 0.7521\n",
            "Epoch 18/20\n",
            "100/100 [==============================] - 19s 189ms/step - loss: 0.3999 - acc: 0.8214 - val_loss: 0.7109 - val_acc: 0.7277\n",
            "Epoch 19/20\n",
            "100/100 [==============================] - 21s 208ms/step - loss: 0.3881 - acc: 0.8204 - val_loss: 0.5805 - val_acc: 0.7444\n",
            "Epoch 20/20\n",
            "100/100 [==============================] - 18s 183ms/step - loss: 0.3856 - acc: 0.8333 - val_loss: 0.7451 - val_acc: 0.7325\n"
          ],
          "name": "stdout"
        }
      ]
    },
    {
      "cell_type": "code",
      "metadata": {
        "id": "NAZ9WO2Qn1rt",
        "colab_type": "code",
        "outputId": "ded96a36-2ab6-4cd2-fee9-758d92b41d7f",
        "colab": {
          "base_uri": "https://localhost:8080/",
          "height": 545
        }
      },
      "source": [
        "model.save('Alien_vs_Predator_2.h5')\n",
        "\n",
        "import matplotlib.pyplot as plt\n",
        "\n",
        "acc = history.history['acc']\n",
        "val_acc = history.history['val_acc']\n",
        "loss = history.history['loss']\n",
        "val_loss = history.history['val_loss']\n",
        "\n",
        "epochs = range(1, len(acc) + 1)\n",
        "\n",
        "plt.plot(epochs, acc, 'bo', label='Training acc')\n",
        "plt.plot(epochs, val_acc, 'b', label='Validation acc')\n",
        "plt.title('Training and validation accuracy')\n",
        "plt.legend()\n",
        "\n",
        "plt.figure()\n",
        "\n",
        "plt.plot(epochs, loss, 'bo', label='Training loss')\n",
        "plt.plot(epochs, val_loss, 'b', label='Validation loss')\n",
        "plt.title('Training and validation loss')\n",
        "plt.legend()\n",
        "\n",
        "plt.show()"
      ],
      "execution_count": 0,
      "outputs": [
        {
          "output_type": "display_data",
          "data": {
            "image/png": "[encoded data removed]",
            "text/plain": [
              "<Figure size 432x288 with 1 Axes>"
            ]
          },
          "metadata": {
            "tags": []
          }
        },
        {
          "output_type": "display_data",
          "data": {
            "image/png": "[encoded data removed]",
            "text/plain": [
              "<Figure size 432x288 with 1 Axes>"
            ]
          },
          "metadata": {
            "tags": []
          }
        }
      ]
    }
  ]
}