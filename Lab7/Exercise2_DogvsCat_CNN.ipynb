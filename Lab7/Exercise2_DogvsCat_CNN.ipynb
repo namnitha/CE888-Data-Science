{
  "nbformat": 4,
  "nbformat_minor": 0,
  "metadata": {
    "colab": {
      "name": "Exercise2_DogvsCat_CNN.ipynb",
      "provenance": [],
      "authorship_tag": "ABX9TyPHvPsw/MXnqU774iPX5Hbc",
      "include_colab_link": true
    },
    "kernelspec": {
      "name": "python3",
      "display_name": "Python 3"
    },
    "accelerator": "GPU"
  },
  "cells": [
    {
      "cell_type": "markdown",
      "metadata": {
        "id": "view-in-github",
        "colab_type": "text"
      },
      "source": [
        "<a href=\"https://colab.research.google.com/github/namnitha/CE888-Data-Science/blob/master/Lab7/Exercise2_DogvsCat_CNN.ipynb\" target=\"_parent\"><img src=\"https://colab.research.google.com/assets/colab-badge.svg\" alt=\"Open In Colab\"/></a>"
      ]
    },
    {
      "cell_type": "code",
      "metadata": {
        "id": "1YBt8PWWI3Vo",
        "colab_type": "code",
        "outputId": "b2359369-fb23-4fbe-94c8-65708e67b5a5",
        "colab": {
          "base_uri": "https://localhost:8080/",
          "height": 207
        }
      },
      "source": [
        "import os\n",
        "\n",
        "os.environ['KAGGLE_USERNAME'] = \"namnitha\" \n",
        "\n",
        "os.environ['KAGGLE_KEY'] = \"90ceb5b09eaa184f556d4577eb017b49\" \n",
        "\n",
        "!kaggle competitions download -c dogs-vs-cats"
      ],
      "execution_count": 2,
      "outputs": [
        {
          "output_type": "stream",
          "text": [
            "Warning: Looks like you're using an outdated API Version, please consider updating (server 1.5.6 / client 1.5.4)\n",
            "Downloading sampleSubmission.csv to /content\n",
            "  0% 0.00/86.8k [00:00<?, ?B/s]\n",
            "100% 86.8k/86.8k [00:00<00:00, 81.4MB/s]\n",
            "Downloading test1.zip to /content\n",
            " 92% 249M/271M [00:01<00:00, 188MB/s]\n",
            "100% 271M/271M [00:01<00:00, 165MB/s]\n",
            "Downloading train.zip to /content\n",
            " 98% 534M/543M [00:02<00:00, 195MB/s]\n",
            "100% 543M/543M [00:02<00:00, 197MB/s]\n"
          ],
          "name": "stdout"
        }
      ]
    },
    {
      "cell_type": "code",
      "metadata": {
        "id": "ZkyiGz1MKFva",
        "colab_type": "code",
        "outputId": "403dd67f-f378-4c63-d138-ad5854b90bd1",
        "colab": {
          "base_uri": "https://localhost:8080/",
          "height": 34
        }
      },
      "source": [
        "from zipfile import ZipFile\n",
        "\n",
        "file_name = \"/content/train.zip\"\n",
        "\n",
        "with ZipFile(file_name, 'r') as zip:\n",
        "  zip.extractall()\n",
        "  print('done')"
      ],
      "execution_count": 3,
      "outputs": [
        {
          "output_type": "stream",
          "text": [
            "done\n"
          ],
          "name": "stdout"
        }
      ]
    },
    {
      "cell_type": "code",
      "metadata": {
        "id": "tJpec8DFKFs7",
        "colab_type": "code",
        "outputId": "ce280e59-745d-4734-b269-e49cbc2da064",
        "colab": {
          "base_uri": "https://localhost:8080/",
          "height": 34
        }
      },
      "source": [
        "data_dir_list = os.listdir('/content/train')\n",
        "#print(data_dir_list)\n",
        "\n",
        "path, dirs, files = next(os.walk(\"/content/train\"))\n",
        "file_count = len(files)\n",
        "print(file_count)"
      ],
      "execution_count": 4,
      "outputs": [
        {
          "output_type": "stream",
          "text": [
            "25000\n"
          ],
          "name": "stdout"
        }
      ]
    },
    {
      "cell_type": "code",
      "metadata": {
        "id": "EWUG6klQKFqT",
        "colab_type": "code",
        "colab": {}
      },
      "source": [
        "original_dataset_dir = '/content/train'\n",
        "base_dir = '/content/cats_and_dogs_small'\n",
        "os.mkdir(base_dir)"
      ],
      "execution_count": 0,
      "outputs": []
    },
    {
      "cell_type": "code",
      "metadata": {
        "id": "lYFZUZOUKFni",
        "colab_type": "code",
        "colab": {}
      },
      "source": [
        "train_dir = os.path.join(base_dir, 'train')\n",
        "os.mkdir(train_dir)\n",
        "\n",
        "validation_dir = os.path.join(base_dir, 'validation')\n",
        "os.mkdir(validation_dir)\n",
        "\n",
        "test_dir = os.path.join(base_dir, 'test')\n",
        "os.mkdir(test_dir)\n",
        "\n",
        "train_cats_dir = os.path.join(train_dir, 'cats')\n",
        "os.mkdir(train_cats_dir)\n",
        "\n",
        "train_dogs_dir = os.path.join(train_dir, 'dogs')\n",
        "os.mkdir(train_dogs_dir)\n",
        "\n",
        "validation_cats_dir = os.path.join(validation_dir, 'cats')\n",
        "os.mkdir(validation_cats_dir)\n",
        "\n",
        "validation_dogs_dir = os.path.join(validation_dir, 'dogs')\n",
        "os.mkdir(validation_dogs_dir)\n",
        "\n",
        "test_cats_dir = os.path.join(test_dir, 'cats')\n",
        "os.mkdir(test_cats_dir)\n",
        "\n",
        "test_dogs_dir = os.path.join(test_dir, 'dogs')\n",
        "os.mkdir(test_dogs_dir)"
      ],
      "execution_count": 0,
      "outputs": []
    },
    {
      "cell_type": "code",
      "metadata": {
        "id": "qk-vGSgUKFkq",
        "colab_type": "code",
        "colab": {}
      },
      "source": [
        "import shutil\n",
        "fnames = ['cat.{}.jpg'.format(i) for i in range(1000)]\n",
        "for fname in fnames:\n",
        "    src = os.path.join(original_dataset_dir, fname)\n",
        "    dst = os.path.join(train_cats_dir, fname)\n",
        "    #print(src,dst)\n",
        "    shutil.copyfile(src, dst)\n",
        "    \n",
        "fnames = ['cat.{}.jpg'.format(i) for i in range(1000, 1500)]\n",
        "for fname in fnames:\n",
        "    src = os.path.join(original_dataset_dir, fname)\n",
        "    dst = os.path.join(validation_cats_dir, fname)\n",
        "    shutil.copyfile(src, dst)\n",
        "\n",
        "fnames = ['cat.{}.jpg'.format(i) for i in range(1500, 2000)]\n",
        "for fname in fnames:\n",
        "    src = os.path.join(original_dataset_dir, fname)\n",
        "    dst = os.path.join(test_cats_dir, fname)\n",
        "    shutil.copyfile(src, dst)\n",
        "    \n",
        "fnames = ['dog.{}.jpg'.format(i) for i in range(1000)]\n",
        "for fname in fnames:\n",
        "    src = os.path.join(original_dataset_dir, fname)\n",
        "    dst = os.path.join(train_dogs_dir, fname)\n",
        "    shutil.copyfile(src, dst)\n",
        "\n",
        "fnames = ['dog.{}.jpg'.format(i) for i in range(1000, 1500)]\n",
        "for fname in fnames:\n",
        "    src = os.path.join(original_dataset_dir, fname)\n",
        "    dst = os.path.join(validation_dogs_dir, fname)\n",
        "    shutil.copyfile(src, dst)\n",
        "\n",
        "fnames = ['dog.{}.jpg'.format(i) for i in range(1500, 2000)]\n",
        "for fname in fnames:\n",
        "    src = os.path.join(original_dataset_dir, fname)\n",
        "    dst = os.path.join(test_dogs_dir, fname)\n",
        "    shutil.copyfile(src, dst)"
      ],
      "execution_count": 0,
      "outputs": []
    },
    {
      "cell_type": "code",
      "metadata": {
        "id": "lnrPWXW1KFhK",
        "colab_type": "code",
        "outputId": "b2c53fff-27d6-4cf1-b018-f7ce56af14a4",
        "colab": {
          "base_uri": "https://localhost:8080/",
          "height": 119
        }
      },
      "source": [
        "print('total training cat images:', len(os.listdir(train_cats_dir)))\n",
        "print('total training dog images:', len(os.listdir(train_dogs_dir)))\n",
        "print('total validation cat images:', len(os.listdir(validation_cats_dir)))\n",
        "\n",
        "print('total validation dog images:', len(os.listdir(validation_dogs_dir)))\n",
        "print('total test cat images:', len(os.listdir(test_cats_dir)))\n",
        "print('total test dog images:', len(os.listdir(test_dogs_dir)))"
      ],
      "execution_count": 8,
      "outputs": [
        {
          "output_type": "stream",
          "text": [
            "total training cat images: 1000\n",
            "total training dog images: 1000\n",
            "total validation cat images: 500\n",
            "total validation dog images: 500\n",
            "total test cat images: 500\n",
            "total test dog images: 500\n"
          ],
          "name": "stdout"
        }
      ]
    },
    {
      "cell_type": "code",
      "metadata": {
        "id": "nYNQcY0BKFei",
        "colab_type": "code",
        "outputId": "9b02197d-5e98-4886-b5e9-992f5e30fdac",
        "colab": {
          "base_uri": "https://localhost:8080/",
          "height": 763
        }
      },
      "source": [
        "from keras import layers\n",
        "from keras import models\n",
        "\n",
        "model = models.Sequential()\n",
        "model.add(layers.Conv2D(32, (3, 3), activation='relu', input_shape=(150, 150, 3)))\n",
        "model.add(layers.MaxPooling2D((2, 2)))\n",
        "model.add(layers.Conv2D(64, (3, 3), activation='relu'))\n",
        "model.add(layers.MaxPooling2D((2, 2)))\n",
        "model.add(layers.Conv2D(128, (3, 3), activation='relu'))\n",
        "model.add(layers.MaxPooling2D((2, 2)))\n",
        "model.add(layers.Conv2D(128, (3, 3), activation='relu'))\n",
        "model.add(layers.MaxPooling2D((2, 2)))\n",
        "model.add(layers.Flatten())\n",
        "model.add(layers.Dense(512, activation='relu'))\n",
        "model.add(layers.Dense(1, activation='sigmoid'))\n",
        "model.summary()"
      ],
      "execution_count": 9,
      "outputs": [
        {
          "output_type": "stream",
          "text": [
            "Using TensorFlow backend.\n"
          ],
          "name": "stderr"
        },
        {
          "output_type": "display_data",
          "data": {
            "text/html": [
              "<p style=\"color: red;\">\n",
              "The default version of TensorFlow in Colab will soon switch to TensorFlow 2.x.<br>\n",
              "We recommend you <a href=\"https://www.tensorflow.org/guide/migrate\" target=\"_blank\">upgrade</a> now \n",
              "or ensure your notebook will continue to use TensorFlow 1.x via the <code>%tensorflow_version 1.x</code> magic:\n",
              "<a href=\"https://colab.research.google.com/notebooks/tensorflow_version.ipynb\" target=\"_blank\">more info</a>.</p>\n"
            ],
            "text/plain": [
              "<IPython.core.display.HTML object>"
            ]
          },
          "metadata": {
            "tags": []
          }
        },
        {
          "output_type": "stream",
          "text": [
            "WARNING:tensorflow:From /usr/local/lib/python3.6/dist-packages/keras/backend/tensorflow_backend.py:66: The name tf.get_default_graph is deprecated. Please use tf.compat.v1.get_default_graph instead.\n",
            "\n",
            "WARNING:tensorflow:From /usr/local/lib/python3.6/dist-packages/keras/backend/tensorflow_backend.py:541: The name tf.placeholder is deprecated. Please use tf.compat.v1.placeholder instead.\n",
            "\n",
            "WARNING:tensorflow:From /usr/local/lib/python3.6/dist-packages/keras/backend/tensorflow_backend.py:4432: The name tf.random_uniform is deprecated. Please use tf.random.uniform instead.\n",
            "\n",
            "WARNING:tensorflow:From /usr/local/lib/python3.6/dist-packages/keras/backend/tensorflow_backend.py:4267: The name tf.nn.max_pool is deprecated. Please use tf.nn.max_pool2d instead.\n",
            "\n",
            "Model: \"sequential_1\"\n",
            "_________________________________________________________________\n",
            "Layer (type)                 Output Shape              Param #   \n",
            "=================================================================\n",
            "conv2d_1 (Conv2D)            (None, 148, 148, 32)      896       \n",
            "_________________________________________________________________\n",
            "max_pooling2d_1 (MaxPooling2 (None, 74, 74, 32)        0         \n",
            "_________________________________________________________________\n",
            "conv2d_2 (Conv2D)            (None, 72, 72, 64)        18496     \n",
            "_________________________________________________________________\n",
            "max_pooling2d_2 (MaxPooling2 (None, 36, 36, 64)        0         \n",
            "_________________________________________________________________\n",
            "conv2d_3 (Conv2D)            (None, 34, 34, 128)       73856     \n",
            "_________________________________________________________________\n",
            "max_pooling2d_3 (MaxPooling2 (None, 17, 17, 128)       0         \n",
            "_________________________________________________________________\n",
            "conv2d_4 (Conv2D)            (None, 15, 15, 128)       147584    \n",
            "_________________________________________________________________\n",
            "max_pooling2d_4 (MaxPooling2 (None, 7, 7, 128)         0         \n",
            "_________________________________________________________________\n",
            "flatten_1 (Flatten)          (None, 6272)              0         \n",
            "_________________________________________________________________\n",
            "dense_1 (Dense)              (None, 512)               3211776   \n",
            "_________________________________________________________________\n",
            "dense_2 (Dense)              (None, 1)                 513       \n",
            "=================================================================\n",
            "Total params: 3,453,121\n",
            "Trainable params: 3,453,121\n",
            "Non-trainable params: 0\n",
            "_________________________________________________________________\n"
          ],
          "name": "stdout"
        }
      ]
    },
    {
      "cell_type": "code",
      "metadata": {
        "id": "uA9WzYpzKFbM",
        "colab_type": "code",
        "outputId": "6b85c506-c8fb-4dea-8f53-f96d98ab34ce",
        "colab": {
          "base_uri": "https://localhost:8080/",
          "height": 156
        }
      },
      "source": [
        "from keras import optimizers\n",
        "model.compile(loss='binary_crossentropy', \n",
        "              optimizer=optimizers.RMSprop(lr=1e-4),\n",
        "              metrics=['acc'])"
      ],
      "execution_count": 10,
      "outputs": [
        {
          "output_type": "stream",
          "text": [
            "WARNING:tensorflow:From /usr/local/lib/python3.6/dist-packages/keras/optimizers.py:793: The name tf.train.Optimizer is deprecated. Please use tf.compat.v1.train.Optimizer instead.\n",
            "\n",
            "WARNING:tensorflow:From /usr/local/lib/python3.6/dist-packages/keras/backend/tensorflow_backend.py:3657: The name tf.log is deprecated. Please use tf.math.log instead.\n",
            "\n",
            "WARNING:tensorflow:From /usr/local/lib/python3.6/dist-packages/tensorflow_core/python/ops/nn_impl.py:183: where (from tensorflow.python.ops.array_ops) is deprecated and will be removed in a future version.\n",
            "Instructions for updating:\n",
            "Use tf.where in 2.0, which has the same broadcast rule as np.where\n"
          ],
          "name": "stdout"
        }
      ]
    },
    {
      "cell_type": "code",
      "metadata": {
        "id": "wrGbZFNdOW8T",
        "colab_type": "code",
        "outputId": "6c517f86-84ff-4b3d-e4e4-cc707ea8ec2f",
        "colab": {
          "base_uri": "https://localhost:8080/",
          "height": 51
        }
      },
      "source": [
        "from keras.preprocessing.image import ImageDataGenerator\n",
        "\n",
        "train_datagen = ImageDataGenerator(rescale=1./255)\n",
        "test_datagen = ImageDataGenerator(rescale=1./255)\n",
        "\n",
        "train_generator = train_datagen.flow_from_directory(train_dir,\n",
        "                                                    target_size=(150, 150), \n",
        "                                                    batch_size=20,\n",
        "                                                    class_mode='binary')\n",
        "\n",
        "validation_generator = test_datagen.flow_from_directory(validation_dir,\n",
        "                                                        target_size=(150, 150),\n",
        "                                                        batch_size=20,\n",
        "                                                        class_mode='binary')"
      ],
      "execution_count": 11,
      "outputs": [
        {
          "output_type": "stream",
          "text": [
            "Found 2000 images belonging to 2 classes.\n",
            "Found 1000 images belonging to 2 classes.\n"
          ],
          "name": "stdout"
        }
      ]
    },
    {
      "cell_type": "code",
      "metadata": {
        "id": "j05XO7oZOW49",
        "colab_type": "code",
        "outputId": "5f4cf790-77e2-4fe3-8119-c395c6839aac",
        "colab": {
          "base_uri": "https://localhost:8080/",
          "height": 1000
        }
      },
      "source": [
        "history = model.fit_generator(train_generator,\n",
        "                              steps_per_epoch=100,\n",
        "                              epochs=30,\n",
        "                              validation_data=validation_generator,\n",
        "                              validation_steps=10)"
      ],
      "execution_count": 12,
      "outputs": [
        {
          "output_type": "stream",
          "text": [
            "WARNING:tensorflow:From /usr/local/lib/python3.6/dist-packages/keras/backend/tensorflow_backend.py:1033: The name tf.assign_add is deprecated. Please use tf.compat.v1.assign_add instead.\n",
            "\n",
            "WARNING:tensorflow:From /usr/local/lib/python3.6/dist-packages/keras/backend/tensorflow_backend.py:1020: The name tf.assign is deprecated. Please use tf.compat.v1.assign instead.\n",
            "\n",
            "WARNING:tensorflow:From /usr/local/lib/python3.6/dist-packages/keras/backend/tensorflow_backend.py:3005: The name tf.Session is deprecated. Please use tf.compat.v1.Session instead.\n",
            "\n",
            "Epoch 1/30\n",
            "WARNING:tensorflow:From /usr/local/lib/python3.6/dist-packages/keras/backend/tensorflow_backend.py:190: The name tf.get_default_session is deprecated. Please use tf.compat.v1.get_default_session instead.\n",
            "\n",
            "WARNING:tensorflow:From /usr/local/lib/python3.6/dist-packages/keras/backend/tensorflow_backend.py:197: The name tf.ConfigProto is deprecated. Please use tf.compat.v1.ConfigProto instead.\n",
            "\n",
            "WARNING:tensorflow:From /usr/local/lib/python3.6/dist-packages/keras/backend/tensorflow_backend.py:207: The name tf.global_variables is deprecated. Please use tf.compat.v1.global_variables instead.\n",
            "\n",
            "WARNING:tensorflow:From /usr/local/lib/python3.6/dist-packages/keras/backend/tensorflow_backend.py:216: The name tf.is_variable_initialized is deprecated. Please use tf.compat.v1.is_variable_initialized instead.\n",
            "\n",
            "WARNING:tensorflow:From /usr/local/lib/python3.6/dist-packages/keras/backend/tensorflow_backend.py:223: The name tf.variables_initializer is deprecated. Please use tf.compat.v1.variables_initializer instead.\n",
            "\n",
            "100/100 [==============================] - 21s 208ms/step - loss: 0.6888 - acc: 0.5305 - val_loss: 0.6657 - val_acc: 0.6350\n",
            "Epoch 2/30\n",
            "100/100 [==============================] - 7s 71ms/step - loss: 0.6524 - acc: 0.6160 - val_loss: 0.6265 - val_acc: 0.6400\n",
            "Epoch 3/30\n",
            "100/100 [==============================] - 7s 73ms/step - loss: 0.6116 - acc: 0.6695 - val_loss: 0.6477 - val_acc: 0.6400\n",
            "Epoch 4/30\n",
            "100/100 [==============================] - 7s 71ms/step - loss: 0.5730 - acc: 0.7095 - val_loss: 0.6283 - val_acc: 0.6700\n",
            "Epoch 5/30\n",
            "100/100 [==============================] - 7s 71ms/step - loss: 0.5427 - acc: 0.7230 - val_loss: 0.6450 - val_acc: 0.6500\n",
            "Epoch 6/30\n",
            "100/100 [==============================] - 7s 70ms/step - loss: 0.5224 - acc: 0.7365 - val_loss: 0.5676 - val_acc: 0.7000\n",
            "Epoch 7/30\n",
            "100/100 [==============================] - 7s 71ms/step - loss: 0.4972 - acc: 0.7520 - val_loss: 0.6155 - val_acc: 0.6450\n",
            "Epoch 8/30\n",
            "100/100 [==============================] - 7s 71ms/step - loss: 0.4622 - acc: 0.7860 - val_loss: 0.5519 - val_acc: 0.7250\n",
            "Epoch 9/30\n",
            "100/100 [==============================] - 7s 69ms/step - loss: 0.4447 - acc: 0.7900 - val_loss: 0.5936 - val_acc: 0.6850\n",
            "Epoch 10/30\n",
            "100/100 [==============================] - 7s 70ms/step - loss: 0.4155 - acc: 0.8095 - val_loss: 0.6236 - val_acc: 0.6850\n",
            "Epoch 11/30\n",
            "100/100 [==============================] - 7s 71ms/step - loss: 0.3891 - acc: 0.8215 - val_loss: 0.5357 - val_acc: 0.7150\n",
            "Epoch 12/30\n",
            "100/100 [==============================] - 7s 70ms/step - loss: 0.3691 - acc: 0.8410 - val_loss: 0.5149 - val_acc: 0.7400\n",
            "Epoch 13/30\n",
            "100/100 [==============================] - 7s 70ms/step - loss: 0.3428 - acc: 0.8580 - val_loss: 0.6280 - val_acc: 0.7050\n",
            "Epoch 14/30\n",
            "100/100 [==============================] - 7s 71ms/step - loss: 0.3191 - acc: 0.8680 - val_loss: 0.5054 - val_acc: 0.7750\n",
            "Epoch 15/30\n",
            "100/100 [==============================] - 7s 69ms/step - loss: 0.2933 - acc: 0.8765 - val_loss: 0.6306 - val_acc: 0.7300\n",
            "Epoch 16/30\n",
            "100/100 [==============================] - 7s 72ms/step - loss: 0.2763 - acc: 0.8870 - val_loss: 0.6236 - val_acc: 0.7300\n",
            "Epoch 17/30\n",
            "100/100 [==============================] - 7s 69ms/step - loss: 0.2557 - acc: 0.8920 - val_loss: 0.6639 - val_acc: 0.6850\n",
            "Epoch 18/30\n",
            "100/100 [==============================] - 7s 70ms/step - loss: 0.2421 - acc: 0.9010 - val_loss: 0.5894 - val_acc: 0.7550\n",
            "Epoch 19/30\n",
            "100/100 [==============================] - 7s 70ms/step - loss: 0.2126 - acc: 0.9180 - val_loss: 0.6102 - val_acc: 0.7400\n",
            "Epoch 20/30\n",
            "100/100 [==============================] - 7s 70ms/step - loss: 0.1936 - acc: 0.9235 - val_loss: 0.6349 - val_acc: 0.7450\n",
            "Epoch 21/30\n",
            "100/100 [==============================] - 7s 71ms/step - loss: 0.1741 - acc: 0.9335 - val_loss: 0.8075 - val_acc: 0.6950\n",
            "Epoch 22/30\n",
            "100/100 [==============================] - 7s 72ms/step - loss: 0.1566 - acc: 0.9485 - val_loss: 0.6291 - val_acc: 0.7500\n",
            "Epoch 23/30\n",
            "100/100 [==============================] - 7s 70ms/step - loss: 0.1359 - acc: 0.9540 - val_loss: 0.8048 - val_acc: 0.7300\n",
            "Epoch 24/30\n",
            "100/100 [==============================] - 7s 71ms/step - loss: 0.1193 - acc: 0.9610 - val_loss: 0.6469 - val_acc: 0.7900\n",
            "Epoch 25/30\n",
            "100/100 [==============================] - 7s 69ms/step - loss: 0.1063 - acc: 0.9695 - val_loss: 0.7243 - val_acc: 0.7600\n",
            "Epoch 26/30\n",
            "100/100 [==============================] - 7s 71ms/step - loss: 0.0949 - acc: 0.9740 - val_loss: 0.7784 - val_acc: 0.7400\n",
            "Epoch 27/30\n",
            "100/100 [==============================] - 7s 71ms/step - loss: 0.0799 - acc: 0.9750 - val_loss: 0.7213 - val_acc: 0.7550\n",
            "Epoch 28/30\n",
            "100/100 [==============================] - 7s 71ms/step - loss: 0.0701 - acc: 0.9785 - val_loss: 0.8573 - val_acc: 0.7050\n",
            "Epoch 29/30\n",
            "100/100 [==============================] - 7s 71ms/step - loss: 0.0652 - acc: 0.9800 - val_loss: 1.0404 - val_acc: 0.7250\n",
            "Epoch 30/30\n",
            "100/100 [==============================] - 7s 70ms/step - loss: 0.0560 - acc: 0.9855 - val_loss: 0.8490 - val_acc: 0.7250\n"
          ],
          "name": "stdout"
        }
      ]
    },
    {
      "cell_type": "code",
      "metadata": {
        "id": "dJOuDhlDOW17",
        "colab_type": "code",
        "outputId": "13d4ca7a-c1f5-49ee-a16c-f0cb588e275f",
        "colab": {
          "base_uri": "https://localhost:8080/",
          "height": 545
        }
      },
      "source": [
        "model.save('cats_and_dogs_small_1.h5')\n",
        "\n",
        "import matplotlib.pyplot as plt\n",
        "\n",
        "acc = history.history['acc']\n",
        "val_acc = history.history['val_acc']\n",
        "loss = history.history['loss']\n",
        "val_loss = history.history['val_loss']\n",
        "\n",
        "epochs = range(1, len(acc) + 1)\n",
        "\n",
        "plt.plot(epochs, acc, 'bo', label='Training acc')\n",
        "plt.plot(epochs, val_acc, 'b', label='Validation acc')\n",
        "plt.title('Training and validation accuracy')\n",
        "plt.legend()\n",
        "\n",
        "plt.figure()\n",
        "\n",
        "plt.plot(epochs, loss, 'bo', label='Training loss')\n",
        "plt.plot(epochs, val_loss, 'b', label='Validation loss')\n",
        "plt.title('Training and validation loss')\n",
        "plt.legend()\n",
        "\n",
        "plt.show()"
      ],
      "execution_count": 13,
      "outputs": [
        {
          "output_type": "display_data",
          "data": {
            "image/png": "[encoded data removed]",
            "text/plain": [
              "<Figure size 432x288 with 1 Axes>"
            ]
          },
          "metadata": {
            "tags": []
          }
        },
        {
          "output_type": "display_data",
          "data": {
            "image/png": "[encoded data removed]",
            "text/plain": [
              "<Figure size 432x288 with 1 Axes>"
            ]
          },
          "metadata": {
            "tags": []
          }
        }
      ]
    },
    {
      "cell_type": "markdown",
      "metadata": {
        "id": "mT-f91FORIGx",
        "colab_type": "text"
      },
      "source": [
        "###Convolutional Networks with Dropout"
      ]
    },
    {
      "cell_type": "code",
      "metadata": {
        "id": "_OdUKUZlOWyD",
        "colab_type": "code",
        "outputId": "d4014864-6d55-4d42-808f-803ebd99c815",
        "colab": {
          "base_uri": "https://localhost:8080/",
          "height": 122
        }
      },
      "source": [
        "model = models.Sequential()\n",
        "model.add(layers.Conv2D(32, (3, 3), activation='relu',\n",
        "input_shape=(150, 150, 3)))\n",
        "model.add(layers.MaxPooling2D((2, 2)))\n",
        "model.add(layers.Conv2D(64, (3, 3), activation='relu'))\n",
        "model.add(layers.MaxPooling2D((2, 2)))\n",
        "model.add(layers.Conv2D(128, (3, 3), activation='relu'))\n",
        "model.add(layers.MaxPooling2D((2, 2)))\n",
        "model.add(layers.Conv2D(128, (3, 3), activation='relu'))\n",
        "model.add(layers.MaxPooling2D((2, 2)))\n",
        "model.add(layers.Flatten())\n",
        "model.add(layers.Dropout(0.5))\n",
        "model.add(layers.Dense(512, activation='relu'))\n",
        "model.add(layers.Dense(1, activation='sigmoid'))\n",
        "\n",
        "model.compile(loss='binary_crossentropy',\n",
        "              optimizer=optimizers.RMSprop(lr=1e-4),\n",
        "              metrics=['acc'])"
      ],
      "execution_count": 14,
      "outputs": [
        {
          "output_type": "stream",
          "text": [
            "WARNING:tensorflow:From /usr/local/lib/python3.6/dist-packages/keras/backend/tensorflow_backend.py:148: The name tf.placeholder_with_default is deprecated. Please use tf.compat.v1.placeholder_with_default instead.\n",
            "\n",
            "WARNING:tensorflow:From /usr/local/lib/python3.6/dist-packages/keras/backend/tensorflow_backend.py:3733: calling dropout (from tensorflow.python.ops.nn_ops) with keep_prob is deprecated and will be removed in a future version.\n",
            "Instructions for updating:\n",
            "Please use `rate` instead of `keep_prob`. Rate should be set to `rate = 1 - keep_prob`.\n"
          ],
          "name": "stdout"
        }
      ]
    },
    {
      "cell_type": "code",
      "metadata": {
        "id": "3yiOswNiOWsV",
        "colab_type": "code",
        "outputId": "3a67390c-0b48-4769-828d-e6f6eb1b7a51",
        "colab": {
          "base_uri": "https://localhost:8080/",
          "height": 751
        }
      },
      "source": [
        "train_datagen = ImageDataGenerator(rescale=1./255,\n",
        "                                   rotation_range=40,\n",
        "                                   width_shift_range=0.2,\n",
        "                                   height_shift_range=0.2,\n",
        "                                   shear_range=0.2,\n",
        "                                   zoom_range=0.2,\n",
        "                                   horizontal_flip=True,)\n",
        "\n",
        "test_datagen = ImageDataGenerator(rescale=1./255)\n",
        "\n",
        "train_generator = train_datagen.flow_from_directory(train_dir,\n",
        "                                                    target_size=(150, 150),\n",
        "                                                    batch_size=32,\n",
        "                                                    class_mode='binary')\n",
        "\n",
        "validation_generator = test_datagen.flow_from_directory(validation_dir,\n",
        "                                                        target_size=(150, 150),\n",
        "                                                        batch_size=32,\n",
        "                                                        class_mode='binary')\n",
        "\n",
        "history = model.fit_generator(train_generator,\n",
        "                              steps_per_epoch=100,\n",
        "                              epochs=20,\n",
        "                              validation_data=validation_generator,\n",
        "                              validation_steps=50)"
      ],
      "execution_count": 15,
      "outputs": [
        {
          "output_type": "stream",
          "text": [
            "Found 2000 images belonging to 2 classes.\n",
            "Found 1000 images belonging to 2 classes.\n",
            "Epoch 1/20\n",
            "100/100 [==============================] - 31s 314ms/step - loss: 0.6908 - acc: 0.5241 - val_loss: 0.6768 - val_acc: 0.5590\n",
            "Epoch 2/20\n",
            "100/100 [==============================] - 29s 285ms/step - loss: 0.6685 - acc: 0.5928 - val_loss: 0.6787 - val_acc: 0.5438\n",
            "Epoch 3/20\n",
            "100/100 [==============================] - 28s 279ms/step - loss: 0.6447 - acc: 0.6197 - val_loss: 0.6189 - val_acc: 0.6605\n",
            "Epoch 4/20\n",
            "100/100 [==============================] - 29s 286ms/step - loss: 0.6245 - acc: 0.6394 - val_loss: 0.6111 - val_acc: 0.6591\n",
            "Epoch 5/20\n",
            "100/100 [==============================] - 27s 270ms/step - loss: 0.6083 - acc: 0.6631 - val_loss: 0.5977 - val_acc: 0.6650\n",
            "Epoch 6/20\n",
            "100/100 [==============================] - 30s 300ms/step - loss: 0.5961 - acc: 0.6794 - val_loss: 0.6263 - val_acc: 0.6308\n",
            "Epoch 7/20\n",
            "100/100 [==============================] - 28s 284ms/step - loss: 0.5978 - acc: 0.6763 - val_loss: 0.5738 - val_acc: 0.6897\n",
            "Epoch 8/20\n",
            "100/100 [==============================] - 29s 286ms/step - loss: 0.5887 - acc: 0.6856 - val_loss: 0.5701 - val_acc: 0.6823\n",
            "Epoch 9/20\n",
            "100/100 [==============================] - 28s 282ms/step - loss: 0.5777 - acc: 0.6991 - val_loss: 0.5724 - val_acc: 0.6901\n",
            "Epoch 10/20\n",
            "100/100 [==============================] - 27s 273ms/step - loss: 0.5705 - acc: 0.7013 - val_loss: 0.5458 - val_acc: 0.7183\n",
            "Epoch 11/20\n",
            "100/100 [==============================] - 28s 283ms/step - loss: 0.5650 - acc: 0.7037 - val_loss: 0.5440 - val_acc: 0.7184\n",
            "Epoch 12/20\n",
            "100/100 [==============================] - 28s 277ms/step - loss: 0.5502 - acc: 0.7187 - val_loss: 0.5528 - val_acc: 0.7202\n",
            "Epoch 13/20\n",
            "100/100 [==============================] - 28s 278ms/step - loss: 0.5542 - acc: 0.7206 - val_loss: 0.5111 - val_acc: 0.7390\n",
            "Epoch 14/20\n",
            "100/100 [==============================] - 28s 280ms/step - loss: 0.5526 - acc: 0.7125 - val_loss: 0.5685 - val_acc: 0.6992\n",
            "Epoch 15/20\n",
            "100/100 [==============================] - 28s 279ms/step - loss: 0.5441 - acc: 0.7150 - val_loss: 0.5111 - val_acc: 0.7249\n",
            "Epoch 16/20\n",
            "100/100 [==============================] - 28s 279ms/step - loss: 0.5289 - acc: 0.7350 - val_loss: 0.5518 - val_acc: 0.7294\n",
            "Epoch 17/20\n",
            "100/100 [==============================] - 26s 262ms/step - loss: 0.5420 - acc: 0.7322 - val_loss: 0.5131 - val_acc: 0.7424\n",
            "Epoch 18/20\n",
            "100/100 [==============================] - 30s 299ms/step - loss: 0.5241 - acc: 0.7362 - val_loss: 0.4944 - val_acc: 0.7513\n",
            "Epoch 19/20\n",
            "100/100 [==============================] - 28s 282ms/step - loss: 0.5277 - acc: 0.7406 - val_loss: 0.5190 - val_acc: 0.7405\n",
            "Epoch 20/20\n",
            "100/100 [==============================] - 28s 278ms/step - loss: 0.5225 - acc: 0.7394 - val_loss: 0.5305 - val_acc: 0.7287\n"
          ],
          "name": "stdout"
        }
      ]
    },
    {
      "cell_type": "code",
      "metadata": {
        "id": "1qUN1473Wjfj",
        "colab_type": "code",
        "outputId": "51a19346-b7ed-42c4-ed0c-7315ca4d2f06",
        "colab": {
          "base_uri": "https://localhost:8080/",
          "height": 545
        }
      },
      "source": [
        "model.save('cats_and_dogs_small_2.h5')\n",
        "\n",
        "import matplotlib.pyplot as plt\n",
        "\n",
        "acc = history.history['acc']\n",
        "val_acc = history.history['val_acc']\n",
        "loss = history.history['loss']\n",
        "val_loss = history.history['val_loss']\n",
        "\n",
        "epochs = range(1, len(acc) + 1)\n",
        "\n",
        "plt.plot(epochs, acc, 'bo', label='Training acc')\n",
        "plt.plot(epochs, val_acc, 'b', label='Validation acc')\n",
        "plt.title('Training and validation accuracy(dropout)')\n",
        "plt.legend()\n",
        "\n",
        "plt.figure()\n",
        "\n",
        "plt.plot(epochs, loss, 'bo', label='Training loss')\n",
        "plt.plot(epochs, val_loss, 'b', label='Validation loss')\n",
        "plt.title('Training and validation loss(dropout)')\n",
        "plt.legend()\n",
        "\n",
        "plt.show()"
      ],
      "execution_count": 16,
      "outputs": [
        {
          "output_type": "display_data",
          "data": {
            "image/png": "[encoded data removed]",
            "text/plain": [
              "<Figure size 432x288 with 1 Axes>"
            ]
          },
          "metadata": {
            "tags": []
          }
        },
        {
          "output_type": "display_data",
          "data": {
            "image/png": "[encoded data removed]",
            "text/plain": [
              "<Figure size 432x288 with 1 Axes>"
            ]
          },
          "metadata": {
            "tags": []
          }
        }
      ]
    }
  ]
}