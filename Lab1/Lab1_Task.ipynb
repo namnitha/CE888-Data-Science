{
  "nbformat": 4,
  "nbformat_minor": 0,
  "metadata": {
    "colab": {
      "name": "Lab1 Task.ipynb",
      "provenance": [],
      "collapsed_sections": [],
      "authorship_tag": "ABX9TyNM9jt7LKLGBWKzI6qqEdOk",
      "include_colab_link": true
    },
    "kernelspec": {
      "name": "python3",
      "display_name": "Python 3"
    }
  },
  "cells": [
    {
      "cell_type": "markdown",
      "metadata": {
        "id": "view-in-github",
        "colab_type": "text"
      },
      "source": [
        "<a href=\"https://colab.research.google.com/github/namnitha/CE888-Data-Science/blob/master/Lab1/Lab1_Task.ipynb\" target=\"_parent\"><img src=\"https://colab.research.google.com/assets/colab-badge.svg\" alt=\"Open In Colab\"/></a>"
      ]
    },
    {
      "cell_type": "markdown",
      "metadata": {
        "id": "QOH_-WWM_ucl",
        "colab_type": "text"
      },
      "source": [
        "#Lab1 Task"
      ]
    },
    {
      "cell_type": "markdown",
      "metadata": {
        "id": "XK8haBmi_5ND",
        "colab_type": "text"
      },
      "source": [
        "1. Create a (4 x 2) integer array and print it's attributes\n"
      ]
    },
    {
      "cell_type": "code",
      "metadata": {
        "id": "eOL2Af4N_pSc",
        "colab_type": "code",
        "colab": {
          "base_uri": "https://localhost:8080/",
          "height": 102
        },
        "outputId": "5d162527-49e5-4a76-edd8-f7ae40758d12"
      },
      "source": [
        "import numpy as np\n",
        "a=np.array([[1,2],[5,6],[9,10],[13,14]])\n",
        "print(a)\n",
        "print(a.shape)"
      ],
      "execution_count": 7,
      "outputs": [
        {
          "output_type": "stream",
          "text": [
            "[[ 1  2]\n",
            " [ 5  6]\n",
            " [ 9 10]\n",
            " [13 14]]\n",
            "(4, 2)\n"
          ],
          "name": "stdout"
        }
      ]
    },
    {
      "cell_type": "markdown",
      "metadata": {
        "id": "llk2O5p6BJfn",
        "colab_type": "text"
      },
      "source": [
        "####2.Create an array of dimension (1,10) and sort it in ascending and descending order"
      ]
    },
    {
      "cell_type": "code",
      "metadata": {
        "id": "x6ct_uhFBM3s",
        "colab_type": "code",
        "colab": {
          "base_uri": "https://localhost:8080/",
          "height": 51
        },
        "outputId": "a7541c6a-d5df-4642-add6-ee97ae138fe9"
      },
      "source": [
        "b=np.array([5,3,7,2,3,8,1,7,0,4])\n",
        "Asc= np.sort(b)\n",
        "print(Asc)\n",
        "Des= Asc[::-1]\n",
        "print(Des)"
      ],
      "execution_count": 14,
      "outputs": [
        {
          "output_type": "stream",
          "text": [
            "[0 1 2 3 3 4 5 7 7 8]\n",
            "[8 7 7 5 4 3 3 2 1 0]\n"
          ],
          "name": "stdout"
        }
      ]
    },
    {
      "cell_type": "markdown",
      "metadata": {
        "id": "Jv5aa6i_D61m",
        "colab_type": "text"
      },
      "source": [
        "####3.Convert an 1D array [1 2 3 4 5 6 7 8 9] to 2D array [[1 2 3], [4 5 6], [7 8 9]]"
      ]
    },
    {
      "cell_type": "code",
      "metadata": {
        "id": "pEG_39gyD599",
        "colab_type": "code",
        "colab": {
          "base_uri": "https://localhost:8080/",
          "height": 68
        },
        "outputId": "db5d7c65-63bd-4477-e1db-354c40cfe824"
      },
      "source": [
        "c=np.array([1,2,3,4,5,6,7,8,9])\n",
        "# def to_matrix(l, n):return [l[i:i+n] for i in xrange(0, len(l), n)]\n",
        "# to_matrix(c,2)\n",
        "c = c.reshape((3,3))\n",
        "print(c)\n"
      ],
      "execution_count": 27,
      "outputs": [
        {
          "output_type": "stream",
          "text": [
            "[[1 2 3]\n",
            " [4 5 6]\n",
            " [7 8 9]]\n"
          ],
          "name": "stdout"
        }
      ]
    },
    {
      "cell_type": "markdown",
      "metadata": {
        "id": "e5mOdyJUG5X5",
        "colab_type": "text"
      },
      "source": [
        "4.Stack two arrays of any size horizontally and vertically"
      ]
    },
    {
      "cell_type": "code",
      "metadata": {
        "id": "WH9a9phKG16p",
        "colab_type": "code",
        "colab": {
          "base_uri": "https://localhost:8080/",
          "height": 51
        },
        "outputId": "f3a31d1d-8774-4e75-a4b4-306c489bb161"
      },
      "source": [
        "c=np.array([1,2,3,4])\n",
        "b=np.array([5,3,7,2])\n",
        "np.hstack((c,b))\n",
        "np.vstack((c,b))"
      ],
      "execution_count": 31,
      "outputs": [
        {
          "output_type": "execute_result",
          "data": {
            "text/plain": [
              "array([[1, 2, 3, 4],\n",
              "       [5, 3, 7, 2]])"
            ]
          },
          "metadata": {
            "tags": []
          },
          "execution_count": 31
        }
      ]
    },
    {
      "cell_type": "markdown",
      "metadata": {
        "id": "BmbOpC_FIhDn",
        "colab_type": "text"
      },
      "source": [
        "####5.create two array of same size and find commom elements"
      ]
    },
    {
      "cell_type": "code",
      "metadata": {
        "id": "6URFjWZ9IUok",
        "colab_type": "code",
        "colab": {
          "base_uri": "https://localhost:8080/",
          "height": 34
        },
        "outputId": "ab85d6d4-b8f0-438f-c833-d9bb7acc2baf"
      },
      "source": [
        "print(np.intersect1d(b, c))"
      ],
      "execution_count": 32,
      "outputs": [
        {
          "output_type": "stream",
          "text": [
            "[2 3]\n"
          ],
          "name": "stdout"
        }
      ]
    },
    {
      "cell_type": "markdown",
      "metadata": {
        "id": "eBrB4fHhJBKQ",
        "colab_type": "text"
      },
      "source": [
        "####6.Create a 2D array of 5 by 5 and find the min and max values from each row and each column"
      ]
    },
    {
      "cell_type": "code",
      "metadata": {
        "id": "wYZblLgbJE1v",
        "colab_type": "code",
        "colab": {
          "base_uri": "https://localhost:8080/",
          "height": 323
        },
        "outputId": "77a606e9-2743-4926-f7b1-55193e3a2d5a"
      },
      "source": [
        "d=np.array([[1,2,3,4,5],[5,6,7,8,9],[9,10,1,2,3],[13,14,4,5,6]])\n",
        "#maxValue = np.amax(d)\n",
        "#minValue = np.amin(d)\n",
        "#print(maxValue)\n",
        "#print(minValue)\n",
        "for i in d:\n",
        "  print(np.amax(i))\n",
        "  print(np.amin(i))\n",
        "\n",
        "for i in d.T:\n",
        "   print(np.amax(i))\n",
        "   print(np.amin(i)) "
      ],
      "execution_count": 64,
      "outputs": [
        {
          "output_type": "stream",
          "text": [
            "5\n",
            "1\n",
            "9\n",
            "5\n",
            "10\n",
            "1\n",
            "14\n",
            "4\n",
            "13\n",
            "1\n",
            "14\n",
            "2\n",
            "7\n",
            "1\n",
            "8\n",
            "2\n",
            "9\n",
            "3\n"
          ],
          "name": "stdout"
        }
      ]
    },
    {
      "cell_type": "markdown",
      "metadata": {
        "id": "UWHPdA-tKYzI",
        "colab_type": "text"
      },
      "source": [
        "####7.Create an array of size 100 and compute the mean, median, standard deviation.\n",
        "\n"
      ]
    },
    {
      "cell_type": "code",
      "metadata": {
        "id": "rF8YL6TvKYVa",
        "colab_type": "code",
        "colab": {
          "base_uri": "https://localhost:8080/",
          "height": 68
        },
        "outputId": "14adfafe-7496-44ff-a0ed-d81143af2e3b"
      },
      "source": [
        "a= np.random.rand(100)\n",
        "b=np.mean(a)\n",
        "print(b)\n",
        "c=np.median(a)\n",
        "print(c)\n",
        "d=np.std(a)\n",
        "print(d)"
      ],
      "execution_count": 51,
      "outputs": [
        {
          "output_type": "stream",
          "text": [
            "0.4964570415944525\n",
            "0.5009541922324412\n",
            "0.29575352920923736\n"
          ],
          "name": "stdout"
        }
      ]
    },
    {
      "cell_type": "markdown",
      "metadata": {
        "id": "oydbhKn4NxIl",
        "colab_type": "text"
      },
      "source": [
        "####8.Normalize a 5x5 random matrix"
      ]
    },
    {
      "cell_type": "code",
      "metadata": {
        "id": "0nxWM0kMN1LB",
        "colab_type": "code",
        "colab": {
          "base_uri": "https://localhost:8080/",
          "height": 204
        },
        "outputId": "b898b75e-4973-4d10-e65b-655b2aee5ece"
      },
      "source": [
        "a= np.random.rand(5,5)\n",
        "print(a)\n",
        "amax,amin= a.max(), a.min()\n",
        "a=(a-amin)/(amax-amin)\n",
        "print(\"normalized array\")\n",
        "print(a)"
      ],
      "execution_count": 54,
      "outputs": [
        {
          "output_type": "stream",
          "text": [
            "[[0.07889372 0.99205202 0.12613909 0.23823705 0.37040226]\n",
            " [0.67636726 0.22847926 0.64233292 0.5851668  0.82905863]\n",
            " [0.2551326  0.11676689 0.31585307 0.48210537 0.45372063]\n",
            " [0.23281283 0.46374361 0.59587725 0.28595353 0.20120794]\n",
            " [0.38230471 0.19211752 0.61458584 0.63295137 0.49637723]]\n",
            "normalized array\n",
            "[[0.         1.         0.05173843 0.17449694 0.31923112]\n",
            " [0.6542935  0.16381118 0.61702248 0.55441985 0.82150587]\n",
            " [0.19299927 0.04147493 0.25949428 0.44155723 0.4104731 ]\n",
            " [0.16855688 0.42144926 0.56614886 0.22675128 0.13394636]\n",
            " [0.33226549 0.12399143 0.58663664 0.60674874 0.45718635]]\n"
          ],
          "name": "stdout"
        }
      ]
    },
    {
      "cell_type": "markdown",
      "metadata": {
        "id": "dsimCEwEP7vF",
        "colab_type": "text"
      },
      "source": [
        "####9.Consider an array of dimension (4,4,3), how to mulitply it by an array with dimensions (4,4)?"
      ]
    },
    {
      "cell_type": "code",
      "metadata": {
        "id": "U3cZUGe2QGrc",
        "colab_type": "code",
        "colab": {
          "base_uri": "https://localhost:8080/",
          "height": 816
        },
        "outputId": "d0a88798-6d93-4c6a-cbfe-caec2084d462"
      },
      "source": [
        "a= np.random.rand(4,4,3)\n",
        "print(a)\n",
        "a=a.reshape(12,4)\n",
        "print(a)\n",
        "b= np.random.rand(4,4)\n",
        "print(b)\n",
        "print(np.dot(a,b))"
      ],
      "execution_count": 62,
      "outputs": [
        {
          "output_type": "stream",
          "text": [
            "[[[0.43511356 0.2629572  0.33396888]\n",
            "  [0.71995741 0.2968472  0.47166398]\n",
            "  [0.69510435 0.44286075 0.01405876]\n",
            "  [0.5745169  0.17034457 0.19874036]]\n",
            "\n",
            " [[0.79730375 0.64278855 0.31337605]\n",
            "  [0.61724522 0.70410359 0.34417847]\n",
            "  [0.99748515 0.41670013 0.17300782]\n",
            "  [0.18247433 0.38259757 0.58886403]]\n",
            "\n",
            " [[0.88311672 0.48230135 0.46483326]\n",
            "  [0.31543069 0.50250502 0.01903488]\n",
            "  [0.31275302 0.2217541  0.14272693]\n",
            "  [0.54210323 0.21558228 0.51110312]]\n",
            "\n",
            " [[0.98574157 0.14958065 0.11354298]\n",
            "  [0.12713505 0.7669728  0.46546746]\n",
            "  [0.93080565 0.73174446 0.40461837]\n",
            "  [0.37123951 0.56433738 0.45794296]]]\n",
            "[[0.43511356 0.2629572  0.33396888 0.71995741]\n",
            " [0.2968472  0.47166398 0.69510435 0.44286075]\n",
            " [0.01405876 0.5745169  0.17034457 0.19874036]\n",
            " [0.79730375 0.64278855 0.31337605 0.61724522]\n",
            " [0.70410359 0.34417847 0.99748515 0.41670013]\n",
            " [0.17300782 0.18247433 0.38259757 0.58886403]\n",
            " [0.88311672 0.48230135 0.46483326 0.31543069]\n",
            " [0.50250502 0.01903488 0.31275302 0.2217541 ]\n",
            " [0.14272693 0.54210323 0.21558228 0.51110312]\n",
            " [0.98574157 0.14958065 0.11354298 0.12713505]\n",
            " [0.7669728  0.46546746 0.93080565 0.73174446]\n",
            " [0.40461837 0.37123951 0.56433738 0.45794296]]\n",
            "[[0.31732681 0.47941498 0.82622122 0.74812889]\n",
            " [0.23981968 0.45417098 0.83366596 0.76837293]\n",
            " [0.02860486 0.37030847 0.23018107 0.14361853]\n",
            " [0.67471622 0.43089143 0.68103432 0.86976549]]\n",
            "[[0.69645558 0.76192248 1.14590754 1.20172845]\n",
            " [0.52600058 0.80475703 1.1000749  1.06950867]\n",
            " [0.28120771 0.41638444 0.66512992 0.64928314]\n",
            " [0.83258864 1.05618676 1.68711863 1.67225249]\n",
            " [0.61565897 1.0428034  1.38206449 1.2969064 ]\n",
            " [0.50692122 0.56123268 0.7841687  0.83676219]\n",
            " [0.62202466 0.95047474 1.45354293 1.37238183]\n",
            " [0.3225906  0.46092056 0.65406102 0.6283556 ]\n",
            " [0.52631437 0.61469489 0.96755876 0.99881706]\n",
            " [0.43770257 0.6373418  1.05185967 0.97928002]\n",
            " [0.87535471 1.23908771 1.73433051 1.70157412]\n",
            " [0.54255113 0.76888893 1.08556868 1.06730937]]\n"
          ],
          "name": "stdout"
        }
      ]
    }
  ]
}