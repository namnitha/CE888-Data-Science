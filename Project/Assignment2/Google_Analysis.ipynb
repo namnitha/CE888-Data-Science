{
  "nbformat": 4,
  "nbformat_minor": 0,
  "metadata": {
    "colab": {
      "name": "Google Analysis.ipynb",
      "provenance": [],
      "authorship_tag": "ABX9TyOerLzPJpKpvbOwejoQQOPp",
      "include_colab_link": true
    },
    "kernelspec": {
      "name": "python3",
      "display_name": "Python 3"
    },
    "accelerator": "GPU"
  },
  "cells": [
    {
      "cell_type": "markdown",
      "metadata": {
        "id": "view-in-github",
        "colab_type": "text"
      },
      "source": [
        "<a href=\"https://colab.research.google.com/github/namnitha/CE888-Data-Science/blob/master/Project/Assignment2/Google_Analysis.ipynb\" target=\"_parent\"><img src=\"https://colab.research.google.com/assets/colab-badge.svg\" alt=\"Open In Colab\"/></a>"
      ]
    },
    {
      "cell_type": "code",
      "metadata": {
        "id": "4eI0zvy77JQD",
        "colab_type": "code",
        "colab": {}
      },
      "source": [
        "import pandas as pd\n",
        "import numpy as np\n",
        "from sklearn.ensemble import RandomForestRegressor\n",
        "from sklearn.ensemble import RandomForestClassifier\n",
        "from sklearn.model_selection import cross_val_score\n",
        "import os\n",
        "import json\n",
        "from pandas.io.json import json_normalize"
      ],
      "execution_count": 0,
      "outputs": []
    },
    {
      "cell_type": "code",
      "metadata": {
        "id": "6VF9BizeGmpE",
        "colab_type": "code",
        "outputId": "a6032483-e089-44f6-9c9b-12b0078dcd5e",
        "colab": {
          "base_uri": "https://localhost:8080/",
          "height": 360
        }
      },
      "source": [
        "import os\n",
        "os.environ['KAGGLE_USERNAME'] = \"namnitha\" # username from the json file\n",
        "os.environ['KAGGLE_KEY'] = \"90ceb5b09eaa184f556d4577eb017b49\" # key from the json file\n",
        "!kaggle competitions download -c ga-customer-revenue-prediction # api copied from kaggle"
      ],
      "execution_count": 4,
      "outputs": [
        {
          "output_type": "stream",
          "text": [
            "Warning: Looks like you're using an outdated API Version, please consider updating (server 1.5.6 / client 1.5.4)\n",
            "Downloading test.csv.zip to /content\n",
            " 86% 49.0M/56.8M [00:02<00:00, 19.9MB/s]\n",
            "100% 56.8M/56.8M [00:02<00:00, 27.4MB/s]\n",
            "Downloading sample_submission_v2.csv.zip to /content\n",
            "  0% 0.00/2.55M [00:00<?, ?B/s]\n",
            "100% 2.55M/2.55M [00:00<00:00, 173MB/s]\n",
            "Downloading train.csv.zip to /content\n",
            " 93% 57.0M/61.1M [00:01<00:00, 48.2MB/s]\n",
            "100% 61.1M/61.1M [00:01<00:00, 46.8MB/s]\n",
            "Downloading train_v2.csv.zip to /content\n",
            "100% 1.11G/1.11G [00:45<00:00, 25.6MB/s]\n",
            "100% 1.11G/1.11G [00:45<00:00, 26.4MB/s]\n",
            "Downloading test_v2.csv.zip to /content\n",
            " 98% 328M/333M [00:09<00:00, 81.1MB/s]\n",
            "100% 333M/333M [00:09<00:00, 38.6MB/s]\n",
            "Downloading sample_submission.csv.zip to /content\n",
            "  0% 0.00/5.23M [00:00<?, ?B/s]\n",
            "100% 5.23M/5.23M [00:00<00:00, 78.4MB/s]\n"
          ],
          "name": "stdout"
        }
      ]
    },
    {
      "cell_type": "code",
      "metadata": {
        "id": "AXaU9kFAG72l",
        "colab_type": "code",
        "outputId": "0a0a4c1b-7a9e-4e90-d321-d3c7e811398b",
        "colab": {
          "base_uri": "https://localhost:8080/",
          "height": 68
        }
      },
      "source": [
        "!ls"
      ],
      "execution_count": 5,
      "outputs": [
        {
          "output_type": "stream",
          "text": [
            "sample_data\t\t      test.csv.zip     train_v2.csv.zip\n",
            "sample_submission.csv.zip     test_v2.csv.zip\n",
            "sample_submission_v2.csv.zip  train.csv.zip\n"
          ],
          "name": "stdout"
        }
      ]
    },
    {
      "cell_type": "code",
      "metadata": {
        "id": "AT3SZ4uGQhG4",
        "colab_type": "code",
        "outputId": "7560a180-ac3f-4d69-ad5f-c7e6473dad5b",
        "colab": {
          "base_uri": "https://localhost:8080/",
          "height": 51
        }
      },
      "source": [
        "from zipfile import ZipFile\n",
        "file_name = \"train.csv.zip\"\n",
        "with ZipFile(file_name,'r') as zip:\n",
        "  zip.extractall()\n",
        "  print('Done')\n",
        "file_name = \"test.csv.zip\"\n",
        "with ZipFile(file_name,'r') as zip:\n",
        "  zip.extractall()\n",
        "  print('Done')"
      ],
      "execution_count": 9,
      "outputs": [
        {
          "output_type": "stream",
          "text": [
            "Done\n",
            "Done\n"
          ],
          "name": "stdout"
        }
      ]
    },
    {
      "cell_type": "markdown",
      "metadata": {
        "id": "jKZG1I23HEbn",
        "colab_type": "text"
      },
      "source": [
        "Loading the train and test data\n",
        "\n"
      ]
    },
    {
      "cell_type": "code",
      "metadata": {
        "id": "jxVueUzT9wAW",
        "colab_type": "code",
        "colab": {}
      },
      "source": [
        "def load_df(csv_path='train.csv', nrows=None):\n",
        "    JSON_COLUMNS = ['device', 'geoNetwork', 'totals', 'trafficSource']\n",
        "    \n",
        "    df = pd.read_csv(csv_path, \n",
        "                     converters={column: json.loads for column in JSON_COLUMNS}, \n",
        "                     dtype={'fullVisitorId': 'str'}, # Important!!\n",
        "                     nrows=nrows)\n",
        "    \n",
        "    for column in JSON_COLUMNS:\n",
        "        column_as_df = json_normalize(df[column])\n",
        "        column_as_df.columns = [f\"{column}.{subcolumn}\" for subcolumn in column_as_df.columns]\n",
        "        df = df.drop(column, axis=1).merge(column_as_df, right_index=True, left_index=True)\n",
        "    print(f\"Loaded {os.path.basename(csv_path)}. Shape: {df.shape}\")\n",
        "    return df"
      ],
      "execution_count": 0,
      "outputs": []
    },
    {
      "cell_type": "code",
      "metadata": {
        "id": "nuyGyONZ974W",
        "colab_type": "code",
        "outputId": "bbd88368-5695-4347-a033-6ae34d0145f3",
        "colab": {
          "base_uri": "https://localhost:8080/",
          "height": 105
        }
      },
      "source": [
        "print('Loading Train set...')\n",
        "train = load_df()"
      ],
      "execution_count": 11,
      "outputs": [
        {
          "output_type": "stream",
          "text": [
            "Loading Train set...\n"
          ],
          "name": "stdout"
        },
        {
          "output_type": "stream",
          "text": [
            "/usr/local/lib/python3.6/dist-packages/ipykernel_launcher.py:10: FutureWarning: pandas.io.json.json_normalize is deprecated, use pandas.json_normalize instead\n",
            "  # Remove the CWD from sys.path while we load stuff.\n"
          ],
          "name": "stderr"
        },
        {
          "output_type": "stream",
          "text": [
            "Loaded train.csv. Shape: (903653, 55)\n"
          ],
          "name": "stdout"
        }
      ]
    },
    {
      "cell_type": "code",
      "metadata": {
        "id": "tlkh80kj-k8D",
        "colab_type": "code",
        "outputId": "9e3fc552-b2fd-44fb-8da5-8689d3dae817",
        "colab": {
          "base_uri": "https://localhost:8080/",
          "height": 105
        }
      },
      "source": [
        "print('Loading Test set...')\n",
        "test = load_df(\"test.csv\")"
      ],
      "execution_count": 12,
      "outputs": [
        {
          "output_type": "stream",
          "text": [
            "Loading Test set...\n"
          ],
          "name": "stdout"
        },
        {
          "output_type": "stream",
          "text": [
            "/usr/local/lib/python3.6/dist-packages/ipykernel_launcher.py:10: FutureWarning: pandas.io.json.json_normalize is deprecated, use pandas.json_normalize instead\n",
            "  # Remove the CWD from sys.path while we load stuff.\n"
          ],
          "name": "stderr"
        },
        {
          "output_type": "stream",
          "text": [
            "Loaded test.csv. Shape: (804684, 53)\n"
          ],
          "name": "stdout"
        }
      ]
    },
    {
      "cell_type": "code",
      "metadata": {
        "id": "gIKTXQW8P6_6",
        "colab_type": "code",
        "outputId": "8fae9b0d-e0fa-4d63-d419-403e61626207",
        "colab": {
          "base_uri": "https://localhost:8080/",
          "height": 309
        }
      },
      "source": [
        "train.head()"
      ],
      "execution_count": 13,
      "outputs": [
        {
          "output_type": "execute_result",
          "data": {
            "text/html": [
              "<div>\n",
              "<style scoped>\n",
              "    .dataframe tbody tr th:only-of-type {\n",
              "        vertical-align: middle;\n",
              "    }\n",
              "\n",
              "    .dataframe tbody tr th {\n",
              "        vertical-align: top;\n",
              "    }\n",
              "\n",
              "    .dataframe thead th {\n",
              "        text-align: right;\n",
              "    }\n",
              "</style>\n",
              "<table border=\"1\" class=\"dataframe\">\n",
              "  <thead>\n",
              "    <tr style=\"text-align: right;\">\n",
              "      <th></th>\n",
              "      <th>channelGrouping</th>\n",
              "      <th>date</th>\n",
              "      <th>fullVisitorId</th>\n",
              "      <th>sessionId</th>\n",
              "      <th>socialEngagementType</th>\n",
              "      <th>visitId</th>\n",
              "      <th>visitNumber</th>\n",
              "      <th>visitStartTime</th>\n",
              "      <th>device.browser</th>\n",
              "      <th>device.browserVersion</th>\n",
              "      <th>device.browserSize</th>\n",
              "      <th>device.operatingSystem</th>\n",
              "      <th>device.operatingSystemVersion</th>\n",
              "      <th>device.isMobile</th>\n",
              "      <th>device.mobileDeviceBranding</th>\n",
              "      <th>device.mobileDeviceModel</th>\n",
              "      <th>device.mobileInputSelector</th>\n",
              "      <th>device.mobileDeviceInfo</th>\n",
              "      <th>device.mobileDeviceMarketingName</th>\n",
              "      <th>device.flashVersion</th>\n",
              "      <th>device.language</th>\n",
              "      <th>device.screenColors</th>\n",
              "      <th>device.screenResolution</th>\n",
              "      <th>device.deviceCategory</th>\n",
              "      <th>geoNetwork.continent</th>\n",
              "      <th>geoNetwork.subContinent</th>\n",
              "      <th>geoNetwork.country</th>\n",
              "      <th>geoNetwork.region</th>\n",
              "      <th>geoNetwork.metro</th>\n",
              "      <th>geoNetwork.city</th>\n",
              "      <th>geoNetwork.cityId</th>\n",
              "      <th>geoNetwork.networkDomain</th>\n",
              "      <th>geoNetwork.latitude</th>\n",
              "      <th>geoNetwork.longitude</th>\n",
              "      <th>geoNetwork.networkLocation</th>\n",
              "      <th>totals.visits</th>\n",
              "      <th>totals.hits</th>\n",
              "      <th>totals.pageviews</th>\n",
              "      <th>totals.bounces</th>\n",
              "      <th>totals.newVisits</th>\n",
              "      <th>totals.transactionRevenue</th>\n",
              "      <th>trafficSource.campaign</th>\n",
              "      <th>trafficSource.source</th>\n",
              "      <th>trafficSource.medium</th>\n",
              "      <th>trafficSource.keyword</th>\n",
              "      <th>trafficSource.adwordsClickInfo.criteriaParameters</th>\n",
              "      <th>trafficSource.isTrueDirect</th>\n",
              "      <th>trafficSource.referralPath</th>\n",
              "      <th>trafficSource.adwordsClickInfo.page</th>\n",
              "      <th>trafficSource.adwordsClickInfo.slot</th>\n",
              "      <th>trafficSource.adwordsClickInfo.gclId</th>\n",
              "      <th>trafficSource.adwordsClickInfo.adNetworkType</th>\n",
              "      <th>trafficSource.adwordsClickInfo.isVideoAd</th>\n",
              "      <th>trafficSource.adContent</th>\n",
              "      <th>trafficSource.campaignCode</th>\n",
              "    </tr>\n",
              "  </thead>\n",
              "  <tbody>\n",
              "    <tr>\n",
              "      <th>0</th>\n",
              "      <td>Organic Search</td>\n",
              "      <td>20160902</td>\n",
              "      <td>1131660440785968503</td>\n",
              "      <td>1131660440785968503_1472830385</td>\n",
              "      <td>Not Socially Engaged</td>\n",
              "      <td>1472830385</td>\n",
              "      <td>1</td>\n",
              "      <td>1472830385</td>\n",
              "      <td>Chrome</td>\n",
              "      <td>not available in demo dataset</td>\n",
              "      <td>not available in demo dataset</td>\n",
              "      <td>Windows</td>\n",
              "      <td>not available in demo dataset</td>\n",
              "      <td>False</td>\n",
              "      <td>not available in demo dataset</td>\n",
              "      <td>not available in demo dataset</td>\n",
              "      <td>not available in demo dataset</td>\n",
              "      <td>not available in demo dataset</td>\n",
              "      <td>not available in demo dataset</td>\n",
              "      <td>not available in demo dataset</td>\n",
              "      <td>not available in demo dataset</td>\n",
              "      <td>not available in demo dataset</td>\n",
              "      <td>not available in demo dataset</td>\n",
              "      <td>desktop</td>\n",
              "      <td>Asia</td>\n",
              "      <td>Western Asia</td>\n",
              "      <td>Turkey</td>\n",
              "      <td>Izmir</td>\n",
              "      <td>(not set)</td>\n",
              "      <td>Izmir</td>\n",
              "      <td>not available in demo dataset</td>\n",
              "      <td>ttnet.com.tr</td>\n",
              "      <td>not available in demo dataset</td>\n",
              "      <td>not available in demo dataset</td>\n",
              "      <td>not available in demo dataset</td>\n",
              "      <td>1</td>\n",
              "      <td>1</td>\n",
              "      <td>1</td>\n",
              "      <td>1</td>\n",
              "      <td>1</td>\n",
              "      <td>NaN</td>\n",
              "      <td>(not set)</td>\n",
              "      <td>google</td>\n",
              "      <td>organic</td>\n",
              "      <td>(not provided)</td>\n",
              "      <td>not available in demo dataset</td>\n",
              "      <td>NaN</td>\n",
              "      <td>NaN</td>\n",
              "      <td>NaN</td>\n",
              "      <td>NaN</td>\n",
              "      <td>NaN</td>\n",
              "      <td>NaN</td>\n",
              "      <td>NaN</td>\n",
              "      <td>NaN</td>\n",
              "      <td>NaN</td>\n",
              "    </tr>\n",
              "    <tr>\n",
              "      <th>1</th>\n",
              "      <td>Organic Search</td>\n",
              "      <td>20160902</td>\n",
              "      <td>377306020877927890</td>\n",
              "      <td>377306020877927890_1472880147</td>\n",
              "      <td>Not Socially Engaged</td>\n",
              "      <td>1472880147</td>\n",
              "      <td>1</td>\n",
              "      <td>1472880147</td>\n",
              "      <td>Firefox</td>\n",
              "      <td>not available in demo dataset</td>\n",
              "      <td>not available in demo dataset</td>\n",
              "      <td>Macintosh</td>\n",
              "      <td>not available in demo dataset</td>\n",
              "      <td>False</td>\n",
              "      <td>not available in demo dataset</td>\n",
              "      <td>not available in demo dataset</td>\n",
              "      <td>not available in demo dataset</td>\n",
              "      <td>not available in demo dataset</td>\n",
              "      <td>not available in demo dataset</td>\n",
              "      <td>not available in demo dataset</td>\n",
              "      <td>not available in demo dataset</td>\n",
              "      <td>not available in demo dataset</td>\n",
              "      <td>not available in demo dataset</td>\n",
              "      <td>desktop</td>\n",
              "      <td>Oceania</td>\n",
              "      <td>Australasia</td>\n",
              "      <td>Australia</td>\n",
              "      <td>not available in demo dataset</td>\n",
              "      <td>not available in demo dataset</td>\n",
              "      <td>not available in demo dataset</td>\n",
              "      <td>not available in demo dataset</td>\n",
              "      <td>dodo.net.au</td>\n",
              "      <td>not available in demo dataset</td>\n",
              "      <td>not available in demo dataset</td>\n",
              "      <td>not available in demo dataset</td>\n",
              "      <td>1</td>\n",
              "      <td>1</td>\n",
              "      <td>1</td>\n",
              "      <td>1</td>\n",
              "      <td>1</td>\n",
              "      <td>NaN</td>\n",
              "      <td>(not set)</td>\n",
              "      <td>google</td>\n",
              "      <td>organic</td>\n",
              "      <td>(not provided)</td>\n",
              "      <td>not available in demo dataset</td>\n",
              "      <td>NaN</td>\n",
              "      <td>NaN</td>\n",
              "      <td>NaN</td>\n",
              "      <td>NaN</td>\n",
              "      <td>NaN</td>\n",
              "      <td>NaN</td>\n",
              "      <td>NaN</td>\n",
              "      <td>NaN</td>\n",
              "      <td>NaN</td>\n",
              "    </tr>\n",
              "    <tr>\n",
              "      <th>2</th>\n",
              "      <td>Organic Search</td>\n",
              "      <td>20160902</td>\n",
              "      <td>3895546263509774583</td>\n",
              "      <td>3895546263509774583_1472865386</td>\n",
              "      <td>Not Socially Engaged</td>\n",
              "      <td>1472865386</td>\n",
              "      <td>1</td>\n",
              "      <td>1472865386</td>\n",
              "      <td>Chrome</td>\n",
              "      <td>not available in demo dataset</td>\n",
              "      <td>not available in demo dataset</td>\n",
              "      <td>Windows</td>\n",
              "      <td>not available in demo dataset</td>\n",
              "      <td>False</td>\n",
              "      <td>not available in demo dataset</td>\n",
              "      <td>not available in demo dataset</td>\n",
              "      <td>not available in demo dataset</td>\n",
              "      <td>not available in demo dataset</td>\n",
              "      <td>not available in demo dataset</td>\n",
              "      <td>not available in demo dataset</td>\n",
              "      <td>not available in demo dataset</td>\n",
              "      <td>not available in demo dataset</td>\n",
              "      <td>not available in demo dataset</td>\n",
              "      <td>desktop</td>\n",
              "      <td>Europe</td>\n",
              "      <td>Southern Europe</td>\n",
              "      <td>Spain</td>\n",
              "      <td>Community of Madrid</td>\n",
              "      <td>(not set)</td>\n",
              "      <td>Madrid</td>\n",
              "      <td>not available in demo dataset</td>\n",
              "      <td>unknown.unknown</td>\n",
              "      <td>not available in demo dataset</td>\n",
              "      <td>not available in demo dataset</td>\n",
              "      <td>not available in demo dataset</td>\n",
              "      <td>1</td>\n",
              "      <td>1</td>\n",
              "      <td>1</td>\n",
              "      <td>1</td>\n",
              "      <td>1</td>\n",
              "      <td>NaN</td>\n",
              "      <td>(not set)</td>\n",
              "      <td>google</td>\n",
              "      <td>organic</td>\n",
              "      <td>(not provided)</td>\n",
              "      <td>not available in demo dataset</td>\n",
              "      <td>NaN</td>\n",
              "      <td>NaN</td>\n",
              "      <td>NaN</td>\n",
              "      <td>NaN</td>\n",
              "      <td>NaN</td>\n",
              "      <td>NaN</td>\n",
              "      <td>NaN</td>\n",
              "      <td>NaN</td>\n",
              "      <td>NaN</td>\n",
              "    </tr>\n",
              "    <tr>\n",
              "      <th>3</th>\n",
              "      <td>Organic Search</td>\n",
              "      <td>20160902</td>\n",
              "      <td>4763447161404445595</td>\n",
              "      <td>4763447161404445595_1472881213</td>\n",
              "      <td>Not Socially Engaged</td>\n",
              "      <td>1472881213</td>\n",
              "      <td>1</td>\n",
              "      <td>1472881213</td>\n",
              "      <td>UC Browser</td>\n",
              "      <td>not available in demo dataset</td>\n",
              "      <td>not available in demo dataset</td>\n",
              "      <td>Linux</td>\n",
              "      <td>not available in demo dataset</td>\n",
              "      <td>False</td>\n",
              "      <td>not available in demo dataset</td>\n",
              "      <td>not available in demo dataset</td>\n",
              "      <td>not available in demo dataset</td>\n",
              "      <td>not available in demo dataset</td>\n",
              "      <td>not available in demo dataset</td>\n",
              "      <td>not available in demo dataset</td>\n",
              "      <td>not available in demo dataset</td>\n",
              "      <td>not available in demo dataset</td>\n",
              "      <td>not available in demo dataset</td>\n",
              "      <td>desktop</td>\n",
              "      <td>Asia</td>\n",
              "      <td>Southeast Asia</td>\n",
              "      <td>Indonesia</td>\n",
              "      <td>not available in demo dataset</td>\n",
              "      <td>not available in demo dataset</td>\n",
              "      <td>not available in demo dataset</td>\n",
              "      <td>not available in demo dataset</td>\n",
              "      <td>unknown.unknown</td>\n",
              "      <td>not available in demo dataset</td>\n",
              "      <td>not available in demo dataset</td>\n",
              "      <td>not available in demo dataset</td>\n",
              "      <td>1</td>\n",
              "      <td>1</td>\n",
              "      <td>1</td>\n",
              "      <td>1</td>\n",
              "      <td>1</td>\n",
              "      <td>NaN</td>\n",
              "      <td>(not set)</td>\n",
              "      <td>google</td>\n",
              "      <td>organic</td>\n",
              "      <td>google + online</td>\n",
              "      <td>not available in demo dataset</td>\n",
              "      <td>NaN</td>\n",
              "      <td>NaN</td>\n",
              "      <td>NaN</td>\n",
              "      <td>NaN</td>\n",
              "      <td>NaN</td>\n",
              "      <td>NaN</td>\n",
              "      <td>NaN</td>\n",
              "      <td>NaN</td>\n",
              "      <td>NaN</td>\n",
              "    </tr>\n",
              "    <tr>\n",
              "      <th>4</th>\n",
              "      <td>Organic Search</td>\n",
              "      <td>20160902</td>\n",
              "      <td>27294437909732085</td>\n",
              "      <td>27294437909732085_1472822600</td>\n",
              "      <td>Not Socially Engaged</td>\n",
              "      <td>1472822600</td>\n",
              "      <td>2</td>\n",
              "      <td>1472822600</td>\n",
              "      <td>Chrome</td>\n",
              "      <td>not available in demo dataset</td>\n",
              "      <td>not available in demo dataset</td>\n",
              "      <td>Android</td>\n",
              "      <td>not available in demo dataset</td>\n",
              "      <td>True</td>\n",
              "      <td>not available in demo dataset</td>\n",
              "      <td>not available in demo dataset</td>\n",
              "      <td>not available in demo dataset</td>\n",
              "      <td>not available in demo dataset</td>\n",
              "      <td>not available in demo dataset</td>\n",
              "      <td>not available in demo dataset</td>\n",
              "      <td>not available in demo dataset</td>\n",
              "      <td>not available in demo dataset</td>\n",
              "      <td>not available in demo dataset</td>\n",
              "      <td>mobile</td>\n",
              "      <td>Europe</td>\n",
              "      <td>Northern Europe</td>\n",
              "      <td>United Kingdom</td>\n",
              "      <td>not available in demo dataset</td>\n",
              "      <td>not available in demo dataset</td>\n",
              "      <td>not available in demo dataset</td>\n",
              "      <td>not available in demo dataset</td>\n",
              "      <td>unknown.unknown</td>\n",
              "      <td>not available in demo dataset</td>\n",
              "      <td>not available in demo dataset</td>\n",
              "      <td>not available in demo dataset</td>\n",
              "      <td>1</td>\n",
              "      <td>1</td>\n",
              "      <td>1</td>\n",
              "      <td>1</td>\n",
              "      <td>NaN</td>\n",
              "      <td>NaN</td>\n",
              "      <td>(not set)</td>\n",
              "      <td>google</td>\n",
              "      <td>organic</td>\n",
              "      <td>(not provided)</td>\n",
              "      <td>not available in demo dataset</td>\n",
              "      <td>True</td>\n",
              "      <td>NaN</td>\n",
              "      <td>NaN</td>\n",
              "      <td>NaN</td>\n",
              "      <td>NaN</td>\n",
              "      <td>NaN</td>\n",
              "      <td>NaN</td>\n",
              "      <td>NaN</td>\n",
              "      <td>NaN</td>\n",
              "    </tr>\n",
              "  </tbody>\n",
              "</table>\n",
              "</div>"
            ],
            "text/plain": [
              "  channelGrouping      date  ... trafficSource.adContent trafficSource.campaignCode\n",
              "0  Organic Search  20160902  ...                     NaN                        NaN\n",
              "1  Organic Search  20160902  ...                     NaN                        NaN\n",
              "2  Organic Search  20160902  ...                     NaN                        NaN\n",
              "3  Organic Search  20160902  ...                     NaN                        NaN\n",
              "4  Organic Search  20160902  ...                     NaN                        NaN\n",
              "\n",
              "[5 rows x 55 columns]"
            ]
          },
          "metadata": {
            "tags": []
          },
          "execution_count": 13
        }
      ]
    },
    {
      "cell_type": "code",
      "metadata": {
        "id": "jQBLbAdxP6Yz",
        "colab_type": "code",
        "outputId": "48e79f71-4a3f-4852-9a81-4c4ba4e49797",
        "colab": {
          "base_uri": "https://localhost:8080/",
          "height": 343
        }
      },
      "source": [
        "test.head()"
      ],
      "execution_count": 14,
      "outputs": [
        {
          "output_type": "execute_result",
          "data": {
            "text/html": [
              "<div>\n",
              "<style scoped>\n",
              "    .dataframe tbody tr th:only-of-type {\n",
              "        vertical-align: middle;\n",
              "    }\n",
              "\n",
              "    .dataframe tbody tr th {\n",
              "        vertical-align: top;\n",
              "    }\n",
              "\n",
              "    .dataframe thead th {\n",
              "        text-align: right;\n",
              "    }\n",
              "</style>\n",
              "<table border=\"1\" class=\"dataframe\">\n",
              "  <thead>\n",
              "    <tr style=\"text-align: right;\">\n",
              "      <th></th>\n",
              "      <th>channelGrouping</th>\n",
              "      <th>date</th>\n",
              "      <th>fullVisitorId</th>\n",
              "      <th>sessionId</th>\n",
              "      <th>socialEngagementType</th>\n",
              "      <th>visitId</th>\n",
              "      <th>visitNumber</th>\n",
              "      <th>visitStartTime</th>\n",
              "      <th>device.browser</th>\n",
              "      <th>device.browserVersion</th>\n",
              "      <th>device.browserSize</th>\n",
              "      <th>device.operatingSystem</th>\n",
              "      <th>device.operatingSystemVersion</th>\n",
              "      <th>device.isMobile</th>\n",
              "      <th>device.mobileDeviceBranding</th>\n",
              "      <th>device.mobileDeviceModel</th>\n",
              "      <th>device.mobileInputSelector</th>\n",
              "      <th>device.mobileDeviceInfo</th>\n",
              "      <th>device.mobileDeviceMarketingName</th>\n",
              "      <th>device.flashVersion</th>\n",
              "      <th>device.language</th>\n",
              "      <th>device.screenColors</th>\n",
              "      <th>device.screenResolution</th>\n",
              "      <th>device.deviceCategory</th>\n",
              "      <th>geoNetwork.continent</th>\n",
              "      <th>geoNetwork.subContinent</th>\n",
              "      <th>geoNetwork.country</th>\n",
              "      <th>geoNetwork.region</th>\n",
              "      <th>geoNetwork.metro</th>\n",
              "      <th>geoNetwork.city</th>\n",
              "      <th>geoNetwork.cityId</th>\n",
              "      <th>geoNetwork.networkDomain</th>\n",
              "      <th>geoNetwork.latitude</th>\n",
              "      <th>geoNetwork.longitude</th>\n",
              "      <th>geoNetwork.networkLocation</th>\n",
              "      <th>totals.visits</th>\n",
              "      <th>totals.hits</th>\n",
              "      <th>totals.pageviews</th>\n",
              "      <th>totals.newVisits</th>\n",
              "      <th>totals.bounces</th>\n",
              "      <th>trafficSource.campaign</th>\n",
              "      <th>trafficSource.source</th>\n",
              "      <th>trafficSource.medium</th>\n",
              "      <th>trafficSource.keyword</th>\n",
              "      <th>trafficSource.isTrueDirect</th>\n",
              "      <th>trafficSource.adwordsClickInfo.criteriaParameters</th>\n",
              "      <th>trafficSource.adwordsClickInfo.page</th>\n",
              "      <th>trafficSource.adwordsClickInfo.slot</th>\n",
              "      <th>trafficSource.adwordsClickInfo.gclId</th>\n",
              "      <th>trafficSource.adwordsClickInfo.adNetworkType</th>\n",
              "      <th>trafficSource.adwordsClickInfo.isVideoAd</th>\n",
              "      <th>trafficSource.referralPath</th>\n",
              "      <th>trafficSource.adContent</th>\n",
              "    </tr>\n",
              "  </thead>\n",
              "  <tbody>\n",
              "    <tr>\n",
              "      <th>0</th>\n",
              "      <td>Organic Search</td>\n",
              "      <td>20171016</td>\n",
              "      <td>6167871330617112363</td>\n",
              "      <td>6167871330617112363_1508151024</td>\n",
              "      <td>Not Socially Engaged</td>\n",
              "      <td>1508151024</td>\n",
              "      <td>2</td>\n",
              "      <td>1508151024</td>\n",
              "      <td>Chrome</td>\n",
              "      <td>not available in demo dataset</td>\n",
              "      <td>not available in demo dataset</td>\n",
              "      <td>Macintosh</td>\n",
              "      <td>not available in demo dataset</td>\n",
              "      <td>False</td>\n",
              "      <td>not available in demo dataset</td>\n",
              "      <td>not available in demo dataset</td>\n",
              "      <td>not available in demo dataset</td>\n",
              "      <td>not available in demo dataset</td>\n",
              "      <td>not available in demo dataset</td>\n",
              "      <td>not available in demo dataset</td>\n",
              "      <td>not available in demo dataset</td>\n",
              "      <td>not available in demo dataset</td>\n",
              "      <td>not available in demo dataset</td>\n",
              "      <td>desktop</td>\n",
              "      <td>Asia</td>\n",
              "      <td>Southeast Asia</td>\n",
              "      <td>Singapore</td>\n",
              "      <td>(not set)</td>\n",
              "      <td>(not set)</td>\n",
              "      <td>(not set)</td>\n",
              "      <td>not available in demo dataset</td>\n",
              "      <td>myrepublic.com.sg</td>\n",
              "      <td>not available in demo dataset</td>\n",
              "      <td>not available in demo dataset</td>\n",
              "      <td>not available in demo dataset</td>\n",
              "      <td>1</td>\n",
              "      <td>4</td>\n",
              "      <td>4</td>\n",
              "      <td>NaN</td>\n",
              "      <td>NaN</td>\n",
              "      <td>(not set)</td>\n",
              "      <td>google</td>\n",
              "      <td>organic</td>\n",
              "      <td>(not provided)</td>\n",
              "      <td>True</td>\n",
              "      <td>not available in demo dataset</td>\n",
              "      <td>NaN</td>\n",
              "      <td>NaN</td>\n",
              "      <td>NaN</td>\n",
              "      <td>NaN</td>\n",
              "      <td>NaN</td>\n",
              "      <td>NaN</td>\n",
              "      <td>NaN</td>\n",
              "    </tr>\n",
              "    <tr>\n",
              "      <th>1</th>\n",
              "      <td>Organic Search</td>\n",
              "      <td>20171016</td>\n",
              "      <td>0643697640977915618</td>\n",
              "      <td>0643697640977915618_1508175522</td>\n",
              "      <td>Not Socially Engaged</td>\n",
              "      <td>1508175522</td>\n",
              "      <td>1</td>\n",
              "      <td>1508175522</td>\n",
              "      <td>Chrome</td>\n",
              "      <td>not available in demo dataset</td>\n",
              "      <td>not available in demo dataset</td>\n",
              "      <td>Windows</td>\n",
              "      <td>not available in demo dataset</td>\n",
              "      <td>False</td>\n",
              "      <td>not available in demo dataset</td>\n",
              "      <td>not available in demo dataset</td>\n",
              "      <td>not available in demo dataset</td>\n",
              "      <td>not available in demo dataset</td>\n",
              "      <td>not available in demo dataset</td>\n",
              "      <td>not available in demo dataset</td>\n",
              "      <td>not available in demo dataset</td>\n",
              "      <td>not available in demo dataset</td>\n",
              "      <td>not available in demo dataset</td>\n",
              "      <td>desktop</td>\n",
              "      <td>Europe</td>\n",
              "      <td>Southern Europe</td>\n",
              "      <td>Spain</td>\n",
              "      <td>Aragon</td>\n",
              "      <td>(not set)</td>\n",
              "      <td>Zaragoza</td>\n",
              "      <td>not available in demo dataset</td>\n",
              "      <td>rima-tde.net</td>\n",
              "      <td>not available in demo dataset</td>\n",
              "      <td>not available in demo dataset</td>\n",
              "      <td>not available in demo dataset</td>\n",
              "      <td>1</td>\n",
              "      <td>5</td>\n",
              "      <td>5</td>\n",
              "      <td>1</td>\n",
              "      <td>NaN</td>\n",
              "      <td>(not set)</td>\n",
              "      <td>google</td>\n",
              "      <td>organic</td>\n",
              "      <td>(not provided)</td>\n",
              "      <td>NaN</td>\n",
              "      <td>not available in demo dataset</td>\n",
              "      <td>NaN</td>\n",
              "      <td>NaN</td>\n",
              "      <td>NaN</td>\n",
              "      <td>NaN</td>\n",
              "      <td>NaN</td>\n",
              "      <td>NaN</td>\n",
              "      <td>NaN</td>\n",
              "    </tr>\n",
              "    <tr>\n",
              "      <th>2</th>\n",
              "      <td>Organic Search</td>\n",
              "      <td>20171016</td>\n",
              "      <td>6059383810968229466</td>\n",
              "      <td>6059383810968229466_1508143220</td>\n",
              "      <td>Not Socially Engaged</td>\n",
              "      <td>1508143220</td>\n",
              "      <td>1</td>\n",
              "      <td>1508143220</td>\n",
              "      <td>Chrome</td>\n",
              "      <td>not available in demo dataset</td>\n",
              "      <td>not available in demo dataset</td>\n",
              "      <td>Macintosh</td>\n",
              "      <td>not available in demo dataset</td>\n",
              "      <td>False</td>\n",
              "      <td>not available in demo dataset</td>\n",
              "      <td>not available in demo dataset</td>\n",
              "      <td>not available in demo dataset</td>\n",
              "      <td>not available in demo dataset</td>\n",
              "      <td>not available in demo dataset</td>\n",
              "      <td>not available in demo dataset</td>\n",
              "      <td>not available in demo dataset</td>\n",
              "      <td>not available in demo dataset</td>\n",
              "      <td>not available in demo dataset</td>\n",
              "      <td>desktop</td>\n",
              "      <td>Europe</td>\n",
              "      <td>Western Europe</td>\n",
              "      <td>France</td>\n",
              "      <td>not available in demo dataset</td>\n",
              "      <td>not available in demo dataset</td>\n",
              "      <td>not available in demo dataset</td>\n",
              "      <td>not available in demo dataset</td>\n",
              "      <td>sfr.net</td>\n",
              "      <td>not available in demo dataset</td>\n",
              "      <td>not available in demo dataset</td>\n",
              "      <td>not available in demo dataset</td>\n",
              "      <td>1</td>\n",
              "      <td>7</td>\n",
              "      <td>7</td>\n",
              "      <td>1</td>\n",
              "      <td>NaN</td>\n",
              "      <td>(not set)</td>\n",
              "      <td>google</td>\n",
              "      <td>organic</td>\n",
              "      <td>(not provided)</td>\n",
              "      <td>NaN</td>\n",
              "      <td>not available in demo dataset</td>\n",
              "      <td>NaN</td>\n",
              "      <td>NaN</td>\n",
              "      <td>NaN</td>\n",
              "      <td>NaN</td>\n",
              "      <td>NaN</td>\n",
              "      <td>NaN</td>\n",
              "      <td>NaN</td>\n",
              "    </tr>\n",
              "    <tr>\n",
              "      <th>3</th>\n",
              "      <td>Organic Search</td>\n",
              "      <td>20171016</td>\n",
              "      <td>2376720078563423631</td>\n",
              "      <td>2376720078563423631_1508193530</td>\n",
              "      <td>Not Socially Engaged</td>\n",
              "      <td>1508193530</td>\n",
              "      <td>1</td>\n",
              "      <td>1508193530</td>\n",
              "      <td>Safari</td>\n",
              "      <td>not available in demo dataset</td>\n",
              "      <td>not available in demo dataset</td>\n",
              "      <td>iOS</td>\n",
              "      <td>not available in demo dataset</td>\n",
              "      <td>True</td>\n",
              "      <td>not available in demo dataset</td>\n",
              "      <td>not available in demo dataset</td>\n",
              "      <td>not available in demo dataset</td>\n",
              "      <td>not available in demo dataset</td>\n",
              "      <td>not available in demo dataset</td>\n",
              "      <td>not available in demo dataset</td>\n",
              "      <td>not available in demo dataset</td>\n",
              "      <td>not available in demo dataset</td>\n",
              "      <td>not available in demo dataset</td>\n",
              "      <td>mobile</td>\n",
              "      <td>Americas</td>\n",
              "      <td>Northern America</td>\n",
              "      <td>United States</td>\n",
              "      <td>California</td>\n",
              "      <td>San Francisco-Oakland-San Jose CA</td>\n",
              "      <td>Mountain View</td>\n",
              "      <td>not available in demo dataset</td>\n",
              "      <td>(not set)</td>\n",
              "      <td>not available in demo dataset</td>\n",
              "      <td>not available in demo dataset</td>\n",
              "      <td>not available in demo dataset</td>\n",
              "      <td>1</td>\n",
              "      <td>8</td>\n",
              "      <td>4</td>\n",
              "      <td>1</td>\n",
              "      <td>NaN</td>\n",
              "      <td>(not set)</td>\n",
              "      <td>google</td>\n",
              "      <td>organic</td>\n",
              "      <td>(not provided)</td>\n",
              "      <td>NaN</td>\n",
              "      <td>not available in demo dataset</td>\n",
              "      <td>NaN</td>\n",
              "      <td>NaN</td>\n",
              "      <td>NaN</td>\n",
              "      <td>NaN</td>\n",
              "      <td>NaN</td>\n",
              "      <td>NaN</td>\n",
              "      <td>NaN</td>\n",
              "    </tr>\n",
              "    <tr>\n",
              "      <th>4</th>\n",
              "      <td>Organic Search</td>\n",
              "      <td>20171016</td>\n",
              "      <td>2314544520795440038</td>\n",
              "      <td>2314544520795440038_1508217442</td>\n",
              "      <td>Not Socially Engaged</td>\n",
              "      <td>1508217442</td>\n",
              "      <td>1</td>\n",
              "      <td>1508217442</td>\n",
              "      <td>Safari</td>\n",
              "      <td>not available in demo dataset</td>\n",
              "      <td>not available in demo dataset</td>\n",
              "      <td>Macintosh</td>\n",
              "      <td>not available in demo dataset</td>\n",
              "      <td>False</td>\n",
              "      <td>not available in demo dataset</td>\n",
              "      <td>not available in demo dataset</td>\n",
              "      <td>not available in demo dataset</td>\n",
              "      <td>not available in demo dataset</td>\n",
              "      <td>not available in demo dataset</td>\n",
              "      <td>not available in demo dataset</td>\n",
              "      <td>not available in demo dataset</td>\n",
              "      <td>not available in demo dataset</td>\n",
              "      <td>not available in demo dataset</td>\n",
              "      <td>desktop</td>\n",
              "      <td>Americas</td>\n",
              "      <td>Northern America</td>\n",
              "      <td>United States</td>\n",
              "      <td>California</td>\n",
              "      <td>San Francisco-Oakland-San Jose CA</td>\n",
              "      <td>San Jose</td>\n",
              "      <td>not available in demo dataset</td>\n",
              "      <td>(not set)</td>\n",
              "      <td>not available in demo dataset</td>\n",
              "      <td>not available in demo dataset</td>\n",
              "      <td>not available in demo dataset</td>\n",
              "      <td>1</td>\n",
              "      <td>9</td>\n",
              "      <td>4</td>\n",
              "      <td>1</td>\n",
              "      <td>NaN</td>\n",
              "      <td>(not set)</td>\n",
              "      <td>google</td>\n",
              "      <td>organic</td>\n",
              "      <td>(not provided)</td>\n",
              "      <td>NaN</td>\n",
              "      <td>not available in demo dataset</td>\n",
              "      <td>NaN</td>\n",
              "      <td>NaN</td>\n",
              "      <td>NaN</td>\n",
              "      <td>NaN</td>\n",
              "      <td>NaN</td>\n",
              "      <td>NaN</td>\n",
              "      <td>NaN</td>\n",
              "    </tr>\n",
              "  </tbody>\n",
              "</table>\n",
              "</div>"
            ],
            "text/plain": [
              "  channelGrouping      date  ... trafficSource.referralPath trafficSource.adContent\n",
              "0  Organic Search  20171016  ...                        NaN                     NaN\n",
              "1  Organic Search  20171016  ...                        NaN                     NaN\n",
              "2  Organic Search  20171016  ...                        NaN                     NaN\n",
              "3  Organic Search  20171016  ...                        NaN                     NaN\n",
              "4  Organic Search  20171016  ...                        NaN                     NaN\n",
              "\n",
              "[5 rows x 53 columns]"
            ]
          },
          "metadata": {
            "tags": []
          },
          "execution_count": 14
        }
      ]
    },
    {
      "cell_type": "markdown",
      "metadata": {
        "id": "AUjHNQFiC3cv",
        "colab_type": "text"
      },
      "source": [
        "Plotting histograms for random columns in comparision with the train vs test colums"
      ]
    },
    {
      "cell_type": "code",
      "metadata": {
        "id": "7ywcMKzlRuz0",
        "colab_type": "code",
        "outputId": "b6c80268-ba04-40d4-dfdd-bb2e0401f72d",
        "colab": {
          "base_uri": "https://localhost:8080/",
          "height": 282
        }
      },
      "source": [
        "train['geoNetwork.country'].hist() \n",
        "test['geoNetwork.country'].hist()\n",
        "train[\"trafficSource.adContent\"].hist() \n",
        "test['trafficSource.adContent'].hist()\n",
        "train[\"trafficSource.source\"].hist() \n",
        "test['trafficSource.source'].hist()"
      ],
      "execution_count": 31,
      "outputs": [
        {
          "output_type": "execute_result",
          "data": {
            "text/plain": [
              "<matplotlib.axes._subplots.AxesSubplot at 0x7fcce4de1080>"
            ]
          },
          "metadata": {
            "tags": []
          },
          "execution_count": 31
        },
        {
          "output_type": "display_data",
          "data": {
            "image/png": "[encoded data removed]",
            "text/plain": [
              "<Figure size 432x288 with 1 Axes>"
            ]
          },
          "metadata": {
            "tags": [],
            "needs_background": "light"
          }
        }
      ]
    },
    {
      "cell_type": "code",
      "metadata": {
        "id": "dMWNVuomRvHE",
        "colab_type": "code",
        "outputId": "ce3f7645-e281-462b-84f3-7f1b2bfe0d9f",
        "colab": {
          "base_uri": "https://localhost:8080/",
          "height": 282
        }
      },
      "source": [
        "train['device.browserVersion'].hist() \n",
        "test['device.browserVersion'].hist()\n",
        "train[\"device.deviceCategory\"].hist() \n",
        "test['device.deviceCategory'].hist()\n",
        "train[\"device.flashVersion\"].hist() \n",
        "test['device.flashVersion'].hist()"
      ],
      "execution_count": 16,
      "outputs": [
        {
          "output_type": "execute_result",
          "data": {
            "text/plain": [
              "<matplotlib.axes._subplots.AxesSubplot at 0x7fcce4fcd080>"
            ]
          },
          "metadata": {
            "tags": []
          },
          "execution_count": 16
        },
        {
          "output_type": "display_data",
          "data": {
            "image/png": "[encoded data removed]",
            "text/plain": [
              "<Figure size 432x288 with 1 Axes>"
            ]
          },
          "metadata": {
            "tags": [],
            "needs_background": "light"
          }
        }
      ]
    },
    {
      "cell_type": "code",
      "metadata": {
        "id": "ogDnhD6S_GXl",
        "colab_type": "code",
        "outputId": "a9211f75-a758-4f8c-f7a8-2a45be61d0d0",
        "colab": {
          "base_uri": "https://localhost:8080/",
          "height": 68
        }
      },
      "source": [
        "print('Imputing missing values...')\n",
        "for i in train.columns:\n",
        "    if train[i].dtype == 'object':\n",
        "      train[i] = train[i].fillna(train[i].mode().iloc[0])\n",
        "    elif (train[i].dtype != 'object'):\n",
        "      train[i] = train[i].fillna(np.mean(train[i]))\n",
        "\n",
        "\n",
        "for i in test.columns:\n",
        "    if test[i].dtype == 'object':\n",
        "      test[i] = test[i].fillna(test[i].mode().iloc[0])\n",
        "    elif (test[i].dtype != 'object'):\n",
        "      test[i] = test[i].fillna(np.mean(test[i]))\n",
        "    \n",
        "\n",
        "print('Nulls in train set:', train.isnull().sum().sum())\n",
        "print('Nulls in test set:', test.isnull().sum().sum())"
      ],
      "execution_count": 17,
      "outputs": [
        {
          "output_type": "stream",
          "text": [
            "Imputing missing values...\n",
            "Nulls in train set: 0\n",
            "Nulls in test set: 0\n"
          ],
          "name": "stdout"
        }
      ]
    },
    {
      "cell_type": "code",
      "metadata": {
        "id": "Vf-KNDSc_LD9",
        "colab_type": "code",
        "outputId": "d10d9c82-67a1-48f8-a5aa-c463c4a4779b",
        "colab": {
          "base_uri": "https://localhost:8080/",
          "height": 34
        }
      },
      "source": [
        "print('Label Encoding categorical variables...')\n",
        "for col in train.columns:\n",
        "    if train[col].dtype == 'object':\n",
        "      train[col] = train[col].astype('category')\n",
        "      train[col] = train[col].cat.codes\n",
        "\n",
        "for col in test.columns:\n",
        "    if test[col].dtype == 'object':\n",
        "      test[col] = test[col].astype('category')\n",
        "      test[col] = test[col].cat.codes"
      ],
      "execution_count": 18,
      "outputs": [
        {
          "output_type": "stream",
          "text": [
            "Label Encoding categorical variables...\n"
          ],
          "name": "stdout"
        }
      ]
    },
    {
      "cell_type": "code",
      "metadata": {
        "id": "foflK5MA_QnF",
        "colab_type": "code",
        "colab": {}
      },
      "source": [
        "train['set'] = 0\n",
        "test['set'] = 1\n",
        "train = train.drop(['totals.transactionRevenue', 'trafficSource.campaignCode'],axis=1)"
      ],
      "execution_count": 0,
      "outputs": []
    },
    {
      "cell_type": "code",
      "metadata": {
        "id": "i7zilX4O_TFO",
        "colab_type": "code",
        "outputId": "b88339c8-18fc-4029-883e-328897e3fd4d",
        "colab": {
          "base_uri": "https://localhost:8080/",
          "height": 34
        }
      },
      "source": [
        "train_df = train.sample(10000, random_state=697)\n",
        "test_df = test.sample(10000, random_state=466)\n",
        "\n",
        "all_data = train_df.append(test_df)\n",
        "y_label = all_data['set']\n",
        "all_data = all_data.drop('set',axis=1)\n",
        "\n",
        "#Making sure that the new dataframe contains all the initial features\n",
        "print('New dataframe shape:', all_data.shape)"
      ],
      "execution_count": 20,
      "outputs": [
        {
          "output_type": "stream",
          "text": [
            "New dataframe shape: (20000, 53)\n"
          ],
          "name": "stdout"
        }
      ]
    },
    {
      "cell_type": "code",
      "metadata": {
        "id": "hYmXiatMemK0",
        "colab_type": "code",
        "colab": {
          "base_uri": "https://localhost:8080/",
          "height": 34
        },
        "outputId": "f97bf376-bd9e-4f78-f9ae-1ae356631236"
      },
      "source": [
        "from sklearn.model_selection import train_test_split\n",
        "#adding a column to identify whether a row comes from train or not\n",
        "test['is_train'] = 1\n",
        "train['is_train'] = 0 \n",
        "#combining test and train data\n",
        "df_combine = pd.concat([train, test], axis=0, ignore_index=True)\n",
        "y = df_combine['is_train'].values #labels\n",
        "X = df_combine.drop('is_train', axis=1).values #covariates or our independent variables\n",
        "X_train,X_test,y_train,y_test = train_test_split(X,y, test_size = 0.25, random_state = 42)\n",
        "print('set2 train shape:', X_train.shape, 'set2 test shape:', X_test.shape)\n"
      ],
      "execution_count": 45,
      "outputs": [
        {
          "output_type": "stream",
          "text": [
            "set2 train shape: (1281252, 40) set2 test shape: (427085, 40)\n"
          ],
          "name": "stdout"
        }
      ]
    },
    {
      "cell_type": "code",
      "metadata": {
        "id": "gnCqAFHzhGgR",
        "colab_type": "code",
        "colab": {}
      },
      "source": [
        "clf = RandomForestRegressor(n_estimators = 200, random_state = 42)\n",
        "clf.fit(X_train, y_train)\n",
        "probs_y_test = clf.predict(X_test) #calculating the predictions"
      ],
      "execution_count": 0,
      "outputs": []
    },
    {
      "cell_type": "code",
      "metadata": {
        "id": "CBv112hNhgiZ",
        "colab_type": "code",
        "colab": {
          "base_uri": "https://localhost:8080/",
          "height": 34
        },
        "outputId": "98a88d76-8ada-4d98-afc4-32c918fb5ca7"
      },
      "source": [
        "predictions = clf.predict(X_test)\n",
        "##Calculating the training accuracy\n",
        "print('ROC-AUC for train and test distributions:', round(AUC(y_true=y_test, y_score=probs_y_test[:,1]), 4)\n",
        "print(\"ROC-AUC score for train and test distributions: \", clf.score(X_train, y_train))"
      ],
      "execution_count": 48,
      "outputs": [
        {
          "output_type": "stream",
          "text": [
            "ROC-AUC score for train and test distributions:  1.0\n"
          ],
          "name": "stdout"
        }
      ]
    },
    {
      "cell_type": "markdown",
      "metadata": {
        "id": "JCbz2hBgEDnr",
        "colab_type": "text"
      },
      "source": [
        "###Interpreting the results\n",
        "Output of the ROC-AUC metric for our classifier as an estimation of how much covariate shift this data has. and the score implies that it have strong covariate shift\n",
        "\n",
        "If the classifier is able to classify the rows into train and test with good accuracy, our AUC score should be on the higher side (greater than 0.8). This implies a strong covariate shift between train and test."
      ]
    },
    {
      "cell_type": "code",
      "metadata": {
        "id": "3_5KvFOh_Wp4",
        "colab_type": "code",
        "outputId": "c386e1da-7bc2-4862-d581-72d5f2f3069f",
        "colab": {
          "base_uri": "https://localhost:8080/",
          "height": 918
        }
      },
      "source": [
        "model = RandomForestClassifier(n_estimators = 50, max_depth = 5, min_samples_leaf = 5)\n",
        "feat_to_drop = []\n",
        "for col in all_data.columns:\n",
        "    score = cross_val_score(model,pd.DataFrame(all_data[col]),y_label,cv=4,scoring='roc_auc')\n",
        "    if np.mean(score) > 0.8:\n",
        "        feat_to_drop.append(col)\n",
        "    print(col,np.mean(score))"
      ],
      "execution_count": 21,
      "outputs": [
        {
          "output_type": "stream",
          "text": [
            "channelGrouping 0.57639872\n",
            "date 1.0\n",
            "fullVisitorId 0.57444508\n",
            "sessionId 0.55900078\n",
            "socialEngagementType 0.5\n",
            "visitId 1.0\n",
            "visitNumber 0.51823682\n",
            "visitStartTime 1.0\n",
            "device.browser 0.9993811399999999\n",
            "device.browserVersion 0.5\n",
            "device.browserSize 0.5\n",
            "device.operatingSystem 0.8918289399999999\n",
            "device.operatingSystemVersion 0.5\n",
            "device.isMobile 0.55175\n",
            "device.mobileDeviceBranding 0.5\n",
            "device.mobileDeviceModel 0.5\n",
            "device.mobileInputSelector 0.5\n",
            "device.mobileDeviceInfo 0.5\n",
            "device.mobileDeviceMarketingName 0.5\n",
            "device.flashVersion 0.5\n",
            "device.language 0.5\n",
            "device.screenColors 0.5\n",
            "device.screenResolution 0.5\n",
            "device.deviceCategory 0.55224268\n",
            "geoNetwork.continent 0.52103394\n",
            "geoNetwork.subContinent 0.54140232\n",
            "geoNetwork.country 0.9145905\n",
            "geoNetwork.region 0.7061219000000001\n",
            "geoNetwork.metro 0.9416382400000001\n",
            "geoNetwork.city 0.96046828\n",
            "geoNetwork.cityId 0.5\n",
            "geoNetwork.networkDomain 0.795118\n",
            "geoNetwork.latitude 0.5\n",
            "geoNetwork.longitude 0.5\n",
            "geoNetwork.networkLocation 0.5\n",
            "totals.visits 0.5\n",
            "totals.hits 0.76782434\n",
            "totals.pageviews 0.8079620000000001\n",
            "totals.bounces 0.5\n",
            "totals.newVisits 0.5\n",
            "trafficSource.campaign 0.99995426\n",
            "trafficSource.source 0.9807677800000001\n",
            "trafficSource.medium 0.55643566\n",
            "trafficSource.keyword 0.9998475800000001\n",
            "trafficSource.adwordsClickInfo.criteriaParameters 0.5\n",
            "trafficSource.isTrueDirect 0.5\n",
            "trafficSource.referralPath 0.68795094\n",
            "trafficSource.adwordsClickInfo.page 0.5008499999999999\n",
            "trafficSource.adwordsClickInfo.slot 0.5057512\n",
            "trafficSource.adwordsClickInfo.gclId 0.99925828\n",
            "trafficSource.adwordsClickInfo.adNetworkType 0.5059499999999999\n",
            "trafficSource.adwordsClickInfo.isVideoAd 0.5\n",
            "trafficSource.adContent 0.99989626\n"
          ],
          "name": "stdout"
        }
      ]
    },
    {
      "cell_type": "code",
      "metadata": {
        "id": "OIFaaTn6_ai_",
        "colab_type": "code",
        "outputId": "2f700b53-c84c-4d36-cc86-6ea4e1bfcb1f",
        "colab": {
          "base_uri": "https://localhost:8080/",
          "height": 34
        }
      },
      "source": [
        "print('Number of features with covariate shift:', len(feat_to_drop))"
      ],
      "execution_count": 22,
      "outputs": [
        {
          "output_type": "stream",
          "text": [
            "Number of features with covariate shift: 14\n"
          ],
          "name": "stdout"
        }
      ]
    },
    {
      "cell_type": "markdown",
      "metadata": {
        "id": "0R_kwXs3EN8K",
        "colab_type": "text"
      },
      "source": [
        "As we can see, classifier found reasonable difference between train data and test data. As per the considered threshold value, these AUC scores show that there are 14 features contain covariate shift.\n",
        "\n",
        "As per the AUC score we attained from data, we can say that there is active covariate shift in the dataset.\n"
      ]
    },
    {
      "cell_type": "code",
      "metadata": {
        "id": "rHA-Ih56O7Iq",
        "colab_type": "code",
        "colab": {}
      },
      "source": [
        "import seaborn as sns\n",
        "def histo(test, train, feature):\n",
        "  print(\"Histogram of dataset on '\",feature,\"'\")\n",
        "  histo = sns.distplot(test[[feature]].values.T[0], color=\"blue\", kde=False, label=\"Testing data\")\n",
        "  histo = sns.distplot(train[[feature]].values.T[0], color=\"red\", kde=False, label=\"Training data\")\n",
        "  legend = histo.legend()"
      ],
      "execution_count": 0,
      "outputs": []
    },
    {
      "cell_type": "code",
      "metadata": {
        "id": "bqMhw8MfC9H-",
        "colab_type": "code",
        "colab": {
          "base_uri": "https://localhost:8080/",
          "height": 295
        },
        "outputId": "6369c654-57b8-4ac9-d43e-b14d3c963256"
      },
      "source": [
        "histo(test, train,feat_to_drop[0])"
      ],
      "execution_count": 32,
      "outputs": [
        {
          "output_type": "stream",
          "text": [
            "Histogram of dataset on ' date '\n"
          ],
          "name": "stdout"
        },
        {
          "output_type": "display_data",
          "data": {
            "image/png": "[encoded data removed]",
            "text/plain": [
              "<Figure size 432x288 with 1 Axes>"
            ]
          },
          "metadata": {
            "tags": [],
            "needs_background": "light"
          }
        }
      ]
    },
    {
      "cell_type": "code",
      "metadata": {
        "id": "iOz01EK9C9Gl",
        "colab_type": "code",
        "colab": {
          "base_uri": "https://localhost:8080/",
          "height": 88
        },
        "outputId": "4f78229d-a1c7-4310-edf2-87a4c05771b3"
      },
      "source": [
        "train = train.drop(columns=feat_to_drop)\n",
        "test = test.drop(columns=feat_to_drop)\n",
        "\n",
        "clf = RandomForestRegressor(n_estimators=200, max_depth=6,max_features=10)\n",
        "clf.fit(train.drop('trafficSource.adContent\t',axis=1),train['trafficSource.adContent\t'])\n",
        "prob = clf.predict(drift_test)\n",
        "\n",
        "columns = ['device.browserVersion']\n",
        "sub = pd.DataFrame(data = probs_y_test ,columns=columns)\n",
        "sub['geoNetwork.subContinent'] = test['geoNetwork.subContinent']\n",
        "sub = sub[['geoNetwork.subContinent','device.browserVersion']]\n",
        "sub.to_csv('without_drifting.csv', index=False)\n",
        "!kaggle competitions submit -c ga-customer-revenue-prediction -f without_drifting.csv -m \"without drifting\""
      ],
      "execution_count": 56,
      "outputs": [
        {
          "output_type": "stream",
          "text": [
            "Warning: Looks like you're using an outdated API Version, please consider updating (server 1.5.6 / client 1.5.4)\n",
            "100% 2.80M/2.80M [00:01<00:00, 1.61MB/s]\n",
            "Successfully submitted to Google Analytics Customer Revenue Prediction"
          ],
          "name": "stdout"
        }
      ]
    },
    {
      "cell_type": "markdown",
      "metadata": {
        "id": "K0jel85xlEwU",
        "colab_type": "text"
      },
      "source": [
        "The score was 0.3313 which is good value so without the driffting features of covariate shift."
      ]
    },
    {
      "cell_type": "code",
      "metadata": {
        "id": "99tfGAMJlEDW",
        "colab_type": "code",
        "colab": {}
      },
      "source": [
        ""
      ],
      "execution_count": 0,
      "outputs": []
    },
    {
      "cell_type": "code",
      "metadata": {
        "id": "Oh-TMgIXC8_O",
        "colab_type": "code",
        "colab": {}
      },
      "source": [
        ""
      ],
      "execution_count": 0,
      "outputs": []
    },
    {
      "cell_type": "code",
      "metadata": {
        "id": "pD2mTVpNC87z",
        "colab_type": "code",
        "colab": {}
      },
      "source": [
        ""
      ],
      "execution_count": 0,
      "outputs": []
    },
    {
      "cell_type": "code",
      "metadata": {
        "id": "380O_v0iC81j",
        "colab_type": "code",
        "colab": {}
      },
      "source": [
        ""
      ],
      "execution_count": 0,
      "outputs": []
    }
  ]
}