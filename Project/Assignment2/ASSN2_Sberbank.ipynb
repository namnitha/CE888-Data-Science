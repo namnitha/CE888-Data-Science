{
  "nbformat": 4,
  "nbformat_minor": 0,
  "metadata": {
    "colab": {
      "name": "ASSN2 Sberbank",
      "provenance": [],
      "collapsed_sections": [],
      "authorship_tag": "ABX9TyPo2qMLqmVt9FuJnWJAi/DI",
      "include_colab_link": true
    },
    "kernelspec": {
      "name": "python3",
      "display_name": "Python 3"
    }
  },
  "cells": [
    {
      "cell_type": "markdown",
      "metadata": {
        "id": "view-in-github",
        "colab_type": "text"
      },
      "source": [
        "<a href=\"https://colab.research.google.com/github/namnitha/CE888-Data-Science/blob/master/Project/Assignment2/ASSN2_Sberbank.ipynb\" target=\"_parent\"><img src=\"https://colab.research.google.com/assets/colab-badge.svg\" alt=\"Open In Colab\"/></a>"
      ]
    },
    {
      "cell_type": "code",
      "metadata": {
        "id": "Mv9Y5T0Wcefb",
        "colab_type": "code",
        "outputId": "f5992c08-44e1-48fb-ffdf-3663208499d9",
        "colab": {
          "base_uri": "https://localhost:8080/",
          "height": 289
        }
      },
      "source": [
        "import os\n",
        "os.environ['KAGGLE_USERNAME'] = \"namnitha\" # username from the json file\n",
        "os.environ['KAGGLE_KEY'] = \"90ceb5b09eaa184f556d4577eb017b49\" # key from the json file\n",
        "!kaggle competitions download -c sberbank-russian-housing-market"
      ],
      "execution_count": 1,
      "outputs": [
        {
          "output_type": "stream",
          "text": [
            "Warning: Looks like you're using an outdated API Version, please consider updating (server 1.5.6 / client 1.5.4)\n",
            "Downloading test.csv.zip to /content\n",
            "\r  0% 0.00/4.46M [00:00<?, ?B/s]\n",
            "100% 4.46M/4.46M [00:00<00:00, 41.3MB/s]\n",
            "Downloading sample_submission.csv.zip to /content\n",
            "  0% 0.00/18.6k [00:00<?, ?B/s]\n",
            "100% 18.6k/18.6k [00:00<00:00, 19.0MB/s]\n",
            "Downloading train.csv.zip to /content\n",
            " 53% 9.00M/17.1M [00:00<00:00, 32.4MB/s]\n",
            "100% 17.1M/17.1M [00:00<00:00, 49.1MB/s]\n",
            "Downloading macro.csv.zip to /content\n",
            "  0% 0.00/66.5k [00:00<?, ?B/s]\n",
            "100% 66.5k/66.5k [00:00<00:00, 69.2MB/s]\n",
            "Downloading data_dictionary.txt to /content\n",
            "  0% 0.00/25.4k [00:00<?, ?B/s]\n",
            "100% 25.4k/25.4k [00:00<00:00, 26.0MB/s]\n"
          ],
          "name": "stdout"
        }
      ]
    },
    {
      "cell_type": "code",
      "metadata": {
        "id": "KoZo8D4NiYC5",
        "colab_type": "code",
        "outputId": "74d62de2-e694-40ae-c291-1f6128319ff7",
        "colab": {
          "base_uri": "https://localhost:8080/",
          "height": 51
        }
      },
      "source": [
        "from zipfile import ZipFile\n",
        "\n",
        "file_name = \"/content/test.csv.zip\"\n",
        "with ZipFile(file_name, 'r') as zip:\n",
        "  zip.extractall()\n",
        "  print('done')\n",
        "\n",
        "file_name = \"/content/train.csv.zip\"\n",
        "with ZipFile(file_name, 'r') as zip:\n",
        "  zip.extractall()\n",
        "  print('done')"
      ],
      "execution_count": 4,
      "outputs": [
        {
          "output_type": "stream",
          "text": [
            "done\n",
            "done\n"
          ],
          "name": "stdout"
        }
      ]
    },
    {
      "cell_type": "code",
      "metadata": {
        "id": "OYlsskCwjqQE",
        "colab_type": "code",
        "colab": {}
      },
      "source": [
        "import numpy as np\n",
        "import pandas as pd\n",
        "from pandas import Series, DataFrame\n",
        "import os\n",
        "import matplotlib.pyplot as plt\n",
        "get_ipython().magic('matplotlib inline')"
      ],
      "execution_count": 0,
      "outputs": []
    },
    {
      "cell_type": "code",
      "metadata": {
        "id": "x4EqUKDPmbId",
        "colab_type": "code",
        "colab": {}
      },
      "source": [
        "from sklearn.ensemble import RandomForestRegressor\n",
        "from sklearn.ensemble import RandomForestClassifier\n",
        "from sklearn.model_selection import cross_val_score\n",
        "from sklearn.preprocessing import LabelEncoder"
      ],
      "execution_count": 0,
      "outputs": []
    },
    {
      "cell_type": "code",
      "metadata": {
        "id": "y6ATozYwjqOB",
        "colab_type": "code",
        "colab": {}
      },
      "source": [
        "train = pd.read_csv('train.csv', low_memory=True)\n",
        "test = pd.read_csv('test.csv', low_memory=True)"
      ],
      "execution_count": 0,
      "outputs": []
    },
    {
      "cell_type": "code",
      "metadata": {
        "id": "nSxPAZ5TjqKb",
        "colab_type": "code",
        "outputId": "7f3f7ec4-8d51-4ab6-d488-7f5733284a05",
        "colab": {
          "base_uri": "https://localhost:8080/",
          "height": 338
        }
      },
      "source": [
        "train.head()"
      ],
      "execution_count": 8,
      "outputs": [
        {
          "output_type": "execute_result",
          "data": {
            "text/html": [
              "<div>\n",
              "<style scoped>\n",
              "    .dataframe tbody tr th:only-of-type {\n",
              "        vertical-align: middle;\n",
              "    }\n",
              "\n",
              "    .dataframe tbody tr th {\n",
              "        vertical-align: top;\n",
              "    }\n",
              "\n",
              "    .dataframe thead th {\n",
              "        text-align: right;\n",
              "    }\n",
              "</style>\n",
              "<table border=\"1\" class=\"dataframe\">\n",
              "  <thead>\n",
              "    <tr style=\"text-align: right;\">\n",
              "      <th></th>\n",
              "      <th>id</th>\n",
              "      <th>timestamp</th>\n",
              "      <th>full_sq</th>\n",
              "      <th>life_sq</th>\n",
              "      <th>floor</th>\n",
              "      <th>max_floor</th>\n",
              "      <th>material</th>\n",
              "      <th>build_year</th>\n",
              "      <th>num_room</th>\n",
              "      <th>kitch_sq</th>\n",
              "      <th>state</th>\n",
              "      <th>product_type</th>\n",
              "      <th>sub_area</th>\n",
              "      <th>area_m</th>\n",
              "      <th>raion_popul</th>\n",
              "      <th>green_zone_part</th>\n",
              "      <th>indust_part</th>\n",
              "      <th>children_preschool</th>\n",
              "      <th>preschool_quota</th>\n",
              "      <th>preschool_education_centers_raion</th>\n",
              "      <th>children_school</th>\n",
              "      <th>school_quota</th>\n",
              "      <th>school_education_centers_raion</th>\n",
              "      <th>school_education_centers_top_20_raion</th>\n",
              "      <th>hospital_beds_raion</th>\n",
              "      <th>healthcare_centers_raion</th>\n",
              "      <th>university_top_20_raion</th>\n",
              "      <th>sport_objects_raion</th>\n",
              "      <th>additional_education_raion</th>\n",
              "      <th>culture_objects_top_25</th>\n",
              "      <th>culture_objects_top_25_raion</th>\n",
              "      <th>shopping_centers_raion</th>\n",
              "      <th>office_raion</th>\n",
              "      <th>thermal_power_plant_raion</th>\n",
              "      <th>incineration_raion</th>\n",
              "      <th>oil_chemistry_raion</th>\n",
              "      <th>radiation_raion</th>\n",
              "      <th>railroad_terminal_raion</th>\n",
              "      <th>big_market_raion</th>\n",
              "      <th>nuclear_reactor_raion</th>\n",
              "      <th>...</th>\n",
              "      <th>cafe_sum_3000_min_price_avg</th>\n",
              "      <th>cafe_sum_3000_max_price_avg</th>\n",
              "      <th>cafe_avg_price_3000</th>\n",
              "      <th>cafe_count_3000_na_price</th>\n",
              "      <th>cafe_count_3000_price_500</th>\n",
              "      <th>cafe_count_3000_price_1000</th>\n",
              "      <th>cafe_count_3000_price_1500</th>\n",
              "      <th>cafe_count_3000_price_2500</th>\n",
              "      <th>cafe_count_3000_price_4000</th>\n",
              "      <th>cafe_count_3000_price_high</th>\n",
              "      <th>big_church_count_3000</th>\n",
              "      <th>church_count_3000</th>\n",
              "      <th>mosque_count_3000</th>\n",
              "      <th>leisure_count_3000</th>\n",
              "      <th>sport_count_3000</th>\n",
              "      <th>market_count_3000</th>\n",
              "      <th>green_part_5000</th>\n",
              "      <th>prom_part_5000</th>\n",
              "      <th>office_count_5000</th>\n",
              "      <th>office_sqm_5000</th>\n",
              "      <th>trc_count_5000</th>\n",
              "      <th>trc_sqm_5000</th>\n",
              "      <th>cafe_count_5000</th>\n",
              "      <th>cafe_sum_5000_min_price_avg</th>\n",
              "      <th>cafe_sum_5000_max_price_avg</th>\n",
              "      <th>cafe_avg_price_5000</th>\n",
              "      <th>cafe_count_5000_na_price</th>\n",
              "      <th>cafe_count_5000_price_500</th>\n",
              "      <th>cafe_count_5000_price_1000</th>\n",
              "      <th>cafe_count_5000_price_1500</th>\n",
              "      <th>cafe_count_5000_price_2500</th>\n",
              "      <th>cafe_count_5000_price_4000</th>\n",
              "      <th>cafe_count_5000_price_high</th>\n",
              "      <th>big_church_count_5000</th>\n",
              "      <th>church_count_5000</th>\n",
              "      <th>mosque_count_5000</th>\n",
              "      <th>leisure_count_5000</th>\n",
              "      <th>sport_count_5000</th>\n",
              "      <th>market_count_5000</th>\n",
              "      <th>price_doc</th>\n",
              "    </tr>\n",
              "  </thead>\n",
              "  <tbody>\n",
              "    <tr>\n",
              "      <th>0</th>\n",
              "      <td>1</td>\n",
              "      <td>2011-08-20</td>\n",
              "      <td>43</td>\n",
              "      <td>27.0</td>\n",
              "      <td>4.0</td>\n",
              "      <td>NaN</td>\n",
              "      <td>NaN</td>\n",
              "      <td>NaN</td>\n",
              "      <td>NaN</td>\n",
              "      <td>NaN</td>\n",
              "      <td>NaN</td>\n",
              "      <td>Investment</td>\n",
              "      <td>Bibirevo</td>\n",
              "      <td>6.407578e+06</td>\n",
              "      <td>155572</td>\n",
              "      <td>0.189727</td>\n",
              "      <td>0.000070</td>\n",
              "      <td>9576</td>\n",
              "      <td>5001.0</td>\n",
              "      <td>5</td>\n",
              "      <td>10309</td>\n",
              "      <td>11065.0</td>\n",
              "      <td>5</td>\n",
              "      <td>0</td>\n",
              "      <td>240.0</td>\n",
              "      <td>1</td>\n",
              "      <td>0</td>\n",
              "      <td>7</td>\n",
              "      <td>3</td>\n",
              "      <td>no</td>\n",
              "      <td>0</td>\n",
              "      <td>16</td>\n",
              "      <td>1</td>\n",
              "      <td>no</td>\n",
              "      <td>no</td>\n",
              "      <td>no</td>\n",
              "      <td>no</td>\n",
              "      <td>no</td>\n",
              "      <td>no</td>\n",
              "      <td>no</td>\n",
              "      <td>...</td>\n",
              "      <td>639.68</td>\n",
              "      <td>1079.37</td>\n",
              "      <td>859.52</td>\n",
              "      <td>5</td>\n",
              "      <td>21</td>\n",
              "      <td>22</td>\n",
              "      <td>16</td>\n",
              "      <td>3</td>\n",
              "      <td>1</td>\n",
              "      <td>0</td>\n",
              "      <td>2</td>\n",
              "      <td>4</td>\n",
              "      <td>0</td>\n",
              "      <td>0</td>\n",
              "      <td>21</td>\n",
              "      <td>1</td>\n",
              "      <td>13.09</td>\n",
              "      <td>13.31</td>\n",
              "      <td>29</td>\n",
              "      <td>807385</td>\n",
              "      <td>52</td>\n",
              "      <td>4036616</td>\n",
              "      <td>152</td>\n",
              "      <td>708.57</td>\n",
              "      <td>1185.71</td>\n",
              "      <td>947.14</td>\n",
              "      <td>12</td>\n",
              "      <td>39</td>\n",
              "      <td>48</td>\n",
              "      <td>40</td>\n",
              "      <td>9</td>\n",
              "      <td>4</td>\n",
              "      <td>0</td>\n",
              "      <td>13</td>\n",
              "      <td>22</td>\n",
              "      <td>1</td>\n",
              "      <td>0</td>\n",
              "      <td>52</td>\n",
              "      <td>4</td>\n",
              "      <td>5850000</td>\n",
              "    </tr>\n",
              "    <tr>\n",
              "      <th>1</th>\n",
              "      <td>2</td>\n",
              "      <td>2011-08-23</td>\n",
              "      <td>34</td>\n",
              "      <td>19.0</td>\n",
              "      <td>3.0</td>\n",
              "      <td>NaN</td>\n",
              "      <td>NaN</td>\n",
              "      <td>NaN</td>\n",
              "      <td>NaN</td>\n",
              "      <td>NaN</td>\n",
              "      <td>NaN</td>\n",
              "      <td>Investment</td>\n",
              "      <td>Nagatinskij Zaton</td>\n",
              "      <td>9.589337e+06</td>\n",
              "      <td>115352</td>\n",
              "      <td>0.372602</td>\n",
              "      <td>0.049637</td>\n",
              "      <td>6880</td>\n",
              "      <td>3119.0</td>\n",
              "      <td>5</td>\n",
              "      <td>7759</td>\n",
              "      <td>6237.0</td>\n",
              "      <td>8</td>\n",
              "      <td>0</td>\n",
              "      <td>229.0</td>\n",
              "      <td>1</td>\n",
              "      <td>0</td>\n",
              "      <td>6</td>\n",
              "      <td>1</td>\n",
              "      <td>yes</td>\n",
              "      <td>1</td>\n",
              "      <td>3</td>\n",
              "      <td>0</td>\n",
              "      <td>no</td>\n",
              "      <td>no</td>\n",
              "      <td>no</td>\n",
              "      <td>no</td>\n",
              "      <td>no</td>\n",
              "      <td>no</td>\n",
              "      <td>no</td>\n",
              "      <td>...</td>\n",
              "      <td>631.03</td>\n",
              "      <td>1086.21</td>\n",
              "      <td>858.62</td>\n",
              "      <td>1</td>\n",
              "      <td>11</td>\n",
              "      <td>11</td>\n",
              "      <td>4</td>\n",
              "      <td>2</td>\n",
              "      <td>1</td>\n",
              "      <td>0</td>\n",
              "      <td>1</td>\n",
              "      <td>7</td>\n",
              "      <td>0</td>\n",
              "      <td>6</td>\n",
              "      <td>19</td>\n",
              "      <td>1</td>\n",
              "      <td>10.26</td>\n",
              "      <td>27.47</td>\n",
              "      <td>66</td>\n",
              "      <td>2690465</td>\n",
              "      <td>40</td>\n",
              "      <td>2034942</td>\n",
              "      <td>177</td>\n",
              "      <td>673.81</td>\n",
              "      <td>1148.81</td>\n",
              "      <td>911.31</td>\n",
              "      <td>9</td>\n",
              "      <td>49</td>\n",
              "      <td>65</td>\n",
              "      <td>36</td>\n",
              "      <td>15</td>\n",
              "      <td>3</td>\n",
              "      <td>0</td>\n",
              "      <td>15</td>\n",
              "      <td>29</td>\n",
              "      <td>1</td>\n",
              "      <td>10</td>\n",
              "      <td>66</td>\n",
              "      <td>14</td>\n",
              "      <td>6000000</td>\n",
              "    </tr>\n",
              "    <tr>\n",
              "      <th>2</th>\n",
              "      <td>3</td>\n",
              "      <td>2011-08-27</td>\n",
              "      <td>43</td>\n",
              "      <td>29.0</td>\n",
              "      <td>2.0</td>\n",
              "      <td>NaN</td>\n",
              "      <td>NaN</td>\n",
              "      <td>NaN</td>\n",
              "      <td>NaN</td>\n",
              "      <td>NaN</td>\n",
              "      <td>NaN</td>\n",
              "      <td>Investment</td>\n",
              "      <td>Tekstil'shhiki</td>\n",
              "      <td>4.808270e+06</td>\n",
              "      <td>101708</td>\n",
              "      <td>0.112560</td>\n",
              "      <td>0.118537</td>\n",
              "      <td>5879</td>\n",
              "      <td>1463.0</td>\n",
              "      <td>4</td>\n",
              "      <td>6207</td>\n",
              "      <td>5580.0</td>\n",
              "      <td>7</td>\n",
              "      <td>0</td>\n",
              "      <td>1183.0</td>\n",
              "      <td>1</td>\n",
              "      <td>0</td>\n",
              "      <td>5</td>\n",
              "      <td>1</td>\n",
              "      <td>no</td>\n",
              "      <td>0</td>\n",
              "      <td>0</td>\n",
              "      <td>1</td>\n",
              "      <td>no</td>\n",
              "      <td>no</td>\n",
              "      <td>no</td>\n",
              "      <td>yes</td>\n",
              "      <td>no</td>\n",
              "      <td>no</td>\n",
              "      <td>no</td>\n",
              "      <td>...</td>\n",
              "      <td>697.44</td>\n",
              "      <td>1192.31</td>\n",
              "      <td>944.87</td>\n",
              "      <td>2</td>\n",
              "      <td>9</td>\n",
              "      <td>17</td>\n",
              "      <td>9</td>\n",
              "      <td>3</td>\n",
              "      <td>1</td>\n",
              "      <td>0</td>\n",
              "      <td>0</td>\n",
              "      <td>11</td>\n",
              "      <td>0</td>\n",
              "      <td>0</td>\n",
              "      <td>20</td>\n",
              "      <td>6</td>\n",
              "      <td>13.69</td>\n",
              "      <td>21.58</td>\n",
              "      <td>43</td>\n",
              "      <td>1478160</td>\n",
              "      <td>35</td>\n",
              "      <td>1572990</td>\n",
              "      <td>122</td>\n",
              "      <td>702.68</td>\n",
              "      <td>1196.43</td>\n",
              "      <td>949.55</td>\n",
              "      <td>10</td>\n",
              "      <td>29</td>\n",
              "      <td>45</td>\n",
              "      <td>25</td>\n",
              "      <td>10</td>\n",
              "      <td>3</td>\n",
              "      <td>0</td>\n",
              "      <td>11</td>\n",
              "      <td>27</td>\n",
              "      <td>0</td>\n",
              "      <td>4</td>\n",
              "      <td>67</td>\n",
              "      <td>10</td>\n",
              "      <td>5700000</td>\n",
              "    </tr>\n",
              "    <tr>\n",
              "      <th>3</th>\n",
              "      <td>4</td>\n",
              "      <td>2011-09-01</td>\n",
              "      <td>89</td>\n",
              "      <td>50.0</td>\n",
              "      <td>9.0</td>\n",
              "      <td>NaN</td>\n",
              "      <td>NaN</td>\n",
              "      <td>NaN</td>\n",
              "      <td>NaN</td>\n",
              "      <td>NaN</td>\n",
              "      <td>NaN</td>\n",
              "      <td>Investment</td>\n",
              "      <td>Mitino</td>\n",
              "      <td>1.258354e+07</td>\n",
              "      <td>178473</td>\n",
              "      <td>0.194703</td>\n",
              "      <td>0.069753</td>\n",
              "      <td>13087</td>\n",
              "      <td>6839.0</td>\n",
              "      <td>9</td>\n",
              "      <td>13670</td>\n",
              "      <td>17063.0</td>\n",
              "      <td>10</td>\n",
              "      <td>0</td>\n",
              "      <td>NaN</td>\n",
              "      <td>1</td>\n",
              "      <td>0</td>\n",
              "      <td>17</td>\n",
              "      <td>6</td>\n",
              "      <td>no</td>\n",
              "      <td>0</td>\n",
              "      <td>11</td>\n",
              "      <td>4</td>\n",
              "      <td>no</td>\n",
              "      <td>no</td>\n",
              "      <td>no</td>\n",
              "      <td>no</td>\n",
              "      <td>no</td>\n",
              "      <td>no</td>\n",
              "      <td>no</td>\n",
              "      <td>...</td>\n",
              "      <td>718.75</td>\n",
              "      <td>1218.75</td>\n",
              "      <td>968.75</td>\n",
              "      <td>0</td>\n",
              "      <td>5</td>\n",
              "      <td>14</td>\n",
              "      <td>10</td>\n",
              "      <td>3</td>\n",
              "      <td>0</td>\n",
              "      <td>0</td>\n",
              "      <td>1</td>\n",
              "      <td>2</td>\n",
              "      <td>0</td>\n",
              "      <td>0</td>\n",
              "      <td>18</td>\n",
              "      <td>3</td>\n",
              "      <td>14.18</td>\n",
              "      <td>3.89</td>\n",
              "      <td>8</td>\n",
              "      <td>244166</td>\n",
              "      <td>22</td>\n",
              "      <td>942180</td>\n",
              "      <td>61</td>\n",
              "      <td>931.58</td>\n",
              "      <td>1552.63</td>\n",
              "      <td>1242.11</td>\n",
              "      <td>4</td>\n",
              "      <td>7</td>\n",
              "      <td>21</td>\n",
              "      <td>15</td>\n",
              "      <td>11</td>\n",
              "      <td>2</td>\n",
              "      <td>1</td>\n",
              "      <td>4</td>\n",
              "      <td>4</td>\n",
              "      <td>0</td>\n",
              "      <td>0</td>\n",
              "      <td>26</td>\n",
              "      <td>3</td>\n",
              "      <td>13100000</td>\n",
              "    </tr>\n",
              "    <tr>\n",
              "      <th>4</th>\n",
              "      <td>5</td>\n",
              "      <td>2011-09-05</td>\n",
              "      <td>77</td>\n",
              "      <td>77.0</td>\n",
              "      <td>4.0</td>\n",
              "      <td>NaN</td>\n",
              "      <td>NaN</td>\n",
              "      <td>NaN</td>\n",
              "      <td>NaN</td>\n",
              "      <td>NaN</td>\n",
              "      <td>NaN</td>\n",
              "      <td>Investment</td>\n",
              "      <td>Basmannoe</td>\n",
              "      <td>8.398461e+06</td>\n",
              "      <td>108171</td>\n",
              "      <td>0.015234</td>\n",
              "      <td>0.037316</td>\n",
              "      <td>5706</td>\n",
              "      <td>3240.0</td>\n",
              "      <td>7</td>\n",
              "      <td>6748</td>\n",
              "      <td>7770.0</td>\n",
              "      <td>9</td>\n",
              "      <td>0</td>\n",
              "      <td>562.0</td>\n",
              "      <td>4</td>\n",
              "      <td>2</td>\n",
              "      <td>25</td>\n",
              "      <td>2</td>\n",
              "      <td>no</td>\n",
              "      <td>0</td>\n",
              "      <td>10</td>\n",
              "      <td>93</td>\n",
              "      <td>no</td>\n",
              "      <td>no</td>\n",
              "      <td>no</td>\n",
              "      <td>yes</td>\n",
              "      <td>yes</td>\n",
              "      <td>no</td>\n",
              "      <td>no</td>\n",
              "      <td>...</td>\n",
              "      <td>853.03</td>\n",
              "      <td>1410.45</td>\n",
              "      <td>1131.74</td>\n",
              "      <td>63</td>\n",
              "      <td>266</td>\n",
              "      <td>267</td>\n",
              "      <td>262</td>\n",
              "      <td>149</td>\n",
              "      <td>57</td>\n",
              "      <td>4</td>\n",
              "      <td>70</td>\n",
              "      <td>121</td>\n",
              "      <td>1</td>\n",
              "      <td>40</td>\n",
              "      <td>77</td>\n",
              "      <td>5</td>\n",
              "      <td>8.38</td>\n",
              "      <td>10.92</td>\n",
              "      <td>689</td>\n",
              "      <td>8404624</td>\n",
              "      <td>114</td>\n",
              "      <td>3503058</td>\n",
              "      <td>2283</td>\n",
              "      <td>853.88</td>\n",
              "      <td>1411.45</td>\n",
              "      <td>1132.66</td>\n",
              "      <td>143</td>\n",
              "      <td>566</td>\n",
              "      <td>578</td>\n",
              "      <td>552</td>\n",
              "      <td>319</td>\n",
              "      <td>108</td>\n",
              "      <td>17</td>\n",
              "      <td>135</td>\n",
              "      <td>236</td>\n",
              "      <td>2</td>\n",
              "      <td>91</td>\n",
              "      <td>195</td>\n",
              "      <td>14</td>\n",
              "      <td>16331452</td>\n",
              "    </tr>\n",
              "  </tbody>\n",
              "</table>\n",
              "<p>5 rows × 292 columns</p>\n",
              "</div>"
            ],
            "text/plain": [
              "   id   timestamp  full_sq  ...  sport_count_5000  market_count_5000  price_doc\n",
              "0   1  2011-08-20       43  ...                52                  4    5850000\n",
              "1   2  2011-08-23       34  ...                66                 14    6000000\n",
              "2   3  2011-08-27       43  ...                67                 10    5700000\n",
              "3   4  2011-09-01       89  ...                26                  3   13100000\n",
              "4   5  2011-09-05       77  ...               195                 14   16331452\n",
              "\n",
              "[5 rows x 292 columns]"
            ]
          },
          "metadata": {
            "tags": []
          },
          "execution_count": 8
        }
      ]
    },
    {
      "cell_type": "code",
      "metadata": {
        "id": "8WPPX4tyjqIP",
        "colab_type": "code",
        "outputId": "f193a7c9-dc91-4adb-da95-39e79f6befeb",
        "colab": {
          "base_uri": "https://localhost:8080/",
          "height": 338
        }
      },
      "source": [
        "test.head()"
      ],
      "execution_count": 9,
      "outputs": [
        {
          "output_type": "execute_result",
          "data": {
            "text/html": [
              "<div>\n",
              "<style scoped>\n",
              "    .dataframe tbody tr th:only-of-type {\n",
              "        vertical-align: middle;\n",
              "    }\n",
              "\n",
              "    .dataframe tbody tr th {\n",
              "        vertical-align: top;\n",
              "    }\n",
              "\n",
              "    .dataframe thead th {\n",
              "        text-align: right;\n",
              "    }\n",
              "</style>\n",
              "<table border=\"1\" class=\"dataframe\">\n",
              "  <thead>\n",
              "    <tr style=\"text-align: right;\">\n",
              "      <th></th>\n",
              "      <th>id</th>\n",
              "      <th>timestamp</th>\n",
              "      <th>full_sq</th>\n",
              "      <th>life_sq</th>\n",
              "      <th>floor</th>\n",
              "      <th>max_floor</th>\n",
              "      <th>material</th>\n",
              "      <th>build_year</th>\n",
              "      <th>num_room</th>\n",
              "      <th>kitch_sq</th>\n",
              "      <th>state</th>\n",
              "      <th>product_type</th>\n",
              "      <th>sub_area</th>\n",
              "      <th>area_m</th>\n",
              "      <th>raion_popul</th>\n",
              "      <th>green_zone_part</th>\n",
              "      <th>indust_part</th>\n",
              "      <th>children_preschool</th>\n",
              "      <th>preschool_quota</th>\n",
              "      <th>preschool_education_centers_raion</th>\n",
              "      <th>children_school</th>\n",
              "      <th>school_quota</th>\n",
              "      <th>school_education_centers_raion</th>\n",
              "      <th>school_education_centers_top_20_raion</th>\n",
              "      <th>hospital_beds_raion</th>\n",
              "      <th>healthcare_centers_raion</th>\n",
              "      <th>university_top_20_raion</th>\n",
              "      <th>sport_objects_raion</th>\n",
              "      <th>additional_education_raion</th>\n",
              "      <th>culture_objects_top_25</th>\n",
              "      <th>culture_objects_top_25_raion</th>\n",
              "      <th>shopping_centers_raion</th>\n",
              "      <th>office_raion</th>\n",
              "      <th>thermal_power_plant_raion</th>\n",
              "      <th>incineration_raion</th>\n",
              "      <th>oil_chemistry_raion</th>\n",
              "      <th>radiation_raion</th>\n",
              "      <th>railroad_terminal_raion</th>\n",
              "      <th>big_market_raion</th>\n",
              "      <th>nuclear_reactor_raion</th>\n",
              "      <th>...</th>\n",
              "      <th>cafe_count_3000</th>\n",
              "      <th>cafe_sum_3000_min_price_avg</th>\n",
              "      <th>cafe_sum_3000_max_price_avg</th>\n",
              "      <th>cafe_avg_price_3000</th>\n",
              "      <th>cafe_count_3000_na_price</th>\n",
              "      <th>cafe_count_3000_price_500</th>\n",
              "      <th>cafe_count_3000_price_1000</th>\n",
              "      <th>cafe_count_3000_price_1500</th>\n",
              "      <th>cafe_count_3000_price_2500</th>\n",
              "      <th>cafe_count_3000_price_4000</th>\n",
              "      <th>cafe_count_3000_price_high</th>\n",
              "      <th>big_church_count_3000</th>\n",
              "      <th>church_count_3000</th>\n",
              "      <th>mosque_count_3000</th>\n",
              "      <th>leisure_count_3000</th>\n",
              "      <th>sport_count_3000</th>\n",
              "      <th>market_count_3000</th>\n",
              "      <th>green_part_5000</th>\n",
              "      <th>prom_part_5000</th>\n",
              "      <th>office_count_5000</th>\n",
              "      <th>office_sqm_5000</th>\n",
              "      <th>trc_count_5000</th>\n",
              "      <th>trc_sqm_5000</th>\n",
              "      <th>cafe_count_5000</th>\n",
              "      <th>cafe_sum_5000_min_price_avg</th>\n",
              "      <th>cafe_sum_5000_max_price_avg</th>\n",
              "      <th>cafe_avg_price_5000</th>\n",
              "      <th>cafe_count_5000_na_price</th>\n",
              "      <th>cafe_count_5000_price_500</th>\n",
              "      <th>cafe_count_5000_price_1000</th>\n",
              "      <th>cafe_count_5000_price_1500</th>\n",
              "      <th>cafe_count_5000_price_2500</th>\n",
              "      <th>cafe_count_5000_price_4000</th>\n",
              "      <th>cafe_count_5000_price_high</th>\n",
              "      <th>big_church_count_5000</th>\n",
              "      <th>church_count_5000</th>\n",
              "      <th>mosque_count_5000</th>\n",
              "      <th>leisure_count_5000</th>\n",
              "      <th>sport_count_5000</th>\n",
              "      <th>market_count_5000</th>\n",
              "    </tr>\n",
              "  </thead>\n",
              "  <tbody>\n",
              "    <tr>\n",
              "      <th>0</th>\n",
              "      <td>30474</td>\n",
              "      <td>2015-07-01</td>\n",
              "      <td>39.0</td>\n",
              "      <td>20.7</td>\n",
              "      <td>2</td>\n",
              "      <td>9</td>\n",
              "      <td>1</td>\n",
              "      <td>1998.0</td>\n",
              "      <td>1</td>\n",
              "      <td>8.9</td>\n",
              "      <td>3.0</td>\n",
              "      <td>Investment</td>\n",
              "      <td>Juzhnoe Butovo</td>\n",
              "      <td>2.615514e+07</td>\n",
              "      <td>178264</td>\n",
              "      <td>0.137846</td>\n",
              "      <td>0.041116</td>\n",
              "      <td>14080</td>\n",
              "      <td>11926.0</td>\n",
              "      <td>11</td>\n",
              "      <td>14892</td>\n",
              "      <td>24750.0</td>\n",
              "      <td>13</td>\n",
              "      <td>1</td>\n",
              "      <td>NaN</td>\n",
              "      <td>1</td>\n",
              "      <td>0</td>\n",
              "      <td>13</td>\n",
              "      <td>4</td>\n",
              "      <td>no</td>\n",
              "      <td>0</td>\n",
              "      <td>4</td>\n",
              "      <td>4</td>\n",
              "      <td>no</td>\n",
              "      <td>no</td>\n",
              "      <td>no</td>\n",
              "      <td>no</td>\n",
              "      <td>no</td>\n",
              "      <td>no</td>\n",
              "      <td>no</td>\n",
              "      <td>...</td>\n",
              "      <td>12</td>\n",
              "      <td>781.82</td>\n",
              "      <td>1227.27</td>\n",
              "      <td>1004.55</td>\n",
              "      <td>1</td>\n",
              "      <td>2</td>\n",
              "      <td>2</td>\n",
              "      <td>7</td>\n",
              "      <td>0</td>\n",
              "      <td>0</td>\n",
              "      <td>0</td>\n",
              "      <td>1</td>\n",
              "      <td>3</td>\n",
              "      <td>1</td>\n",
              "      <td>0</td>\n",
              "      <td>7</td>\n",
              "      <td>0</td>\n",
              "      <td>21.58</td>\n",
              "      <td>4.69</td>\n",
              "      <td>1</td>\n",
              "      <td>37550</td>\n",
              "      <td>8</td>\n",
              "      <td>299166</td>\n",
              "      <td>19</td>\n",
              "      <td>676.47</td>\n",
              "      <td>1088.24</td>\n",
              "      <td>882.35</td>\n",
              "      <td>2</td>\n",
              "      <td>5</td>\n",
              "      <td>4</td>\n",
              "      <td>8</td>\n",
              "      <td>0</td>\n",
              "      <td>0</td>\n",
              "      <td>0</td>\n",
              "      <td>1</td>\n",
              "      <td>10</td>\n",
              "      <td>1</td>\n",
              "      <td>0</td>\n",
              "      <td>14</td>\n",
              "      <td>1</td>\n",
              "    </tr>\n",
              "    <tr>\n",
              "      <th>1</th>\n",
              "      <td>30475</td>\n",
              "      <td>2015-07-01</td>\n",
              "      <td>79.2</td>\n",
              "      <td>NaN</td>\n",
              "      <td>8</td>\n",
              "      <td>17</td>\n",
              "      <td>1</td>\n",
              "      <td>0.0</td>\n",
              "      <td>3</td>\n",
              "      <td>1.0</td>\n",
              "      <td>1.0</td>\n",
              "      <td>OwnerOccupier</td>\n",
              "      <td>Poselenie Vnukovskoe</td>\n",
              "      <td>2.553630e+07</td>\n",
              "      <td>4001</td>\n",
              "      <td>0.496315</td>\n",
              "      <td>0.007122</td>\n",
              "      <td>275</td>\n",
              "      <td>NaN</td>\n",
              "      <td>0</td>\n",
              "      <td>264</td>\n",
              "      <td>NaN</td>\n",
              "      <td>0</td>\n",
              "      <td>0</td>\n",
              "      <td>NaN</td>\n",
              "      <td>0</td>\n",
              "      <td>0</td>\n",
              "      <td>0</td>\n",
              "      <td>0</td>\n",
              "      <td>no</td>\n",
              "      <td>0</td>\n",
              "      <td>1</td>\n",
              "      <td>0</td>\n",
              "      <td>no</td>\n",
              "      <td>no</td>\n",
              "      <td>no</td>\n",
              "      <td>no</td>\n",
              "      <td>no</td>\n",
              "      <td>no</td>\n",
              "      <td>no</td>\n",
              "      <td>...</td>\n",
              "      <td>10</td>\n",
              "      <td>680.00</td>\n",
              "      <td>1200.00</td>\n",
              "      <td>940.00</td>\n",
              "      <td>0</td>\n",
              "      <td>1</td>\n",
              "      <td>6</td>\n",
              "      <td>2</td>\n",
              "      <td>1</td>\n",
              "      <td>0</td>\n",
              "      <td>0</td>\n",
              "      <td>1</td>\n",
              "      <td>5</td>\n",
              "      <td>0</td>\n",
              "      <td>0</td>\n",
              "      <td>7</td>\n",
              "      <td>0</td>\n",
              "      <td>39.10</td>\n",
              "      <td>7.70</td>\n",
              "      <td>2</td>\n",
              "      <td>177300</td>\n",
              "      <td>6</td>\n",
              "      <td>231300</td>\n",
              "      <td>20</td>\n",
              "      <td>733.33</td>\n",
              "      <td>1250.00</td>\n",
              "      <td>991.67</td>\n",
              "      <td>2</td>\n",
              "      <td>4</td>\n",
              "      <td>8</td>\n",
              "      <td>4</td>\n",
              "      <td>1</td>\n",
              "      <td>1</td>\n",
              "      <td>0</td>\n",
              "      <td>2</td>\n",
              "      <td>11</td>\n",
              "      <td>0</td>\n",
              "      <td>1</td>\n",
              "      <td>12</td>\n",
              "      <td>1</td>\n",
              "    </tr>\n",
              "    <tr>\n",
              "      <th>2</th>\n",
              "      <td>30476</td>\n",
              "      <td>2015-07-01</td>\n",
              "      <td>40.5</td>\n",
              "      <td>25.1</td>\n",
              "      <td>3</td>\n",
              "      <td>5</td>\n",
              "      <td>2</td>\n",
              "      <td>1960.0</td>\n",
              "      <td>2</td>\n",
              "      <td>4.8</td>\n",
              "      <td>2.0</td>\n",
              "      <td>Investment</td>\n",
              "      <td>Perovo</td>\n",
              "      <td>9.946335e+06</td>\n",
              "      <td>139322</td>\n",
              "      <td>0.065409</td>\n",
              "      <td>0.225825</td>\n",
              "      <td>6400</td>\n",
              "      <td>2232.0</td>\n",
              "      <td>7</td>\n",
              "      <td>6558</td>\n",
              "      <td>7966.0</td>\n",
              "      <td>7</td>\n",
              "      <td>0</td>\n",
              "      <td>1548.0</td>\n",
              "      <td>3</td>\n",
              "      <td>0</td>\n",
              "      <td>13</td>\n",
              "      <td>0</td>\n",
              "      <td>no</td>\n",
              "      <td>0</td>\n",
              "      <td>2</td>\n",
              "      <td>7</td>\n",
              "      <td>yes</td>\n",
              "      <td>no</td>\n",
              "      <td>yes</td>\n",
              "      <td>yes</td>\n",
              "      <td>no</td>\n",
              "      <td>no</td>\n",
              "      <td>no</td>\n",
              "      <td>...</td>\n",
              "      <td>37</td>\n",
              "      <td>608.33</td>\n",
              "      <td>1069.44</td>\n",
              "      <td>838.89</td>\n",
              "      <td>1</td>\n",
              "      <td>8</td>\n",
              "      <td>19</td>\n",
              "      <td>7</td>\n",
              "      <td>2</td>\n",
              "      <td>0</td>\n",
              "      <td>0</td>\n",
              "      <td>2</td>\n",
              "      <td>3</td>\n",
              "      <td>0</td>\n",
              "      <td>5</td>\n",
              "      <td>22</td>\n",
              "      <td>4</td>\n",
              "      <td>25.62</td>\n",
              "      <td>13.59</td>\n",
              "      <td>27</td>\n",
              "      <td>427889</td>\n",
              "      <td>26</td>\n",
              "      <td>1024431</td>\n",
              "      <td>179</td>\n",
              "      <td>668.97</td>\n",
              "      <td>1132.18</td>\n",
              "      <td>900.57</td>\n",
              "      <td>5</td>\n",
              "      <td>53</td>\n",
              "      <td>64</td>\n",
              "      <td>42</td>\n",
              "      <td>11</td>\n",
              "      <td>4</td>\n",
              "      <td>0</td>\n",
              "      <td>10</td>\n",
              "      <td>21</td>\n",
              "      <td>0</td>\n",
              "      <td>10</td>\n",
              "      <td>71</td>\n",
              "      <td>11</td>\n",
              "    </tr>\n",
              "    <tr>\n",
              "      <th>3</th>\n",
              "      <td>30477</td>\n",
              "      <td>2015-07-01</td>\n",
              "      <td>62.8</td>\n",
              "      <td>36.0</td>\n",
              "      <td>17</td>\n",
              "      <td>17</td>\n",
              "      <td>1</td>\n",
              "      <td>2016.0</td>\n",
              "      <td>2</td>\n",
              "      <td>62.8</td>\n",
              "      <td>3.0</td>\n",
              "      <td>OwnerOccupier</td>\n",
              "      <td>Poselenie Voskresenskoe</td>\n",
              "      <td>2.149409e+07</td>\n",
              "      <td>7122</td>\n",
              "      <td>0.262459</td>\n",
              "      <td>0.017647</td>\n",
              "      <td>489</td>\n",
              "      <td>NaN</td>\n",
              "      <td>0</td>\n",
              "      <td>469</td>\n",
              "      <td>NaN</td>\n",
              "      <td>0</td>\n",
              "      <td>0</td>\n",
              "      <td>NaN</td>\n",
              "      <td>0</td>\n",
              "      <td>0</td>\n",
              "      <td>0</td>\n",
              "      <td>2</td>\n",
              "      <td>no</td>\n",
              "      <td>0</td>\n",
              "      <td>0</td>\n",
              "      <td>0</td>\n",
              "      <td>no</td>\n",
              "      <td>no</td>\n",
              "      <td>no</td>\n",
              "      <td>no</td>\n",
              "      <td>no</td>\n",
              "      <td>no</td>\n",
              "      <td>no</td>\n",
              "      <td>...</td>\n",
              "      <td>1</td>\n",
              "      <td>300.00</td>\n",
              "      <td>500.00</td>\n",
              "      <td>400.00</td>\n",
              "      <td>0</td>\n",
              "      <td>1</td>\n",
              "      <td>0</td>\n",
              "      <td>0</td>\n",
              "      <td>0</td>\n",
              "      <td>0</td>\n",
              "      <td>0</td>\n",
              "      <td>0</td>\n",
              "      <td>4</td>\n",
              "      <td>0</td>\n",
              "      <td>0</td>\n",
              "      <td>0</td>\n",
              "      <td>0</td>\n",
              "      <td>24.25</td>\n",
              "      <td>1.66</td>\n",
              "      <td>0</td>\n",
              "      <td>0</td>\n",
              "      <td>0</td>\n",
              "      <td>0</td>\n",
              "      <td>5</td>\n",
              "      <td>1560.00</td>\n",
              "      <td>2500.00</td>\n",
              "      <td>2030.00</td>\n",
              "      <td>0</td>\n",
              "      <td>1</td>\n",
              "      <td>0</td>\n",
              "      <td>1</td>\n",
              "      <td>1</td>\n",
              "      <td>2</td>\n",
              "      <td>0</td>\n",
              "      <td>0</td>\n",
              "      <td>10</td>\n",
              "      <td>0</td>\n",
              "      <td>0</td>\n",
              "      <td>2</td>\n",
              "      <td>0</td>\n",
              "    </tr>\n",
              "    <tr>\n",
              "      <th>4</th>\n",
              "      <td>30478</td>\n",
              "      <td>2015-07-01</td>\n",
              "      <td>40.0</td>\n",
              "      <td>40.0</td>\n",
              "      <td>17</td>\n",
              "      <td>17</td>\n",
              "      <td>1</td>\n",
              "      <td>0.0</td>\n",
              "      <td>1</td>\n",
              "      <td>1.0</td>\n",
              "      <td>1.0</td>\n",
              "      <td>OwnerOccupier</td>\n",
              "      <td>Poselenie Vnukovskoe</td>\n",
              "      <td>2.553630e+07</td>\n",
              "      <td>4001</td>\n",
              "      <td>0.496315</td>\n",
              "      <td>0.007122</td>\n",
              "      <td>275</td>\n",
              "      <td>NaN</td>\n",
              "      <td>0</td>\n",
              "      <td>264</td>\n",
              "      <td>NaN</td>\n",
              "      <td>0</td>\n",
              "      <td>0</td>\n",
              "      <td>NaN</td>\n",
              "      <td>0</td>\n",
              "      <td>0</td>\n",
              "      <td>0</td>\n",
              "      <td>0</td>\n",
              "      <td>no</td>\n",
              "      <td>0</td>\n",
              "      <td>1</td>\n",
              "      <td>0</td>\n",
              "      <td>no</td>\n",
              "      <td>no</td>\n",
              "      <td>no</td>\n",
              "      <td>no</td>\n",
              "      <td>no</td>\n",
              "      <td>no</td>\n",
              "      <td>no</td>\n",
              "      <td>...</td>\n",
              "      <td>9</td>\n",
              "      <td>700.00</td>\n",
              "      <td>1222.22</td>\n",
              "      <td>961.11</td>\n",
              "      <td>0</td>\n",
              "      <td>1</td>\n",
              "      <td>5</td>\n",
              "      <td>2</td>\n",
              "      <td>1</td>\n",
              "      <td>0</td>\n",
              "      <td>0</td>\n",
              "      <td>1</td>\n",
              "      <td>4</td>\n",
              "      <td>0</td>\n",
              "      <td>0</td>\n",
              "      <td>6</td>\n",
              "      <td>0</td>\n",
              "      <td>35.62</td>\n",
              "      <td>6.96</td>\n",
              "      <td>1</td>\n",
              "      <td>117300</td>\n",
              "      <td>4</td>\n",
              "      <td>201300</td>\n",
              "      <td>20</td>\n",
              "      <td>747.37</td>\n",
              "      <td>1263.16</td>\n",
              "      <td>1005.26</td>\n",
              "      <td>1</td>\n",
              "      <td>4</td>\n",
              "      <td>8</td>\n",
              "      <td>5</td>\n",
              "      <td>1</td>\n",
              "      <td>1</td>\n",
              "      <td>0</td>\n",
              "      <td>2</td>\n",
              "      <td>12</td>\n",
              "      <td>0</td>\n",
              "      <td>1</td>\n",
              "      <td>11</td>\n",
              "      <td>1</td>\n",
              "    </tr>\n",
              "  </tbody>\n",
              "</table>\n",
              "<p>5 rows × 291 columns</p>\n",
              "</div>"
            ],
            "text/plain": [
              "      id   timestamp  ...  sport_count_5000  market_count_5000\n",
              "0  30474  2015-07-01  ...                14                  1\n",
              "1  30475  2015-07-01  ...                12                  1\n",
              "2  30476  2015-07-01  ...                71                 11\n",
              "3  30477  2015-07-01  ...                 2                  0\n",
              "4  30478  2015-07-01  ...                11                  1\n",
              "\n",
              "[5 rows x 291 columns]"
            ]
          },
          "metadata": {
            "tags": []
          },
          "execution_count": 9
        }
      ]
    },
    {
      "cell_type": "markdown",
      "metadata": {
        "id": "Vgcg0st1bIWq",
        "colab_type": "text"
      },
      "source": [
        ""
      ]
    },
    {
      "cell_type": "code",
      "metadata": {
        "id": "0LcdwfgyjqFb",
        "colab_type": "code",
        "outputId": "dae13429-2008-462a-d981-54c959981a98",
        "colab": {
          "base_uri": "https://localhost:8080/",
          "height": 51
        }
      },
      "source": [
        "print('train shape:', train.shape)\n",
        "print('test shape:',test.shape)"
      ],
      "execution_count": 10,
      "outputs": [
        {
          "output_type": "stream",
          "text": [
            "train shape: (30471, 292)\n",
            "test shape: (7662, 291)\n"
          ],
          "name": "stdout"
        }
      ]
    },
    {
      "cell_type": "markdown",
      "metadata": {
        "id": "P8jsQ2iQkrg4",
        "colab_type": "text"
      },
      "source": [
        "Since train data has the original ‘target’ variable which is not present in test, we have to drop that variable too.\n"
      ]
    },
    {
      "cell_type": "code",
      "metadata": {
        "id": "RLybh2pBkKH9",
        "colab_type": "code",
        "colab": {}
      },
      "source": [
        "#dropping ‘target’ column as well because it is not present in the test\n",
        "dum_train = train.drop(columns=['id', 'price_doc'], inplace=True)\n",
        "dum_test = test.drop(columns=['id'], inplace=True)"
      ],
      "execution_count": 0,
      "outputs": []
    },
    {
      "cell_type": "code",
      "metadata": {
        "id": "vrGNBW6fmhCq",
        "colab_type": "code",
        "colab": {}
      },
      "source": [
        "#for handling missing values\n",
        "for i in train.columns:\n",
        "    if train[i].dtype == 'object':\n",
        "      train[i] = train[i].fillna(train[i].mode().iloc[0])\n",
        "    if (train[i].dtype == 'int' or train[i].dtype == 'float'):\n",
        "      train[i] = train[i].fillna(np.mean(train[i]))\n",
        "\n",
        "\n",
        "for i in test.columns:\n",
        "    if test[i].dtype == 'object':\n",
        "      test[i] = test[i].fillna(test[i].mode().iloc[0])\n",
        "    if (test[i].dtype == 'int' or test[i].dtype == 'float'):\n",
        "      test[i] = test[i].fillna(np.mean(test[i]))\n",
        "\n",
        "## label encoding\n",
        "number = LabelEncoder()\n",
        "for i in train.columns:\n",
        "    if (train[i].dtype == 'object'):\n",
        "      train[i] = number.fit_transform(train[i].astype('str'))\n",
        "      train[i] = train[i].astype('object')\n",
        "\n",
        "for i in test.columns:\n",
        "    if (test[i].dtype == 'object'):\n",
        "      test[i] = number.fit_transform(test[i].astype('str'))\n",
        "      test[i] = test[i].astype('object')"
      ],
      "execution_count": 0,
      "outputs": []
    },
    {
      "cell_type": "markdown",
      "metadata": {
        "id": "V_9tmOqeZuJ9",
        "colab_type": "text"
      },
      "source": [
        "Plotting histograms for random columns in comparision with the train vs test colums\n",
        "\n"
      ]
    },
    {
      "cell_type": "code",
      "metadata": {
        "id": "aBqrvFTYZv__",
        "colab_type": "code",
        "colab": {
          "base_uri": "https://localhost:8080/",
          "height": 282
        },
        "outputId": "81a332dc-09c1-4ea2-f823-2a1dd6d9bfa9"
      },
      "source": [
        "train['cafe_sum_3000_min_price_avg'].hist() \n",
        "test['cafe_sum_3000_min_price_avg'].hist()\n",
        "train[\"raion_popul\"].hist() \n",
        "test['raion_popul'].hist()\n",
        "train[\"green_zone_part\"].hist() \n",
        "test['green_zone_part'].hist()"
      ],
      "execution_count": 76,
      "outputs": [
        {
          "output_type": "execute_result",
          "data": {
            "text/plain": [
              "<matplotlib.axes._subplots.AxesSubplot at 0x7f00f5c75ba8>"
            ]
          },
          "metadata": {
            "tags": []
          },
          "execution_count": 76
        },
        {
          "output_type": "display_data",
          "data": {
            "image/png": "[encoded data removed]",
            "text/plain": [
              "<Figure size 432x288 with 1 Axes>"
            ]
          },
          "metadata": {
            "tags": [],
            "needs_background": "light"
          }
        }
      ]
    },
    {
      "cell_type": "code",
      "metadata": {
        "id": "Vgn3QMflbB62",
        "colab_type": "code",
        "colab": {
          "base_uri": "https://localhost:8080/",
          "height": 295
        },
        "outputId": "17f50d7d-eed1-422e-c590-da2c6c9a074e"
      },
      "source": [
        "train[\"indust_part\"].hist() \n",
        "test['indust_part'].hist()\n",
        "train['children_preschool'].hist() \n",
        "test['children_preschool'].hist()\n",
        "train[\"trc_sqm_5000\"].hist() \n",
        "test['trc_sqm_5000'].hist()"
      ],
      "execution_count": 79,
      "outputs": [
        {
          "output_type": "execute_result",
          "data": {
            "text/plain": [
              "<matplotlib.axes._subplots.AxesSubplot at 0x7f00f59cdf60>"
            ]
          },
          "metadata": {
            "tags": []
          },
          "execution_count": 79
        },
        {
          "output_type": "display_data",
          "data": {
            "image/png": "[encoded data removed]",
            "text/plain": [
              "<Figure size 432x288 with 1 Axes>"
            ]
          },
          "metadata": {
            "tags": [],
            "needs_background": "light"
          }
        }
      ]
    },
    {
      "cell_type": "markdown",
      "metadata": {
        "id": "v5-yn8LokvCd",
        "colab_type": "text"
      },
      "source": [
        "##Indicator for source of origin\n",
        "We have to add a feature ‘is_train’ in both train and test data. Value for this feature will be 0 for test and 1 for train."
      ]
    },
    {
      "cell_type": "code",
      "metadata": {
        "id": "33fvpf2lkuFF",
        "colab_type": "code",
        "colab": {}
      },
      "source": [
        "#adding a column to identify whether a row comes from train or not\n",
        "test['is_train'] = 1\n",
        "train['is_train'] = 0 "
      ],
      "execution_count": 0,
      "outputs": []
    },
    {
      "cell_type": "code",
      "metadata": {
        "id": "Jb-h2WiekKFr",
        "colab_type": "code",
        "outputId": "5360114f-1fd9-43ed-8554-ba2903f3db36",
        "colab": {
          "base_uri": "https://localhost:8080/",
          "height": 34
        }
      },
      "source": [
        "from sklearn.model_selection import train_test_split\n",
        "#combining test and train data\n",
        "df_combine = train.append(test)\n",
        "y = df_combine['is_train'].values #labels\n",
        "X = df_combine.drop('is_train', axis=1).values #covariates or our independent variables\n",
        "\n",
        "X_train,X_test,y_train,y_test = train_test_split(X,y, test_size = 0.25, random_state = 42)\n",
        "print('set2 train shape:', X_train.shape, 'set2 test shape:', X_test.shape)"
      ],
      "execution_count": 14,
      "outputs": [
        {
          "output_type": "stream",
          "text": [
            "set2 train shape: (28599, 290) set2 test shape: (9534, 290)\n"
          ],
          "name": "stdout"
        }
      ]
    },
    {
      "cell_type": "code",
      "metadata": {
        "id": "NG8P7lArucyD",
        "colab_type": "code",
        "outputId": "e17ef9d3-5abb-4288-91af-46d07edc1e53",
        "colab": {
          "base_uri": "https://localhost:8080/",
          "height": 34
        }
      },
      "source": [
        "X_train,X_test,y_train,y_test = train_test_split(X,y, test_size = 0.25, random_state = 42)\n",
        "print('set2 train shape:', X_train.shape, 'set2 test shape:', X_test.shape)"
      ],
      "execution_count": 15,
      "outputs": [
        {
          "output_type": "stream",
          "text": [
            "set2 train shape: (28599, 290) set2 test shape: (9534, 290)\n"
          ],
          "name": "stdout"
        }
      ]
    },
    {
      "cell_type": "code",
      "metadata": {
        "id": "5bAJJyddkKD5",
        "colab_type": "code",
        "outputId": "e0b858ba-5499-43de-bd24-6695de2b1fc4",
        "colab": {
          "base_uri": "https://localhost:8080/",
          "height": 34
        }
      },
      "source": [
        "print('y_test shape:', y_test.shape, 'y_train shape:', y_train.shape)"
      ],
      "execution_count": 16,
      "outputs": [
        {
          "output_type": "stream",
          "text": [
            "y_test shape: (9534,) y_train shape: (28599,)\n"
          ],
          "name": "stdout"
        }
      ]
    },
    {
      "cell_type": "code",
      "metadata": {
        "id": "iWp8r4Vtb1ij",
        "colab_type": "code",
        "colab": {
          "base_uri": "https://localhost:8080/",
          "height": 295
        },
        "outputId": "106624a2-1cf0-4b88-e51e-75cfb1156f47"
      },
      "source": [
        "train['children_preschool'].hist() \n",
        "test['children_preschool'].hist()\n",
        "train[\"trc_sqm_5000\"].hist() \n",
        "test['trc_sqm_5000'].hist()"
      ],
      "execution_count": 80,
      "outputs": [
        {
          "output_type": "execute_result",
          "data": {
            "text/plain": [
              "<matplotlib.axes._subplots.AxesSubplot at 0x7f00f46c8780>"
            ]
          },
          "metadata": {
            "tags": []
          },
          "execution_count": 80
        },
        {
          "output_type": "display_data",
          "data": {
            "image/png": "[encoded data removed]",
            "text/plain": [
              "<Figure size 432x288 with 1 Axes>"
            ]
          },
          "metadata": {
            "tags": [],
            "needs_background": "light"
          }
        }
      ]
    },
    {
      "cell_type": "code",
      "metadata": {
        "id": "xSsZ42AnkKAn",
        "colab_type": "code",
        "colab": {}
      },
      "source": [
        "clf = RandomForestRegressor(n_estimators = 200, random_state = 42)\n",
        "#predictions = np.zeros(y.shape) #creating an empty prediction array"
      ],
      "execution_count": 0,
      "outputs": []
    },
    {
      "cell_type": "code",
      "metadata": {
        "id": "gxbF7LKrkJ9m",
        "colab_type": "code",
        "outputId": "a1ecf97d-d39e-4f80-c0d2-d7f06e637a28",
        "colab": {
          "base_uri": "https://localhost:8080/",
          "height": 136
        }
      },
      "source": [
        "clf.fit(X_train, y_train)\n",
        "#probs_y_test = clf.predict(X_test) #calculating the predictions"
      ],
      "execution_count": 18,
      "outputs": [
        {
          "output_type": "execute_result",
          "data": {
            "text/plain": [
              "RandomForestRegressor(bootstrap=True, ccp_alpha=0.0, criterion='mse',\n",
              "                      max_depth=None, max_features='auto', max_leaf_nodes=None,\n",
              "                      max_samples=None, min_impurity_decrease=0.0,\n",
              "                      min_impurity_split=None, min_samples_leaf=1,\n",
              "                      min_samples_split=2, min_weight_fraction_leaf=0.0,\n",
              "                      n_estimators=200, n_jobs=None, oob_score=False,\n",
              "                      random_state=42, verbose=0, warm_start=False)"
            ]
          },
          "metadata": {
            "tags": []
          },
          "execution_count": 18
        }
      ]
    },
    {
      "cell_type": "code",
      "metadata": {
        "id": "yqyAyEC1wWRN",
        "colab_type": "code",
        "colab": {}
      },
      "source": [
        "probs_y_test = clf.predict(X_test) #calculating the predictions"
      ],
      "execution_count": 0,
      "outputs": []
    },
    {
      "cell_type": "code",
      "metadata": {
        "id": "oP2bbcscoUuB",
        "colab_type": "code",
        "outputId": "bfe34084-1861-440a-ea32-8ecb7c3c4ec4",
        "colab": {
          "base_uri": "https://localhost:8080/",
          "height": 34
        }
      },
      "source": [
        "from sklearn.metrics import roc_auc_score \n",
        "predictions = clf.predict(X_test)\n",
        "##Calculating the training accuracy\n",
        "#print('ROC-AUC for train and test distributions:', round(AUC(y_true=y_test, y_score=probs_y_test[:,1]), 4)\n",
        "print(\"Accuracy score = \", clf.score(X_train, y_train))"
      ],
      "execution_count": 42,
      "outputs": [
        {
          "output_type": "stream",
          "text": [
            "Accuracy score =  0.99997887540907\n"
          ],
          "name": "stdout"
        }
      ]
    },
    {
      "cell_type": "markdown",
      "metadata": {
        "id": "CjCm0eGR0fWd",
        "colab_type": "text"
      },
      "source": [
        "This score shows that the data contains covariate shift.\n"
      ]
    },
    {
      "cell_type": "markdown",
      "metadata": {
        "id": "6ziXrg2l0nbj",
        "colab_type": "text"
      },
      "source": [
        "#Covariate shift adaptation"
      ]
    },
    {
      "cell_type": "code",
      "metadata": {
        "id": "YfOYBOpAwkz-",
        "colab_type": "code",
        "colab": {}
      },
      "source": [
        "from sklearn.model_selection import StratifiedKFold as SKF\n",
        "from sklearn.metrics import roc_auc_score as AUC\n",
        "from sklearn.svm import SVC\n",
        "\n",
        "def getTrainWeights(train, test):\n",
        "    test['is_train'] = 1\n",
        "    train['is_train'] = 0\n",
        "    \n",
        "    combinedData = train.append(test)\n",
        "    X = combinedData.drop(columns=['is_train'], axis=1)\n",
        "    y = combinedData['is_train']\n",
        "    \n",
        "    clf = RandomForestClassifier()\n",
        "    # clf = SVC(probability=True)\n",
        "    predictions = np.zeros(y.shape)\n",
        "    skf = SKF(n_splits=10, shuffle=True, random_state=888)\n",
        "\n",
        "    for kfold, (train_idx, test_idx) in enumerate(skf.split(X, y)):\n",
        "        print('Training discriminator model for fold {}'.format(kfold))\n",
        "        X_train, X_test = X.iloc[train_idx], X.iloc[test_idx]\n",
        "        y_train, y_test = y.iloc[train_idx], y.iloc[test_idx]\n",
        "            \n",
        "        clf.fit(X_train, y_train)\n",
        "        probs = clf.predict_proba(X_test)[:, 1]\n",
        "        predictions[test_idx] = probs\n",
        "\n",
        "    all_weights = np.exp(predictions)*len(train)/len(test)\n",
        "    tr_weights = all_weights[:len(train)]\n",
        "\n",
        "    return tr_weights"
      ],
      "execution_count": 0,
      "outputs": []
    },
    {
      "cell_type": "code",
      "metadata": {
        "id": "ikTLgyvq1I5a",
        "colab_type": "code",
        "outputId": "e302ba91-d6a4-4276-c5dd-e4ad1ba17f60",
        "colab": {
          "base_uri": "https://localhost:8080/",
          "height": 187
        }
      },
      "source": [
        "train_weights = getTrainWeights(train, test)"
      ],
      "execution_count": 45,
      "outputs": [
        {
          "output_type": "stream",
          "text": [
            "Training discriminator model for fold 0\n",
            "Training discriminator model for fold 1\n",
            "Training discriminator model for fold 2\n",
            "Training discriminator model for fold 3\n",
            "Training discriminator model for fold 4\n",
            "Training discriminator model for fold 5\n",
            "Training discriminator model for fold 6\n",
            "Training discriminator model for fold 7\n",
            "Training discriminator model for fold 8\n",
            "Training discriminator model for fold 9\n"
          ],
          "name": "stdout"
        }
      ]
    },
    {
      "cell_type": "markdown",
      "metadata": {
        "id": "m_-EbzkHW3Lb",
        "colab_type": "text"
      },
      "source": [
        "###The performance without the problem features"
      ]
    },
    {
      "cell_type": "code",
      "metadata": {
        "id": "O1S83UDkVQdY",
        "colab_type": "code",
        "colab": {
          "base_uri": "https://localhost:8080/",
          "height": 68
        },
        "outputId": "0bb25101-960b-46e3-b9c0-58c1dd42d6b0"
      },
      "source": [
        "drop_list.remove('is_test')\n",
        "drift_train = train.drop(columns=drop_list)\n",
        "drift_test = test.drop(columns=drop_list)\n",
        "\n",
        "clf = RandomForestRegressor(n_estimators=200, max_depth=6,max_features=10)\n",
        "clf.fit(drift_train.drop('price_doc',axis=1),housing_train['price_doc'])\n",
        "pred = clf.predict(drift_test)columns = ['price_doc']\n",
        "\n",
        "sub = pd.DataFrame(data= probs_y_test,columns=columns)\n",
        "sub['id'] = test['id']\n",
        "sub = sub[['id','price_doc']]\n",
        "sub.to_csv('without_drifting.csv', index=False)\n",
        "\n",
        "!kaggle competitions submit -c sberbank-russian-housing-market -f without_drifting.csv -m \"without drifting\""
      ],
      "execution_count": 59,
      "outputs": [
        {
          "output_type": "stream",
          "text": [
            "Warning: Looks like you're using an outdated API Version, please consider updating (server 1.5.6 / client 1.5.4)\n",
            "\r  0% 0.00/99.0k [00:00<?, ?B/s]\r100% 99.0k/99.0k [00:00<00:00, 473kB/s]\n",
            "Successfully submitted to Sberbank Russian Housing Market"
          ],
          "name": "stdout"
        }
      ]
    },
    {
      "cell_type": "markdown",
      "metadata": {
        "id": "9eG3TWfHWHd5",
        "colab_type": "text"
      },
      "source": [
        "The score was 0.4188 but not really good score comparitively"
      ]
    },
    {
      "cell_type": "markdown",
      "metadata": {
        "id": "GNLlBYYyXCxC",
        "colab_type": "text"
      },
      "source": [
        "### Removing not so important drifting features"
      ]
    },
    {
      "cell_type": "code",
      "metadata": {
        "id": "XGvkC109XBDz",
        "colab_type": "code",
        "colab": {
          "base_uri": "https://localhost:8080/",
          "height": 68
        },
        "outputId": "6b597ff1-802f-4705-da8e-b768ee65fab8"
      },
      "source": [
        "drop_list.remove('cafe_sum_500_max_price_avg')\n",
        "drop_list.remove('hospital_beds_raion')\n",
        "\n",
        "drift_train = train.drop(columns=drop_list)\n",
        "drift_test = test.drop(columns=drop_list)\n",
        "\n",
        "clf = RandomForestRegressor(n_estimators=200, max_depth=6,max_features=10)\n",
        "clf.fit(drift_train.drop('price_doc',axis=1),housing_train['price_doc'])\n",
        "pred = clf.predict(drift_test)\n",
        "columns = ['price_doc']\n",
        "sub = pd.DataFrame(data= probs_y_test,columns=columns)\n",
        "sub['id'] = test['id']\n",
        "sub = sub[['id','price_doc']]\n",
        "sub.to_csv('non_import_drifting.csv', index=False)\n",
        "\n",
        "!kaggle competitions submit -c sberbank-russian-housing-market -f without_uninportant_drifting.csv -m \"without_uninportant_drifting\""
      ],
      "execution_count": 64,
      "outputs": [
        {
          "output_type": "stream",
          "text": [
            "Warning: Looks like you're using an outdated API Version, please consider updating (server 1.5.6 / client 1.5.4)\n",
            "\r  0% 0.00/99.0k [00:00<?, ?B/s]\r100% 99.0k/99.0k [00:00<00:00, 383kB/s]\n",
            "Successfully submitted to Sberbank Russian Housing Market"
          ],
          "name": "stdout"
        }
      ]
    },
    {
      "cell_type": "markdown",
      "metadata": {
        "id": "ohWZ6TtNYpFe",
        "colab_type": "text"
      },
      "source": [
        "The score now has been reduced to 0.398992 with a minute improvement but it counts as the improvement is better"
      ]
    }
  ]
}