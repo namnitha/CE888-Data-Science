{
  "nbformat": 4,
  "nbformat_minor": 0,
  "metadata": {
    "colab": {
      "name": "Santander.ipynb",
      "provenance": [],
      "machine_shape": "hm",
      "authorship_tag": "ABX9TyNwtiqJtEip1wP13+kxGtbE",
      "include_colab_link": true
    },
    "kernelspec": {
      "name": "python3",
      "display_name": "Python 3"
    },
    "accelerator": "GPU"
  },
  "cells": [
    {
      "cell_type": "markdown",
      "metadata": {
        "id": "view-in-github",
        "colab_type": "text"
      },
      "source": [
        "<a href=\"https://colab.research.google.com/github/namnitha/CE888-Data-Science/blob/master/Project/Santander.ipynb\" target=\"_parent\"><img src=\"https://colab.research.google.com/assets/colab-badge.svg\" alt=\"Open In Colab\"/></a>"
      ]
    },
    {
      "cell_type": "markdown",
      "metadata": {
        "id": "LZbyZyj164UI",
        "colab_type": "text"
      },
      "source": [
        "Importing the needed libraries"
      ]
    },
    {
      "cell_type": "code",
      "metadata": {
        "id": "xbKXGhkH0v69",
        "colab_type": "code",
        "colab": {}
      },
      "source": [
        "import numpy as np\n",
        "import pandas as pd\n",
        "from pandas import Series, DataFrame\n",
        "import os\n",
        "import matplotlib.pyplot as plt\n",
        "get_ipython().magic('matplotlib inline')"
      ],
      "execution_count": 0,
      "outputs": []
    },
    {
      "cell_type": "code",
      "metadata": {
        "id": "gqG_NaRg4oBe",
        "colab_type": "code",
        "outputId": "dbf30646-c166-447b-d752-161248b55500",
        "colab": {
          "base_uri": "https://localhost:8080/",
          "height": 105
        }
      },
      "source": [
        "import os\n",
        "\n",
        "os.environ['KAGGLE_USERNAME'] = \"namnitha\" # username from the json file\n",
        "\n",
        "os.environ['KAGGLE_KEY'] = \"90ceb5b09eaa184f556d4577eb017b49\" # key from the json file\n",
        "\n",
        "!kaggle competitions download -c santander-customer-transaction-prediction # api copied from kaggle\n",
        "\n",
        " "
      ],
      "execution_count": 0,
      "outputs": [
        {
          "output_type": "stream",
          "text": [
            "Warning: Looks like you're using an outdated API Version, please consider updating (server 1.5.6 / client 1.5.4)\n",
            "sample_submission.csv.zip: Skipping, found more recently modified local copy (use --force to force download)\n",
            "test.csv.zip: Skipping, found more recently modified local copy (use --force to force download)\n",
            "train.csv.zip: Skipping, found more recently modified local copy (use --force to force download)\n"
          ],
          "name": "stdout"
        }
      ]
    },
    {
      "cell_type": "code",
      "metadata": {
        "id": "1n2yg0TmeIhx",
        "colab_type": "code",
        "outputId": "b10bd81f-7403-4418-b19e-ddfed5939b58",
        "colab": {
          "base_uri": "https://localhost:8080/",
          "height": 51
        }
      },
      "source": [
        "!ls"
      ],
      "execution_count": 0,
      "outputs": [
        {
          "output_type": "stream",
          "text": [
            "sample_data\t\t   test.csv\t train.csv\n",
            "sample_submission.csv.zip  test.csv.zip  train.csv.zip\n"
          ],
          "name": "stdout"
        }
      ]
    },
    {
      "cell_type": "code",
      "metadata": {
        "id": "SecWQwIQ3OH6",
        "colab_type": "code",
        "colab": {}
      },
      "source": [
        "from sklearn.ensemble import RandomForestRegressor\n",
        "from sklearn.ensemble import RandomForestClassifier\n",
        "from sklearn.model_selection import cross_val_score\n",
        "from sklearn.preprocessing import LabelEncoder"
      ],
      "execution_count": 0,
      "outputs": []
    },
    {
      "cell_type": "markdown",
      "metadata": {
        "id": "CnKQ8KKU7A4N",
        "colab_type": "text"
      },
      "source": [
        "Loading the train and test data"
      ]
    },
    {
      "cell_type": "code",
      "metadata": {
        "id": "V3kPOisAWYpx",
        "colab_type": "code",
        "outputId": "c090d598-f119-437e-9111-b5b36404688f",
        "colab": {
          "base_uri": "https://localhost:8080/",
          "height": 34
        }
      },
      "source": [
        "from zipfile import ZipFile\n",
        "file_name = \"train.csv.zip\"\n",
        "file_name = \"test.csv.zip\"\n",
        "with ZipFile(file_name,'r') as zip:\n",
        "  zip.extractall()\n",
        "  print('Done')"
      ],
      "execution_count": 0,
      "outputs": [
        {
          "output_type": "stream",
          "text": [
            "Done\n"
          ],
          "name": "stdout"
        }
      ]
    },
    {
      "cell_type": "code",
      "metadata": {
        "id": "tGqdZAeO6wKe",
        "colab_type": "code",
        "colab": {}
      },
      "source": [
        "train = pd.read_csv('train.csv', low_memory=True)\n",
        "test = pd.read_csv('test.csv', low_memory=True)"
      ],
      "execution_count": 0,
      "outputs": []
    },
    {
      "cell_type": "code",
      "metadata": {
        "id": "-O-9stSp6wH9",
        "colab_type": "code",
        "outputId": "306ff18a-9adf-476c-b4e5-e7b441077330",
        "colab": {
          "base_uri": "https://localhost:8080/",
          "height": 253
        }
      },
      "source": [
        "train.head()"
      ],
      "execution_count": 0,
      "outputs": [
        {
          "output_type": "execute_result",
          "data": {
            "text/html": [
              "<div>\n",
              "<style scoped>\n",
              "    .dataframe tbody tr th:only-of-type {\n",
              "        vertical-align: middle;\n",
              "    }\n",
              "\n",
              "    .dataframe tbody tr th {\n",
              "        vertical-align: top;\n",
              "    }\n",
              "\n",
              "    .dataframe thead th {\n",
              "        text-align: right;\n",
              "    }\n",
              "</style>\n",
              "<table border=\"1\" class=\"dataframe\">\n",
              "  <thead>\n",
              "    <tr style=\"text-align: right;\">\n",
              "      <th></th>\n",
              "      <th>ID_code</th>\n",
              "      <th>target</th>\n",
              "      <th>var_0</th>\n",
              "      <th>var_1</th>\n",
              "      <th>var_2</th>\n",
              "      <th>var_3</th>\n",
              "      <th>var_4</th>\n",
              "      <th>var_5</th>\n",
              "      <th>var_6</th>\n",
              "      <th>var_7</th>\n",
              "      <th>var_8</th>\n",
              "      <th>var_9</th>\n",
              "      <th>var_10</th>\n",
              "      <th>var_11</th>\n",
              "      <th>var_12</th>\n",
              "      <th>var_13</th>\n",
              "      <th>var_14</th>\n",
              "      <th>var_15</th>\n",
              "      <th>var_16</th>\n",
              "      <th>var_17</th>\n",
              "      <th>var_18</th>\n",
              "      <th>var_19</th>\n",
              "      <th>var_20</th>\n",
              "      <th>var_21</th>\n",
              "      <th>var_22</th>\n",
              "      <th>var_23</th>\n",
              "      <th>var_24</th>\n",
              "      <th>var_25</th>\n",
              "      <th>var_26</th>\n",
              "      <th>var_27</th>\n",
              "      <th>var_28</th>\n",
              "      <th>var_29</th>\n",
              "      <th>var_30</th>\n",
              "      <th>var_31</th>\n",
              "      <th>var_32</th>\n",
              "      <th>var_33</th>\n",
              "      <th>var_34</th>\n",
              "      <th>var_35</th>\n",
              "      <th>var_36</th>\n",
              "      <th>var_37</th>\n",
              "      <th>...</th>\n",
              "      <th>var_160</th>\n",
              "      <th>var_161</th>\n",
              "      <th>var_162</th>\n",
              "      <th>var_163</th>\n",
              "      <th>var_164</th>\n",
              "      <th>var_165</th>\n",
              "      <th>var_166</th>\n",
              "      <th>var_167</th>\n",
              "      <th>var_168</th>\n",
              "      <th>var_169</th>\n",
              "      <th>var_170</th>\n",
              "      <th>var_171</th>\n",
              "      <th>var_172</th>\n",
              "      <th>var_173</th>\n",
              "      <th>var_174</th>\n",
              "      <th>var_175</th>\n",
              "      <th>var_176</th>\n",
              "      <th>var_177</th>\n",
              "      <th>var_178</th>\n",
              "      <th>var_179</th>\n",
              "      <th>var_180</th>\n",
              "      <th>var_181</th>\n",
              "      <th>var_182</th>\n",
              "      <th>var_183</th>\n",
              "      <th>var_184</th>\n",
              "      <th>var_185</th>\n",
              "      <th>var_186</th>\n",
              "      <th>var_187</th>\n",
              "      <th>var_188</th>\n",
              "      <th>var_189</th>\n",
              "      <th>var_190</th>\n",
              "      <th>var_191</th>\n",
              "      <th>var_192</th>\n",
              "      <th>var_193</th>\n",
              "      <th>var_194</th>\n",
              "      <th>var_195</th>\n",
              "      <th>var_196</th>\n",
              "      <th>var_197</th>\n",
              "      <th>var_198</th>\n",
              "      <th>var_199</th>\n",
              "    </tr>\n",
              "  </thead>\n",
              "  <tbody>\n",
              "    <tr>\n",
              "      <th>0</th>\n",
              "      <td>train_0</td>\n",
              "      <td>0</td>\n",
              "      <td>8.9255</td>\n",
              "      <td>-6.7863</td>\n",
              "      <td>11.9081</td>\n",
              "      <td>5.0930</td>\n",
              "      <td>11.4607</td>\n",
              "      <td>-9.2834</td>\n",
              "      <td>5.1187</td>\n",
              "      <td>18.6266</td>\n",
              "      <td>-4.9200</td>\n",
              "      <td>5.7470</td>\n",
              "      <td>2.9252</td>\n",
              "      <td>3.1821</td>\n",
              "      <td>14.0137</td>\n",
              "      <td>0.5745</td>\n",
              "      <td>8.7989</td>\n",
              "      <td>14.5691</td>\n",
              "      <td>5.7487</td>\n",
              "      <td>-7.2393</td>\n",
              "      <td>4.2840</td>\n",
              "      <td>30.7133</td>\n",
              "      <td>10.5350</td>\n",
              "      <td>16.2191</td>\n",
              "      <td>2.5791</td>\n",
              "      <td>2.4716</td>\n",
              "      <td>14.3831</td>\n",
              "      <td>13.4325</td>\n",
              "      <td>-5.1488</td>\n",
              "      <td>-0.4073</td>\n",
              "      <td>4.9306</td>\n",
              "      <td>5.9965</td>\n",
              "      <td>-0.3085</td>\n",
              "      <td>12.9041</td>\n",
              "      <td>-3.8766</td>\n",
              "      <td>16.8911</td>\n",
              "      <td>11.1920</td>\n",
              "      <td>10.5785</td>\n",
              "      <td>0.6764</td>\n",
              "      <td>7.8871</td>\n",
              "      <td>...</td>\n",
              "      <td>15.4576</td>\n",
              "      <td>5.3133</td>\n",
              "      <td>3.6159</td>\n",
              "      <td>5.0384</td>\n",
              "      <td>6.6760</td>\n",
              "      <td>12.6644</td>\n",
              "      <td>2.7004</td>\n",
              "      <td>-0.6975</td>\n",
              "      <td>9.5981</td>\n",
              "      <td>5.4879</td>\n",
              "      <td>-4.7645</td>\n",
              "      <td>-8.4254</td>\n",
              "      <td>20.8773</td>\n",
              "      <td>3.1531</td>\n",
              "      <td>18.5618</td>\n",
              "      <td>7.7423</td>\n",
              "      <td>-10.1245</td>\n",
              "      <td>13.7241</td>\n",
              "      <td>-3.5189</td>\n",
              "      <td>1.7202</td>\n",
              "      <td>-8.4051</td>\n",
              "      <td>9.0164</td>\n",
              "      <td>3.0657</td>\n",
              "      <td>14.3691</td>\n",
              "      <td>25.8398</td>\n",
              "      <td>5.8764</td>\n",
              "      <td>11.8411</td>\n",
              "      <td>-19.7159</td>\n",
              "      <td>17.5743</td>\n",
              "      <td>0.5857</td>\n",
              "      <td>4.4354</td>\n",
              "      <td>3.9642</td>\n",
              "      <td>3.1364</td>\n",
              "      <td>1.6910</td>\n",
              "      <td>18.5227</td>\n",
              "      <td>-2.3978</td>\n",
              "      <td>7.8784</td>\n",
              "      <td>8.5635</td>\n",
              "      <td>12.7803</td>\n",
              "      <td>-1.0914</td>\n",
              "    </tr>\n",
              "    <tr>\n",
              "      <th>1</th>\n",
              "      <td>train_1</td>\n",
              "      <td>0</td>\n",
              "      <td>11.5006</td>\n",
              "      <td>-4.1473</td>\n",
              "      <td>13.8588</td>\n",
              "      <td>5.3890</td>\n",
              "      <td>12.3622</td>\n",
              "      <td>7.0433</td>\n",
              "      <td>5.6208</td>\n",
              "      <td>16.5338</td>\n",
              "      <td>3.1468</td>\n",
              "      <td>8.0851</td>\n",
              "      <td>-0.4032</td>\n",
              "      <td>8.0585</td>\n",
              "      <td>14.0239</td>\n",
              "      <td>8.4135</td>\n",
              "      <td>5.4345</td>\n",
              "      <td>13.7003</td>\n",
              "      <td>13.8275</td>\n",
              "      <td>-15.5849</td>\n",
              "      <td>7.8000</td>\n",
              "      <td>28.5708</td>\n",
              "      <td>3.4287</td>\n",
              "      <td>2.7407</td>\n",
              "      <td>8.5524</td>\n",
              "      <td>3.3716</td>\n",
              "      <td>6.9779</td>\n",
              "      <td>13.8910</td>\n",
              "      <td>-11.7684</td>\n",
              "      <td>-2.5586</td>\n",
              "      <td>5.0464</td>\n",
              "      <td>0.5481</td>\n",
              "      <td>-9.2987</td>\n",
              "      <td>7.8755</td>\n",
              "      <td>1.2859</td>\n",
              "      <td>19.3710</td>\n",
              "      <td>11.3702</td>\n",
              "      <td>0.7399</td>\n",
              "      <td>2.7995</td>\n",
              "      <td>5.8434</td>\n",
              "      <td>...</td>\n",
              "      <td>29.4846</td>\n",
              "      <td>5.8683</td>\n",
              "      <td>3.8208</td>\n",
              "      <td>15.8348</td>\n",
              "      <td>-5.0121</td>\n",
              "      <td>15.1345</td>\n",
              "      <td>3.2003</td>\n",
              "      <td>9.3192</td>\n",
              "      <td>3.8821</td>\n",
              "      <td>5.7999</td>\n",
              "      <td>5.5378</td>\n",
              "      <td>5.0988</td>\n",
              "      <td>22.0330</td>\n",
              "      <td>5.5134</td>\n",
              "      <td>30.2645</td>\n",
              "      <td>10.4968</td>\n",
              "      <td>-7.2352</td>\n",
              "      <td>16.5721</td>\n",
              "      <td>-7.3477</td>\n",
              "      <td>11.0752</td>\n",
              "      <td>-5.5937</td>\n",
              "      <td>9.4878</td>\n",
              "      <td>-14.9100</td>\n",
              "      <td>9.4245</td>\n",
              "      <td>22.5441</td>\n",
              "      <td>-4.8622</td>\n",
              "      <td>7.6543</td>\n",
              "      <td>-15.9319</td>\n",
              "      <td>13.3175</td>\n",
              "      <td>-0.3566</td>\n",
              "      <td>7.6421</td>\n",
              "      <td>7.7214</td>\n",
              "      <td>2.5837</td>\n",
              "      <td>10.9516</td>\n",
              "      <td>15.4305</td>\n",
              "      <td>2.0339</td>\n",
              "      <td>8.1267</td>\n",
              "      <td>8.7889</td>\n",
              "      <td>18.3560</td>\n",
              "      <td>1.9518</td>\n",
              "    </tr>\n",
              "    <tr>\n",
              "      <th>2</th>\n",
              "      <td>train_2</td>\n",
              "      <td>0</td>\n",
              "      <td>8.6093</td>\n",
              "      <td>-2.7457</td>\n",
              "      <td>12.0805</td>\n",
              "      <td>7.8928</td>\n",
              "      <td>10.5825</td>\n",
              "      <td>-9.0837</td>\n",
              "      <td>6.9427</td>\n",
              "      <td>14.6155</td>\n",
              "      <td>-4.9193</td>\n",
              "      <td>5.9525</td>\n",
              "      <td>-0.3249</td>\n",
              "      <td>-11.2648</td>\n",
              "      <td>14.1929</td>\n",
              "      <td>7.3124</td>\n",
              "      <td>7.5244</td>\n",
              "      <td>14.6472</td>\n",
              "      <td>7.6782</td>\n",
              "      <td>-1.7395</td>\n",
              "      <td>4.7011</td>\n",
              "      <td>20.4775</td>\n",
              "      <td>17.7559</td>\n",
              "      <td>18.1377</td>\n",
              "      <td>1.2145</td>\n",
              "      <td>3.5137</td>\n",
              "      <td>5.6777</td>\n",
              "      <td>13.2177</td>\n",
              "      <td>-7.9940</td>\n",
              "      <td>-2.9029</td>\n",
              "      <td>5.8463</td>\n",
              "      <td>6.1439</td>\n",
              "      <td>-11.1025</td>\n",
              "      <td>12.4858</td>\n",
              "      <td>-2.2871</td>\n",
              "      <td>19.0422</td>\n",
              "      <td>11.0449</td>\n",
              "      <td>4.1087</td>\n",
              "      <td>4.6974</td>\n",
              "      <td>6.9346</td>\n",
              "      <td>...</td>\n",
              "      <td>13.2070</td>\n",
              "      <td>5.8442</td>\n",
              "      <td>4.7086</td>\n",
              "      <td>5.7141</td>\n",
              "      <td>-1.0410</td>\n",
              "      <td>20.5092</td>\n",
              "      <td>3.2790</td>\n",
              "      <td>-5.5952</td>\n",
              "      <td>7.3176</td>\n",
              "      <td>5.7690</td>\n",
              "      <td>-7.0927</td>\n",
              "      <td>-3.9116</td>\n",
              "      <td>7.2569</td>\n",
              "      <td>-5.8234</td>\n",
              "      <td>25.6820</td>\n",
              "      <td>10.9202</td>\n",
              "      <td>-0.3104</td>\n",
              "      <td>8.8438</td>\n",
              "      <td>-9.7009</td>\n",
              "      <td>2.4013</td>\n",
              "      <td>-4.2935</td>\n",
              "      <td>9.3908</td>\n",
              "      <td>-13.2648</td>\n",
              "      <td>3.1545</td>\n",
              "      <td>23.0866</td>\n",
              "      <td>-5.3000</td>\n",
              "      <td>5.3745</td>\n",
              "      <td>-6.2660</td>\n",
              "      <td>10.1934</td>\n",
              "      <td>-0.8417</td>\n",
              "      <td>2.9057</td>\n",
              "      <td>9.7905</td>\n",
              "      <td>1.6704</td>\n",
              "      <td>1.6858</td>\n",
              "      <td>21.6042</td>\n",
              "      <td>3.1417</td>\n",
              "      <td>-6.5213</td>\n",
              "      <td>8.2675</td>\n",
              "      <td>14.7222</td>\n",
              "      <td>0.3965</td>\n",
              "    </tr>\n",
              "    <tr>\n",
              "      <th>3</th>\n",
              "      <td>train_3</td>\n",
              "      <td>0</td>\n",
              "      <td>11.0604</td>\n",
              "      <td>-2.1518</td>\n",
              "      <td>8.9522</td>\n",
              "      <td>7.1957</td>\n",
              "      <td>12.5846</td>\n",
              "      <td>-1.8361</td>\n",
              "      <td>5.8428</td>\n",
              "      <td>14.9250</td>\n",
              "      <td>-5.8609</td>\n",
              "      <td>8.2450</td>\n",
              "      <td>2.3061</td>\n",
              "      <td>2.8102</td>\n",
              "      <td>13.8463</td>\n",
              "      <td>11.9704</td>\n",
              "      <td>6.4569</td>\n",
              "      <td>14.8372</td>\n",
              "      <td>10.7430</td>\n",
              "      <td>-0.4299</td>\n",
              "      <td>15.9426</td>\n",
              "      <td>13.7257</td>\n",
              "      <td>20.3010</td>\n",
              "      <td>12.5579</td>\n",
              "      <td>6.8202</td>\n",
              "      <td>2.7229</td>\n",
              "      <td>12.1354</td>\n",
              "      <td>13.7367</td>\n",
              "      <td>0.8135</td>\n",
              "      <td>-0.9059</td>\n",
              "      <td>5.9070</td>\n",
              "      <td>2.8407</td>\n",
              "      <td>-15.2398</td>\n",
              "      <td>10.4407</td>\n",
              "      <td>-2.5731</td>\n",
              "      <td>6.1796</td>\n",
              "      <td>10.6093</td>\n",
              "      <td>-5.9158</td>\n",
              "      <td>8.1723</td>\n",
              "      <td>2.8521</td>\n",
              "      <td>...</td>\n",
              "      <td>31.8833</td>\n",
              "      <td>5.9684</td>\n",
              "      <td>7.2084</td>\n",
              "      <td>3.8899</td>\n",
              "      <td>-11.0882</td>\n",
              "      <td>17.2502</td>\n",
              "      <td>2.5881</td>\n",
              "      <td>-2.7018</td>\n",
              "      <td>0.5641</td>\n",
              "      <td>5.3430</td>\n",
              "      <td>-7.1541</td>\n",
              "      <td>-6.1920</td>\n",
              "      <td>18.2366</td>\n",
              "      <td>11.7134</td>\n",
              "      <td>14.7483</td>\n",
              "      <td>8.1013</td>\n",
              "      <td>11.8771</td>\n",
              "      <td>13.9552</td>\n",
              "      <td>-10.4701</td>\n",
              "      <td>5.6961</td>\n",
              "      <td>-3.7546</td>\n",
              "      <td>8.4117</td>\n",
              "      <td>1.8986</td>\n",
              "      <td>7.2601</td>\n",
              "      <td>-0.4639</td>\n",
              "      <td>-0.0498</td>\n",
              "      <td>7.9336</td>\n",
              "      <td>-12.8279</td>\n",
              "      <td>12.4124</td>\n",
              "      <td>1.8489</td>\n",
              "      <td>4.4666</td>\n",
              "      <td>4.7433</td>\n",
              "      <td>0.7178</td>\n",
              "      <td>1.4214</td>\n",
              "      <td>23.0347</td>\n",
              "      <td>-1.2706</td>\n",
              "      <td>-2.9275</td>\n",
              "      <td>10.2922</td>\n",
              "      <td>17.9697</td>\n",
              "      <td>-8.9996</td>\n",
              "    </tr>\n",
              "    <tr>\n",
              "      <th>4</th>\n",
              "      <td>train_4</td>\n",
              "      <td>0</td>\n",
              "      <td>9.8369</td>\n",
              "      <td>-1.4834</td>\n",
              "      <td>12.8746</td>\n",
              "      <td>6.6375</td>\n",
              "      <td>12.2772</td>\n",
              "      <td>2.4486</td>\n",
              "      <td>5.9405</td>\n",
              "      <td>19.2514</td>\n",
              "      <td>6.2654</td>\n",
              "      <td>7.6784</td>\n",
              "      <td>-9.4458</td>\n",
              "      <td>-12.1419</td>\n",
              "      <td>13.8481</td>\n",
              "      <td>7.8895</td>\n",
              "      <td>7.7894</td>\n",
              "      <td>15.0553</td>\n",
              "      <td>8.4871</td>\n",
              "      <td>-3.0680</td>\n",
              "      <td>6.5263</td>\n",
              "      <td>11.3152</td>\n",
              "      <td>21.4246</td>\n",
              "      <td>18.9608</td>\n",
              "      <td>10.1102</td>\n",
              "      <td>2.7142</td>\n",
              "      <td>14.2080</td>\n",
              "      <td>13.5433</td>\n",
              "      <td>3.1736</td>\n",
              "      <td>-3.3423</td>\n",
              "      <td>5.9015</td>\n",
              "      <td>7.9352</td>\n",
              "      <td>-3.1582</td>\n",
              "      <td>9.4668</td>\n",
              "      <td>-0.0083</td>\n",
              "      <td>19.3239</td>\n",
              "      <td>12.4057</td>\n",
              "      <td>0.6329</td>\n",
              "      <td>2.7922</td>\n",
              "      <td>5.8184</td>\n",
              "      <td>...</td>\n",
              "      <td>33.5107</td>\n",
              "      <td>5.6953</td>\n",
              "      <td>5.4663</td>\n",
              "      <td>18.2201</td>\n",
              "      <td>6.5769</td>\n",
              "      <td>21.2607</td>\n",
              "      <td>3.2304</td>\n",
              "      <td>-1.7759</td>\n",
              "      <td>3.1283</td>\n",
              "      <td>5.5518</td>\n",
              "      <td>1.4493</td>\n",
              "      <td>-2.6627</td>\n",
              "      <td>19.8056</td>\n",
              "      <td>2.3705</td>\n",
              "      <td>18.4685</td>\n",
              "      <td>16.3309</td>\n",
              "      <td>-3.3456</td>\n",
              "      <td>13.5261</td>\n",
              "      <td>1.7189</td>\n",
              "      <td>5.1743</td>\n",
              "      <td>-7.6938</td>\n",
              "      <td>9.7685</td>\n",
              "      <td>4.8910</td>\n",
              "      <td>12.2198</td>\n",
              "      <td>11.8503</td>\n",
              "      <td>-7.8931</td>\n",
              "      <td>6.4209</td>\n",
              "      <td>5.9270</td>\n",
              "      <td>16.0201</td>\n",
              "      <td>-0.2829</td>\n",
              "      <td>-1.4905</td>\n",
              "      <td>9.5214</td>\n",
              "      <td>-0.1508</td>\n",
              "      <td>9.1942</td>\n",
              "      <td>13.2876</td>\n",
              "      <td>-1.5121</td>\n",
              "      <td>3.9267</td>\n",
              "      <td>9.5031</td>\n",
              "      <td>17.9974</td>\n",
              "      <td>-8.8104</td>\n",
              "    </tr>\n",
              "  </tbody>\n",
              "</table>\n",
              "<p>5 rows × 202 columns</p>\n",
              "</div>"
            ],
            "text/plain": [
              "   ID_code  target    var_0   var_1  ...  var_196  var_197  var_198  var_199\n",
              "0  train_0       0   8.9255 -6.7863  ...   7.8784   8.5635  12.7803  -1.0914\n",
              "1  train_1       0  11.5006 -4.1473  ...   8.1267   8.7889  18.3560   1.9518\n",
              "2  train_2       0   8.6093 -2.7457  ...  -6.5213   8.2675  14.7222   0.3965\n",
              "3  train_3       0  11.0604 -2.1518  ...  -2.9275  10.2922  17.9697  -8.9996\n",
              "4  train_4       0   9.8369 -1.4834  ...   3.9267   9.5031  17.9974  -8.8104\n",
              "\n",
              "[5 rows x 202 columns]"
            ]
          },
          "metadata": {
            "tags": []
          },
          "execution_count": 72
        }
      ]
    },
    {
      "cell_type": "code",
      "metadata": {
        "id": "YHOxHrEONmKK",
        "colab_type": "code",
        "outputId": "c6b519a5-2459-4049-cc25-32767406414a",
        "colab": {
          "base_uri": "https://localhost:8080/",
          "height": 285
        }
      },
      "source": [
        "train['target'].hist()"
      ],
      "execution_count": 0,
      "outputs": [
        {
          "output_type": "execute_result",
          "data": {
            "text/plain": [
              "<matplotlib.axes._subplots.AxesSubplot at 0x7f58849864a8>"
            ]
          },
          "metadata": {
            "tags": []
          },
          "execution_count": 75
        },
        {
          "output_type": "display_data",
          "data": {
            "image/png": "[encoded data removed]",
            "text/plain": [
              "<Figure size 432x288 with 1 Axes>"
            ]
          },
          "metadata": {
            "tags": []
          }
        }
      ]
    },
    {
      "cell_type": "code",
      "metadata": {
        "id": "JvuWC2DBMqOg",
        "colab_type": "code",
        "outputId": "80c1be67-b752-4bbc-ce93-95d48669c698",
        "colab": {
          "base_uri": "https://localhost:8080/",
          "height": 285
        }
      },
      "source": [
        "train[\"var_0\"].hist() \n",
        "test['var_0'].hist()\n",
        "train[\"var_1\"].hist() \n",
        "test['var_1'].hist()"
      ],
      "execution_count": 0,
      "outputs": [
        {
          "output_type": "execute_result",
          "data": {
            "text/plain": [
              "<matplotlib.axes._subplots.AxesSubplot at 0x7f5882fbfe10>"
            ]
          },
          "metadata": {
            "tags": []
          },
          "execution_count": 78
        },
        {
          "output_type": "display_data",
          "data": {
            "image/png": "[encoded data removed]",
            "text/plain": [
              "<Figure size 432x288 with 1 Axes>"
            ]
          },
          "metadata": {
            "tags": []
          }
        }
      ]
    },
    {
      "cell_type": "code",
      "metadata": {
        "id": "y4PtaFhvPR1B",
        "colab_type": "code",
        "outputId": "7a61e33d-7a5a-4498-de95-1e9ffea56752",
        "colab": {
          "base_uri": "https://localhost:8080/",
          "height": 285
        }
      },
      "source": [
        "train[\"var_2\"].hist() \n",
        "test['var_2'].hist()\n",
        "train[\"var_3\"].hist() \n",
        "test['var_3'].hist()"
      ],
      "execution_count": 0,
      "outputs": [
        {
          "output_type": "execute_result",
          "data": {
            "text/plain": [
              "<matplotlib.axes._subplots.AxesSubplot at 0x7f588c588d30>"
            ]
          },
          "metadata": {
            "tags": []
          },
          "execution_count": 79
        },
        {
          "output_type": "display_data",
          "data": {
            "image/png": "[encoded data removed]",
            "text/plain": [
              "<Figure size 432x288 with 1 Axes>"
            ]
          },
          "metadata": {
            "tags": []
          }
        }
      ]
    },
    {
      "cell_type": "code",
      "metadata": {
        "id": "xtk71ofuM8xI",
        "colab_type": "code",
        "outputId": "aad31c9f-b2af-4c60-f0be-a41137ed9da6",
        "colab": {
          "base_uri": "https://localhost:8080/",
          "height": 285
        }
      },
      "source": [
        "train[\"var_40\"].hist() \n",
        "test['var_40'].hist()\n",
        "train[\"var_41\"].hist() \n",
        "test['var_41'].hist()"
      ],
      "execution_count": 0,
      "outputs": [
        {
          "output_type": "execute_result",
          "data": {
            "text/plain": [
              "<matplotlib.axes._subplots.AxesSubplot at 0x7f588471f860>"
            ]
          },
          "metadata": {
            "tags": []
          },
          "execution_count": 81
        },
        {
          "output_type": "display_data",
          "data": {
            "image/png": "[encoded data removed]",
            "text/plain": [
              "<Figure size 432x288 with 1 Axes>"
            ]
          },
          "metadata": {
            "tags": []
          }
        }
      ]
    },
    {
      "cell_type": "code",
      "metadata": {
        "id": "Blsl6MhA6wD_",
        "colab_type": "code",
        "outputId": "756ec94e-b8b0-4e41-9569-7ad7b0ca6770",
        "colab": {
          "base_uri": "https://localhost:8080/",
          "height": 253
        }
      },
      "source": [
        "test.head()"
      ],
      "execution_count": 0,
      "outputs": [
        {
          "output_type": "execute_result",
          "data": {
            "text/html": [
              "<div>\n",
              "<style scoped>\n",
              "    .dataframe tbody tr th:only-of-type {\n",
              "        vertical-align: middle;\n",
              "    }\n",
              "\n",
              "    .dataframe tbody tr th {\n",
              "        vertical-align: top;\n",
              "    }\n",
              "\n",
              "    .dataframe thead th {\n",
              "        text-align: right;\n",
              "    }\n",
              "</style>\n",
              "<table border=\"1\" class=\"dataframe\">\n",
              "  <thead>\n",
              "    <tr style=\"text-align: right;\">\n",
              "      <th></th>\n",
              "      <th>ID_code</th>\n",
              "      <th>var_0</th>\n",
              "      <th>var_1</th>\n",
              "      <th>var_2</th>\n",
              "      <th>var_3</th>\n",
              "      <th>var_4</th>\n",
              "      <th>var_5</th>\n",
              "      <th>var_6</th>\n",
              "      <th>var_7</th>\n",
              "      <th>var_8</th>\n",
              "      <th>var_9</th>\n",
              "      <th>var_10</th>\n",
              "      <th>var_11</th>\n",
              "      <th>var_12</th>\n",
              "      <th>var_13</th>\n",
              "      <th>var_14</th>\n",
              "      <th>var_15</th>\n",
              "      <th>var_16</th>\n",
              "      <th>var_17</th>\n",
              "      <th>var_18</th>\n",
              "      <th>var_19</th>\n",
              "      <th>var_20</th>\n",
              "      <th>var_21</th>\n",
              "      <th>var_22</th>\n",
              "      <th>var_23</th>\n",
              "      <th>var_24</th>\n",
              "      <th>var_25</th>\n",
              "      <th>var_26</th>\n",
              "      <th>var_27</th>\n",
              "      <th>var_28</th>\n",
              "      <th>var_29</th>\n",
              "      <th>var_30</th>\n",
              "      <th>var_31</th>\n",
              "      <th>var_32</th>\n",
              "      <th>var_33</th>\n",
              "      <th>var_34</th>\n",
              "      <th>var_35</th>\n",
              "      <th>var_36</th>\n",
              "      <th>var_37</th>\n",
              "      <th>var_38</th>\n",
              "      <th>...</th>\n",
              "      <th>var_160</th>\n",
              "      <th>var_161</th>\n",
              "      <th>var_162</th>\n",
              "      <th>var_163</th>\n",
              "      <th>var_164</th>\n",
              "      <th>var_165</th>\n",
              "      <th>var_166</th>\n",
              "      <th>var_167</th>\n",
              "      <th>var_168</th>\n",
              "      <th>var_169</th>\n",
              "      <th>var_170</th>\n",
              "      <th>var_171</th>\n",
              "      <th>var_172</th>\n",
              "      <th>var_173</th>\n",
              "      <th>var_174</th>\n",
              "      <th>var_175</th>\n",
              "      <th>var_176</th>\n",
              "      <th>var_177</th>\n",
              "      <th>var_178</th>\n",
              "      <th>var_179</th>\n",
              "      <th>var_180</th>\n",
              "      <th>var_181</th>\n",
              "      <th>var_182</th>\n",
              "      <th>var_183</th>\n",
              "      <th>var_184</th>\n",
              "      <th>var_185</th>\n",
              "      <th>var_186</th>\n",
              "      <th>var_187</th>\n",
              "      <th>var_188</th>\n",
              "      <th>var_189</th>\n",
              "      <th>var_190</th>\n",
              "      <th>var_191</th>\n",
              "      <th>var_192</th>\n",
              "      <th>var_193</th>\n",
              "      <th>var_194</th>\n",
              "      <th>var_195</th>\n",
              "      <th>var_196</th>\n",
              "      <th>var_197</th>\n",
              "      <th>var_198</th>\n",
              "      <th>var_199</th>\n",
              "    </tr>\n",
              "  </thead>\n",
              "  <tbody>\n",
              "    <tr>\n",
              "      <th>0</th>\n",
              "      <td>test_0</td>\n",
              "      <td>11.0656</td>\n",
              "      <td>7.7798</td>\n",
              "      <td>12.9536</td>\n",
              "      <td>9.4292</td>\n",
              "      <td>11.4327</td>\n",
              "      <td>-2.3805</td>\n",
              "      <td>5.8493</td>\n",
              "      <td>18.2675</td>\n",
              "      <td>2.1337</td>\n",
              "      <td>8.8100</td>\n",
              "      <td>-2.0248</td>\n",
              "      <td>-4.3554</td>\n",
              "      <td>13.9696</td>\n",
              "      <td>0.3458</td>\n",
              "      <td>7.5408</td>\n",
              "      <td>14.5001</td>\n",
              "      <td>7.7028</td>\n",
              "      <td>-19.0919</td>\n",
              "      <td>15.5806</td>\n",
              "      <td>16.1763</td>\n",
              "      <td>3.7088</td>\n",
              "      <td>18.8064</td>\n",
              "      <td>1.5899</td>\n",
              "      <td>3.0654</td>\n",
              "      <td>6.4509</td>\n",
              "      <td>14.1192</td>\n",
              "      <td>-9.4902</td>\n",
              "      <td>-2.1917</td>\n",
              "      <td>5.7107</td>\n",
              "      <td>3.7864</td>\n",
              "      <td>-1.7981</td>\n",
              "      <td>9.2645</td>\n",
              "      <td>2.0657</td>\n",
              "      <td>12.7753</td>\n",
              "      <td>11.3334</td>\n",
              "      <td>8.1462</td>\n",
              "      <td>-0.0610</td>\n",
              "      <td>3.5331</td>\n",
              "      <td>9.7804</td>\n",
              "      <td>...</td>\n",
              "      <td>5.9232</td>\n",
              "      <td>5.4113</td>\n",
              "      <td>3.8302</td>\n",
              "      <td>5.7380</td>\n",
              "      <td>-8.6105</td>\n",
              "      <td>22.9530</td>\n",
              "      <td>2.5531</td>\n",
              "      <td>-0.2836</td>\n",
              "      <td>4.3416</td>\n",
              "      <td>5.1855</td>\n",
              "      <td>4.2603</td>\n",
              "      <td>1.6779</td>\n",
              "      <td>29.0849</td>\n",
              "      <td>8.4685</td>\n",
              "      <td>18.1317</td>\n",
              "      <td>12.2818</td>\n",
              "      <td>-0.6912</td>\n",
              "      <td>10.2226</td>\n",
              "      <td>-5.5579</td>\n",
              "      <td>2.2926</td>\n",
              "      <td>-4.5358</td>\n",
              "      <td>10.3903</td>\n",
              "      <td>-15.4937</td>\n",
              "      <td>3.9697</td>\n",
              "      <td>31.3521</td>\n",
              "      <td>-1.1651</td>\n",
              "      <td>9.2874</td>\n",
              "      <td>-23.5705</td>\n",
              "      <td>13.2643</td>\n",
              "      <td>1.6591</td>\n",
              "      <td>-2.1556</td>\n",
              "      <td>11.8495</td>\n",
              "      <td>-1.4300</td>\n",
              "      <td>2.4508</td>\n",
              "      <td>13.7112</td>\n",
              "      <td>2.4669</td>\n",
              "      <td>4.3654</td>\n",
              "      <td>10.7200</td>\n",
              "      <td>15.4722</td>\n",
              "      <td>-8.7197</td>\n",
              "    </tr>\n",
              "    <tr>\n",
              "      <th>1</th>\n",
              "      <td>test_1</td>\n",
              "      <td>8.5304</td>\n",
              "      <td>1.2543</td>\n",
              "      <td>11.3047</td>\n",
              "      <td>5.1858</td>\n",
              "      <td>9.1974</td>\n",
              "      <td>-4.0117</td>\n",
              "      <td>6.0196</td>\n",
              "      <td>18.6316</td>\n",
              "      <td>-4.4131</td>\n",
              "      <td>5.9739</td>\n",
              "      <td>-1.3809</td>\n",
              "      <td>-0.3310</td>\n",
              "      <td>14.1129</td>\n",
              "      <td>2.5667</td>\n",
              "      <td>5.4988</td>\n",
              "      <td>14.1853</td>\n",
              "      <td>7.0196</td>\n",
              "      <td>4.6564</td>\n",
              "      <td>29.1609</td>\n",
              "      <td>0.0910</td>\n",
              "      <td>12.1469</td>\n",
              "      <td>3.1389</td>\n",
              "      <td>5.2578</td>\n",
              "      <td>2.4228</td>\n",
              "      <td>16.2064</td>\n",
              "      <td>13.5023</td>\n",
              "      <td>-5.2341</td>\n",
              "      <td>-3.6648</td>\n",
              "      <td>5.7080</td>\n",
              "      <td>2.9965</td>\n",
              "      <td>-10.4720</td>\n",
              "      <td>11.4938</td>\n",
              "      <td>-0.9660</td>\n",
              "      <td>15.3445</td>\n",
              "      <td>10.6361</td>\n",
              "      <td>0.8966</td>\n",
              "      <td>6.7428</td>\n",
              "      <td>2.3421</td>\n",
              "      <td>12.8678</td>\n",
              "      <td>...</td>\n",
              "      <td>30.9641</td>\n",
              "      <td>5.6723</td>\n",
              "      <td>3.6873</td>\n",
              "      <td>13.0429</td>\n",
              "      <td>-10.6572</td>\n",
              "      <td>15.5134</td>\n",
              "      <td>3.2185</td>\n",
              "      <td>9.0535</td>\n",
              "      <td>7.0535</td>\n",
              "      <td>5.3924</td>\n",
              "      <td>-0.7720</td>\n",
              "      <td>-8.1783</td>\n",
              "      <td>29.9227</td>\n",
              "      <td>-5.6274</td>\n",
              "      <td>10.5018</td>\n",
              "      <td>9.6083</td>\n",
              "      <td>-0.4935</td>\n",
              "      <td>8.1696</td>\n",
              "      <td>-4.3605</td>\n",
              "      <td>5.2110</td>\n",
              "      <td>0.4087</td>\n",
              "      <td>12.0030</td>\n",
              "      <td>-10.3812</td>\n",
              "      <td>5.8496</td>\n",
              "      <td>25.1958</td>\n",
              "      <td>-8.8468</td>\n",
              "      <td>11.8263</td>\n",
              "      <td>-8.7112</td>\n",
              "      <td>15.9072</td>\n",
              "      <td>0.9812</td>\n",
              "      <td>10.6165</td>\n",
              "      <td>8.8349</td>\n",
              "      <td>0.9403</td>\n",
              "      <td>10.1282</td>\n",
              "      <td>15.5765</td>\n",
              "      <td>0.4773</td>\n",
              "      <td>-1.4852</td>\n",
              "      <td>9.8714</td>\n",
              "      <td>19.1293</td>\n",
              "      <td>-20.9760</td>\n",
              "    </tr>\n",
              "    <tr>\n",
              "      <th>2</th>\n",
              "      <td>test_2</td>\n",
              "      <td>5.4827</td>\n",
              "      <td>-10.3581</td>\n",
              "      <td>10.1407</td>\n",
              "      <td>7.0479</td>\n",
              "      <td>10.2628</td>\n",
              "      <td>9.8052</td>\n",
              "      <td>4.8950</td>\n",
              "      <td>20.2537</td>\n",
              "      <td>1.5233</td>\n",
              "      <td>8.3442</td>\n",
              "      <td>-4.7057</td>\n",
              "      <td>-3.0422</td>\n",
              "      <td>13.6751</td>\n",
              "      <td>3.8183</td>\n",
              "      <td>10.8535</td>\n",
              "      <td>14.2126</td>\n",
              "      <td>9.8837</td>\n",
              "      <td>2.6541</td>\n",
              "      <td>21.2181</td>\n",
              "      <td>20.8163</td>\n",
              "      <td>12.4666</td>\n",
              "      <td>12.3696</td>\n",
              "      <td>4.7473</td>\n",
              "      <td>2.7936</td>\n",
              "      <td>5.2189</td>\n",
              "      <td>13.5670</td>\n",
              "      <td>-15.4246</td>\n",
              "      <td>-0.1655</td>\n",
              "      <td>7.2633</td>\n",
              "      <td>3.4310</td>\n",
              "      <td>-9.1508</td>\n",
              "      <td>9.7320</td>\n",
              "      <td>3.1062</td>\n",
              "      <td>22.3076</td>\n",
              "      <td>11.9593</td>\n",
              "      <td>9.9255</td>\n",
              "      <td>4.0702</td>\n",
              "      <td>4.9934</td>\n",
              "      <td>8.0667</td>\n",
              "      <td>...</td>\n",
              "      <td>39.3654</td>\n",
              "      <td>5.5228</td>\n",
              "      <td>3.3159</td>\n",
              "      <td>4.3324</td>\n",
              "      <td>-0.5382</td>\n",
              "      <td>13.3009</td>\n",
              "      <td>3.1243</td>\n",
              "      <td>-4.1731</td>\n",
              "      <td>1.2330</td>\n",
              "      <td>6.1513</td>\n",
              "      <td>-0.0391</td>\n",
              "      <td>1.4950</td>\n",
              "      <td>16.8874</td>\n",
              "      <td>-2.9787</td>\n",
              "      <td>27.4035</td>\n",
              "      <td>15.8819</td>\n",
              "      <td>-10.9660</td>\n",
              "      <td>15.6415</td>\n",
              "      <td>-9.4056</td>\n",
              "      <td>4.4611</td>\n",
              "      <td>-3.0835</td>\n",
              "      <td>8.5549</td>\n",
              "      <td>-2.8517</td>\n",
              "      <td>13.4770</td>\n",
              "      <td>24.4721</td>\n",
              "      <td>-3.4824</td>\n",
              "      <td>4.9178</td>\n",
              "      <td>-2.0720</td>\n",
              "      <td>11.5390</td>\n",
              "      <td>1.1821</td>\n",
              "      <td>-0.7484</td>\n",
              "      <td>10.9935</td>\n",
              "      <td>1.9803</td>\n",
              "      <td>2.1800</td>\n",
              "      <td>12.9813</td>\n",
              "      <td>2.1281</td>\n",
              "      <td>-7.1086</td>\n",
              "      <td>7.0618</td>\n",
              "      <td>19.8956</td>\n",
              "      <td>-23.1794</td>\n",
              "    </tr>\n",
              "    <tr>\n",
              "      <th>3</th>\n",
              "      <td>test_3</td>\n",
              "      <td>8.5374</td>\n",
              "      <td>-1.3222</td>\n",
              "      <td>12.0220</td>\n",
              "      <td>6.5749</td>\n",
              "      <td>8.8458</td>\n",
              "      <td>3.1744</td>\n",
              "      <td>4.9397</td>\n",
              "      <td>20.5660</td>\n",
              "      <td>3.3755</td>\n",
              "      <td>7.4578</td>\n",
              "      <td>0.0095</td>\n",
              "      <td>-5.0659</td>\n",
              "      <td>14.0526</td>\n",
              "      <td>13.5010</td>\n",
              "      <td>8.7660</td>\n",
              "      <td>14.7352</td>\n",
              "      <td>10.0383</td>\n",
              "      <td>-15.3508</td>\n",
              "      <td>2.1273</td>\n",
              "      <td>21.4797</td>\n",
              "      <td>14.5372</td>\n",
              "      <td>12.5527</td>\n",
              "      <td>2.9707</td>\n",
              "      <td>4.2398</td>\n",
              "      <td>13.7796</td>\n",
              "      <td>14.1408</td>\n",
              "      <td>1.0061</td>\n",
              "      <td>-1.3479</td>\n",
              "      <td>5.2570</td>\n",
              "      <td>6.5911</td>\n",
              "      <td>6.2161</td>\n",
              "      <td>9.5540</td>\n",
              "      <td>2.3628</td>\n",
              "      <td>10.2124</td>\n",
              "      <td>10.8047</td>\n",
              "      <td>-2.5588</td>\n",
              "      <td>6.0720</td>\n",
              "      <td>3.2613</td>\n",
              "      <td>16.5632</td>\n",
              "      <td>...</td>\n",
              "      <td>19.7251</td>\n",
              "      <td>5.3882</td>\n",
              "      <td>3.6775</td>\n",
              "      <td>7.4753</td>\n",
              "      <td>-11.0780</td>\n",
              "      <td>24.8712</td>\n",
              "      <td>2.6415</td>\n",
              "      <td>2.2673</td>\n",
              "      <td>7.2788</td>\n",
              "      <td>5.6406</td>\n",
              "      <td>7.2048</td>\n",
              "      <td>3.4504</td>\n",
              "      <td>2.4130</td>\n",
              "      <td>11.1674</td>\n",
              "      <td>14.5499</td>\n",
              "      <td>10.6151</td>\n",
              "      <td>-5.7922</td>\n",
              "      <td>13.9407</td>\n",
              "      <td>7.1078</td>\n",
              "      <td>1.1019</td>\n",
              "      <td>9.4590</td>\n",
              "      <td>9.8243</td>\n",
              "      <td>5.9917</td>\n",
              "      <td>5.1634</td>\n",
              "      <td>8.1154</td>\n",
              "      <td>3.6638</td>\n",
              "      <td>3.3102</td>\n",
              "      <td>-19.7819</td>\n",
              "      <td>13.4499</td>\n",
              "      <td>1.3104</td>\n",
              "      <td>9.5702</td>\n",
              "      <td>9.0766</td>\n",
              "      <td>1.6580</td>\n",
              "      <td>3.5813</td>\n",
              "      <td>15.1874</td>\n",
              "      <td>3.1656</td>\n",
              "      <td>3.9567</td>\n",
              "      <td>9.2295</td>\n",
              "      <td>13.0168</td>\n",
              "      <td>-4.2108</td>\n",
              "    </tr>\n",
              "    <tr>\n",
              "      <th>4</th>\n",
              "      <td>test_4</td>\n",
              "      <td>11.7058</td>\n",
              "      <td>-0.1327</td>\n",
              "      <td>14.1295</td>\n",
              "      <td>7.7506</td>\n",
              "      <td>9.1035</td>\n",
              "      <td>-8.5848</td>\n",
              "      <td>6.8595</td>\n",
              "      <td>10.6048</td>\n",
              "      <td>2.9890</td>\n",
              "      <td>7.1437</td>\n",
              "      <td>5.1025</td>\n",
              "      <td>-3.2827</td>\n",
              "      <td>14.1013</td>\n",
              "      <td>8.9672</td>\n",
              "      <td>4.7276</td>\n",
              "      <td>14.5811</td>\n",
              "      <td>11.8615</td>\n",
              "      <td>3.1480</td>\n",
              "      <td>18.0126</td>\n",
              "      <td>13.8006</td>\n",
              "      <td>1.6026</td>\n",
              "      <td>16.3059</td>\n",
              "      <td>6.7954</td>\n",
              "      <td>3.6015</td>\n",
              "      <td>13.6569</td>\n",
              "      <td>13.8807</td>\n",
              "      <td>8.6228</td>\n",
              "      <td>-2.2654</td>\n",
              "      <td>5.2255</td>\n",
              "      <td>7.0165</td>\n",
              "      <td>-15.6961</td>\n",
              "      <td>10.6239</td>\n",
              "      <td>-4.7674</td>\n",
              "      <td>17.5447</td>\n",
              "      <td>11.8668</td>\n",
              "      <td>3.0154</td>\n",
              "      <td>4.2546</td>\n",
              "      <td>6.7601</td>\n",
              "      <td>5.9613</td>\n",
              "      <td>...</td>\n",
              "      <td>22.8700</td>\n",
              "      <td>5.6688</td>\n",
              "      <td>6.1159</td>\n",
              "      <td>13.2433</td>\n",
              "      <td>-11.9785</td>\n",
              "      <td>26.2040</td>\n",
              "      <td>3.2348</td>\n",
              "      <td>-5.5775</td>\n",
              "      <td>5.7036</td>\n",
              "      <td>6.1717</td>\n",
              "      <td>-1.6039</td>\n",
              "      <td>-2.4866</td>\n",
              "      <td>17.2728</td>\n",
              "      <td>2.3640</td>\n",
              "      <td>14.0037</td>\n",
              "      <td>12.9165</td>\n",
              "      <td>-12.0311</td>\n",
              "      <td>10.1161</td>\n",
              "      <td>-8.7562</td>\n",
              "      <td>6.0889</td>\n",
              "      <td>-1.3620</td>\n",
              "      <td>10.3559</td>\n",
              "      <td>-7.4915</td>\n",
              "      <td>9.4588</td>\n",
              "      <td>3.9829</td>\n",
              "      <td>5.8580</td>\n",
              "      <td>8.3635</td>\n",
              "      <td>-24.8254</td>\n",
              "      <td>11.4928</td>\n",
              "      <td>1.6321</td>\n",
              "      <td>4.2259</td>\n",
              "      <td>9.1723</td>\n",
              "      <td>1.2835</td>\n",
              "      <td>3.3778</td>\n",
              "      <td>19.5542</td>\n",
              "      <td>-0.2860</td>\n",
              "      <td>-5.1612</td>\n",
              "      <td>7.2882</td>\n",
              "      <td>13.9260</td>\n",
              "      <td>-9.1846</td>\n",
              "    </tr>\n",
              "  </tbody>\n",
              "</table>\n",
              "<p>5 rows × 201 columns</p>\n",
              "</div>"
            ],
            "text/plain": [
              "  ID_code    var_0    var_1    var_2  ...  var_196  var_197  var_198  var_199\n",
              "0  test_0  11.0656   7.7798  12.9536  ...   4.3654  10.7200  15.4722  -8.7197\n",
              "1  test_1   8.5304   1.2543  11.3047  ...  -1.4852   9.8714  19.1293 -20.9760\n",
              "2  test_2   5.4827 -10.3581  10.1407  ...  -7.1086   7.0618  19.8956 -23.1794\n",
              "3  test_3   8.5374  -1.3222  12.0220  ...   3.9567   9.2295  13.0168  -4.2108\n",
              "4  test_4  11.7058  -0.1327  14.1295  ...  -5.1612   7.2882  13.9260  -9.1846\n",
              "\n",
              "[5 rows x 201 columns]"
            ]
          },
          "metadata": {
            "tags": []
          },
          "execution_count": 29
        }
      ]
    },
    {
      "cell_type": "code",
      "metadata": {
        "id": "trduvsaIW8ND",
        "colab_type": "code",
        "outputId": "5e795eb1-e9c7-43e8-f05b-79d0b9191088",
        "colab": {
          "base_uri": "https://localhost:8080/",
          "height": 51
        }
      },
      "source": [
        "print('train shape:', train.shape)\n",
        "print('test shape:',test.shape)"
      ],
      "execution_count": 0,
      "outputs": [
        {
          "output_type": "stream",
          "text": [
            "train shape: (200000, 202)\n",
            "test shape: (200000, 201)\n"
          ],
          "name": "stdout"
        }
      ]
    },
    {
      "cell_type": "markdown",
      "metadata": {
        "id": "7BPVsOXUsB4C",
        "colab_type": "text"
      },
      "source": [
        "Since train data has the original ‘target’ variable which is not present in test, we have to drop that variable too."
      ]
    },
    {
      "cell_type": "code",
      "metadata": {
        "id": "wxPqalhSdlA1",
        "colab_type": "code",
        "colab": {}
      },
      "source": [
        "#dropping ‘target’ column as well because it is not present in the test\n",
        "train.drop(columns=['ID_code', 'target'], inplace=True)\n",
        "test.drop(columns=['ID_code'], inplace=True)"
      ],
      "execution_count": 0,
      "outputs": []
    },
    {
      "cell_type": "markdown",
      "metadata": {
        "id": "2hM29mZb9xGJ",
        "colab_type": "text"
      },
      "source": [
        "###Indicator for source of origin\n",
        "We have to add a feature ‘is_train’ in both train and test data. Value for this feature will be 0 for test and 1 for train."
      ]
    },
    {
      "cell_type": "code",
      "metadata": {
        "id": "cK4fQl9L6v8u",
        "colab_type": "code",
        "colab": {}
      },
      "source": [
        "#adding a column to identify whether a row comes from train or not\n",
        "test['is_train'] = 1\n",
        "train['is_train'] = 0 "
      ],
      "execution_count": 0,
      "outputs": []
    },
    {
      "cell_type": "markdown",
      "metadata": {
        "id": "Kryxe5v_-VNg",
        "colab_type": "text"
      },
      "source": [
        "###Combining train and test\n",
        "Then we have to combine both the datasets. "
      ]
    },
    {
      "cell_type": "code",
      "metadata": {
        "id": "TqIG0izi7oEq",
        "colab_type": "code",
        "outputId": "b7633ca1-1bbf-46c6-c5ad-154a893576ba",
        "colab": {
          "base_uri": "https://localhost:8080/",
          "height": 34
        }
      },
      "source": [
        "from sklearn.model_selection import train_test_split\n",
        "#combining test and train data\n",
        "df_combine = pd.concat([train, test], axis=0, ignore_index=True)\n",
        "y = df_combine['is_train'].values #labels\n",
        "X = df_combine.drop('is_train', axis=1).values #covariates or our independent variables\n",
        "\n",
        "X_train, X_test, y_train, y_test = train_test_split(X, y, test_size=0.3, random_state=42, shuffle=True)\n",
        "print('set2 train shape:', X_train.shape, 'set2 test shape:', X_test.shape)"
      ],
      "execution_count": 0,
      "outputs": [
        {
          "output_type": "stream",
          "text": [
            "train2 shape: (280000, 200) test2 shape: (120000, 200)\n"
          ],
          "name": "stdout"
        }
      ]
    },
    {
      "cell_type": "code",
      "metadata": {
        "id": "peadxsn3zWIB",
        "colab_type": "code",
        "outputId": "c4ee4aaa-98d2-4f89-a6d8-23da8813ecaf",
        "colab": {
          "base_uri": "https://localhost:8080/",
          "height": 34
        }
      },
      "source": [
        "print('y_test shape:', y_test.shape, 'y_train shape:', y_train.shape)"
      ],
      "execution_count": 0,
      "outputs": [
        {
          "output_type": "stream",
          "text": [
            "y_test shape: (120000,) y_train shape: (280000,)\n"
          ],
          "name": "stdout"
        }
      ]
    },
    {
      "cell_type": "markdown",
      "metadata": {
        "id": "PXmmRz6b_a-I",
        "colab_type": "text"
      },
      "source": [
        "###Building and testing a classifier\n",
        "For classification purposes I’m using Random Forest Classifier to predict the labels for each row in the combined dataset."
      ]
    },
    {
      "cell_type": "code",
      "metadata": {
        "id": "ZNk_iTq06vtQ",
        "colab_type": "code",
        "colab": {}
      },
      "source": [
        "clf = RandomForestClassifier(n_jobs=-1, max_depth=5, min_samples_leaf = 5)\n",
        "#predictions = np.zeros(y.shape) #creating an empty prediction array"
      ],
      "execution_count": 0,
      "outputs": []
    },
    {
      "cell_type": "markdown",
      "metadata": {
        "id": "-Vztj0xr_vAN",
        "colab_type": "text"
      },
      "source": [
        " For each row the classifier will calculate the prediction of it belonging to train."
      ]
    },
    {
      "cell_type": "code",
      "metadata": {
        "id": "zLNHSU5o_wJP",
        "colab_type": "code",
        "colab": {}
      },
      "source": [
        "clf.fit(X_train, y_train)\n",
        "probs_y_test = clf.predict(X_test) #calculating the predictions"
      ],
      "execution_count": 0,
      "outputs": []
    },
    {
      "cell_type": "markdown",
      "metadata": {
        "id": "8Cck2IfWmBw5",
        "colab_type": "text"
      },
      "source": [
        "###Interpreting the results\n",
        "Output of the ROC-AUC metric for our classifier as an estimation of how much covariate shift this data has."
      ]
    },
    {
      "cell_type": "markdown",
      "metadata": {
        "id": "mV3bXR20mKfa",
        "colab_type": "text"
      },
      "source": [
        "If the classifier is able to classify the rows into train and test with good accuracy, our AUC score should be on the higher side (greater than 0.8). This implies a strong covariate shift between train and test."
      ]
    },
    {
      "cell_type": "code",
      "metadata": {
        "id": "b9UQlv1YnxpT",
        "colab_type": "code",
        "colab": {}
      },
      "source": [
        "from sklearn.metrics import roc_auc_score as AUC"
      ],
      "execution_count": 0,
      "outputs": []
    },
    {
      "cell_type": "code",
      "metadata": {
        "id": "dkfXaIyJmMEM",
        "colab_type": "code",
        "outputId": "941436a2-095b-4421-97ba-d8f9006a7a84",
        "colab": {
          "base_uri": "https://localhost:8080/",
          "height": 34
        }
      },
      "source": [
        "print('ROC-AUC for train and test distributions:', round(AUC(y_true=y_test, y_score=probs_y_test[:,1]), 4))"
      ],
      "execution_count": 0,
      "outputs": [
        {
          "output_type": "stream",
          "text": [
            "ROC-AUC for train and test distributions: 0.5134\n"
          ],
          "name": "stdout"
        }
      ]
    },
    {
      "cell_type": "markdown",
      "metadata": {
        "id": "v_0l0MhK2Cya",
        "colab_type": "text"
      },
      "source": [
        "As we can see, classifier did not find any reasonable difference between train data and test data. As per the considered threshold value  this AUC score is ignorable and can conclude that this dataset does not contain any covariate shift."
      ]
    },
    {
      "cell_type": "markdown",
      "metadata": {
        "id": "G-GBNkpOoQDJ",
        "colab_type": "text"
      },
      "source": [
        "As per the AUC score we attained from data, we can say that there is no strong presence of covariate shift in the dataset. Classifier could not find the reasonable difference between train and test data."
      ]
    }
  ]
}